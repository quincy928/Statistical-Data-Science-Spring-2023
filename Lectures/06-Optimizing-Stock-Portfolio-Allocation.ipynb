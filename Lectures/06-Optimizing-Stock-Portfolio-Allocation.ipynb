{
 "cells": [
  {
   "cell_type": "markdown",
   "metadata": {
    "slideshow": {
     "slide_type": "slide"
    }
   },
   "source": [
    "# Optimizing Stock Portfolio Allocation <a class='tocSkip'>\n"
   ]
  },
  {
   "cell_type": "markdown",
   "metadata": {
    "slideshow": {
     "slide_type": "slide"
    },
    "tags": []
   },
   "source": [
    "## Installing Packages in Python\n",
    "\n",
    "* Default package source for `pip` command is Python Package Index (PyPI)  \n",
    "    e.g., https://pypi.org/project/yfinance/\n",
    "* Can also install from github repository: \n",
    "    https://pypi.org/project/yfinance/"
   ]
  },
  {
   "cell_type": "code",
   "execution_count": null,
   "metadata": {
    "slideshow": {
     "slide_type": "subslide"
    },
    "tags": []
   },
   "outputs": [],
   "source": [
    "# install from pypi\n",
    "!pip install yfinance"
   ]
  },
  {
   "cell_type": "code",
   "execution_count": null,
   "metadata": {
    "hideCode": false,
    "slideshow": {
     "slide_type": "subslide"
    },
    "tags": []
   },
   "outputs": [],
   "source": [
    "# install from github\n",
    "#!pip install git+https://github.com/ranaroussi/yfinance"
   ]
  },
  {
   "cell_type": "code",
   "execution_count": 2,
   "metadata": {
    "tags": []
   },
   "outputs": [
    {
     "name": "stdout",
     "output_type": "stream",
     "text": [
      "Requirement already satisfied: cvxpy in /opt/conda/lib/python3.10/site-packages (1.3.1)\n",
      "Requirement already satisfied: setuptools>65.5.1 in /opt/conda/lib/python3.10/site-packages (from cvxpy) (67.6.0)\n",
      "Requirement already satisfied: osqp>=0.4.1 in /opt/conda/lib/python3.10/site-packages (from cvxpy) (0.6.2.post9)\n",
      "Requirement already satisfied: scipy>=1.1.0 in /opt/conda/lib/python3.10/site-packages (from cvxpy) (1.10.1)\n",
      "Requirement already satisfied: numpy>=1.15 in /opt/conda/lib/python3.10/site-packages (from cvxpy) (1.23.5)\n",
      "Requirement already satisfied: scs>=1.1.6 in /opt/conda/lib/python3.10/site-packages (from cvxpy) (3.2.3)\n",
      "Requirement already satisfied: ecos>=2 in /opt/conda/lib/python3.10/site-packages (from cvxpy) (2.0.12)\n",
      "Requirement already satisfied: qdldl in /opt/conda/lib/python3.10/site-packages (from osqp>=0.4.1->cvxpy) (0.1.7)\n"
     ]
    }
   ],
   "source": [
    "!pip install cvxpy"
   ]
  },
  {
   "cell_type": "code",
   "execution_count": 104,
   "metadata": {
    "slideshow": {
     "slide_type": "skip"
    },
    "tags": []
   },
   "outputs": [],
   "source": [
    "import pandas as pd\n",
    "import numpy as np\n",
    "import pickle\n",
    "import cvxpy\n",
    "import warnings\n",
    "warnings.filterwarnings(\"ignore\")"
   ]
  },
  {
   "cell_type": "markdown",
   "metadata": {
    "slideshow": {
     "slide_type": "slide"
    }
   },
   "source": [
    "## Introduction to Portfolio Theory\n",
    "\n",
    "### Stock Prices vs. Returns \n",
    "\n",
    "* Model stock returns as random variables\n",
    "* Returns depend on change in stock prices:  \n",
    "    $$ R_t = \\frac{P_t - P_{t-1}}{P_{t-1}} = \\frac{P_t}{P_{t-1}} - 1 $$"
   ]
  },
  {
   "cell_type": "markdown",
   "metadata": {
    "slideshow": {
     "slide_type": "fragment"
    }
   },
   "source": [
    "* Linear approximation of $\\log(1+x)\\approx x$ when $x$ is small. \n",
    "* Since daily stock returns are small,\n",
    "$$ R_t \\approx \\log(1 + R_t) = \\log\\left(\\frac{P_t}{P_{t-1}}\\right) = \\log(P_t) - \\log(P_{t-1})$$"
   ]
  },
  {
   "cell_type": "markdown",
   "metadata": {
    "slideshow": {
     "slide_type": "fragment"
    }
   },
   "source": [
    "* Compute the log-returns then difference of log prices (converting data)"
   ]
  },
  {
   "cell_type": "markdown",
   "metadata": {
    "slideshow": {
     "slide_type": "subslide"
    }
   },
   "source": [
    "### Modeling Stock Returns\n",
    "\n",
    "* In classical portfolio theory, stock returns are normally distributed\n",
    "* Daily returns of two stocks: $R_A$ and $R_B$ of two stocks $A$ and $B$\n",
    "* Jointly normally distributed: bivariate normal distribution: \n",
    "$$\\begin{aligned}\n",
    "\\begin{pmatrix}\n",
    "R_A\\\\ R_B\n",
    "\\end{pmatrix}\n",
    "\\sim\n",
    "N\\left(\n",
    "\\begin{pmatrix}\n",
    "\\mu_A\\\\ \\mu_B\n",
    "\\end{pmatrix},\n",
    "\\begin{pmatrix}\n",
    "\\sigma_A^2 & \\sigma_{AB}\\\\\n",
    "\\sigma_{AB} & \\sigma_B^2\n",
    "\\end{pmatrix}\n",
    "\\right)\n",
    "\\end{aligned}$$"
   ]
  },
  {
   "cell_type": "markdown",
   "metadata": {
    "slideshow": {
     "slide_type": "fragment"
    }
   },
   "source": [
    "* Marginal distributions: \n",
    "$$R_A \\sim N(\\mu_A,\\sigma_A^2) \\text{, and } R_B \\sim N(\\mu_B,\\sigma_B^2),$$\n",
    "* Covariance and correlation are\n",
    "$$\\sigma_\\text{AB} = \\text{Cov}(R_A,R_B) \\text{, and } \\rho_\\text{AB} = \\frac{\\sigma_\\text{AB}}{\\sigma_A\\sigma_B}$$"
   ]
  },
  {
   "cell_type": "markdown",
   "metadata": {
    "slideshow": {
     "slide_type": "subslide"
    }
   },
   "source": [
    "### Modeling Portfolio Returns\n",
    "\n",
    "* Two-stock portfolio: Return for the portfolio $R_p$ is \n",
    "$$R_p = R_A x_A + R_B x_B,$$\n",
    "* Allocations: $x_A$ and $x_B$ are proportions of stocks $A$ and $B$ such that  \n",
    "$$x_A + x_B = 1$$"
   ]
  },
  {
   "cell_type": "markdown",
   "metadata": {
    "slideshow": {
     "slide_type": "fragment"
    }
   },
   "source": [
    "* $R_p$ is also normally distributed with following mean and variance:\n",
    "$$\\begin{aligned}\n",
    "\\mu_p &= \\text{E}(R_p) \\\\\n",
    "    &= \\text{E}(R_B)\\, x_A + \\text{E}(R_B)\\, x_B\\\\\n",
    "    &= \\mu_A x_A + \\mu_B x_B\\\\\n",
    "\\sigma_p^2 &= \\text{Var}(R_p) \\\\\n",
    "    &= \\text{E}\\left((R_p - \\text{E}(R_p))^2\\right) \\\\\n",
    "    &= \\sigma_A^2\\,x_A^2 + \\sigma_B^2\\,x_B^2 + 2\\sigma_{AB}x_A x_B.\n",
    "\\end{aligned}\n",
    "$$\n",
    "Note that $\\sigma_{AB} = \\rho_{AB}\\sigma_A\\sigma_B$.\n",
    "* Distribution of the portfolio return is\n",
    "$$ R_p \\sim N(\\mu_p, \\sigma_p^2) $$"
   ]
  },
  {
   "cell_type": "markdown",
   "metadata": {
    "slideshow": {
     "slide_type": "subslide"
    }
   },
   "source": [
    "### Hedging Portfolio Risk\n",
    "\n",
    "* Mean return ($\\mu_p$): weighted average of returns\n",
    "* Risk ($\\sigma_p^2$):  Risk of $p$ can be decreased if $\\rho<0$\n",
    "* Hedge risk by having negatively correlated stocks"
   ]
  },
  {
   "cell_type": "markdown",
   "metadata": {
    "slideshow": {
     "slide_type": "subslide"
    }
   },
   "source": [
    "## Toy Example: Simulating $R_A$ and $R_B$\n",
    "\n",
    "* $R_A\\sim N(0.15, 0.1^2)$ and $R_B\\sim N(0.1, 0.05^2)$\n",
    "* Correlation: $\\rho_{AB} = -0.15$\n",
    "* Portfolio weight distributed evenly: i.e. $x_A = x_B = 0.5$"
   ]
  },
  {
   "cell_type": "code",
   "execution_count": 61,
   "metadata": {
    "slideshow": {
     "slide_type": "-"
    },
    "tags": []
   },
   "outputs": [],
   "source": [
    "# Dictionaries\n",
    "A = {'mu': 0.15, 'sig': 0.1,  'proportion': 0.5}\n",
    "B = {'mu': 0.1,  'sig': 0.05, 'proportion': 0.5}"
   ]
  },
  {
   "cell_type": "markdown",
   "metadata": {
    "slideshow": {
     "slide_type": "subslide"
    }
   },
   "source": [
    "### Generate random returns"
   ]
  },
  {
   "cell_type": "code",
   "execution_count": 62,
   "metadata": {
    "slideshow": {
     "slide_type": "-"
    },
    "tags": []
   },
   "outputs": [],
   "source": [
    "def simulate_returns(A, B, correlation, size=100):\n",
    "    \n",
    "    from numpy import sqrt\n",
    "    from numpy.random import multivariate_normal\n",
    "    from pandas import DataFrame\n",
    "    \n",
    "    # what could go wrong with rounding errors?\n",
    "    assert(A['proportion'] + B['proportion'] == 1) \n",
    "\n",
    "    # construct bivariate normal random variable\n",
    "    mu = [A['mu'], B['mu']]\n",
    "    sigma = [[A['sig']**2, correlation*A['sig']*B['sig']],\n",
    "             [correlation*A['sig']*B['sig'], B['sig']**2]]\n",
    "    \n",
    "    # get random observations\n",
    "    R = multivariate_normal(mu, sigma, size)\n",
    "    Rp = R[:,0]*A['proportion'] + R[:,1]*B['proportion']\n",
    "    \n",
    "    # simulated returns\n",
    "    R = np.hstack((R, Rp.reshape((-1,1))))\n",
    "    \n",
    "    # theoretical properties of portfolio returns\n",
    "    p = {\n",
    "        'mu': A['mu']*A['proportion'] + B['mu']*B['proportion'],\n",
    "        'sig': sqrt(\n",
    "            A['sig']**2*A['proportion']**2 + B['sig']**2*B['proportion']**2 \n",
    "            + 2*correlation*A['sig']*B['sig']*A['proportion']*B['proportion'])\n",
    "        }\n",
    "    \n",
    "    return p, DataFrame(R, columns=['A', 'B', 'p'])"
   ]
  },
  {
   "cell_type": "markdown",
   "metadata": {
    "slideshow": {
     "slide_type": "subslide"
    }
   },
   "source": [
    "### Empirical Returns"
   ]
  },
  {
   "cell_type": "code",
   "execution_count": 63,
   "metadata": {
    "slideshow": {
     "slide_type": "-"
    },
    "tags": []
   },
   "outputs": [
    {
     "name": "stdout",
     "output_type": "stream",
     "text": [
      "A: mean = 0.15, std = 0.1000\n",
      "B: mean = 0.10, std = 0.0502\n",
      "p: mean = 0.12, std = 0.0295\n",
      "cor(R_A, R_B) = -0.9011\n"
     ]
    }
   ],
   "source": [
    "A = {'mu': 0.15, 'sig': 0.1,  'proportion': 0.5}\n",
    "B = {'mu': 0.1,  'sig': 0.05, 'proportion': 0.5}\n",
    "\n",
    "p, R = simulate_returns(A, B, -0.9, 10000)\n",
    "\n",
    "print('A: mean = %1.2f, std = %1.4f' % (R.A.mean(), R.A.std()))\n",
    "print('B: mean = %1.2f, std = %1.4f' % (R.B.mean(), R.B.std()))\n",
    "print('p: mean = %1.2f, std = %1.4f' % (R.p.mean(), R.p.std()))\n",
    "\n",
    "print('cor(R_A, R_B) = %1.4f' % np.corrcoef(R.A, R.B)[1,0])"
   ]
  },
  {
   "cell_type": "markdown",
   "metadata": {},
   "source": [
    "### Empirical Portfolio Returns"
   ]
  },
  {
   "cell_type": "code",
   "execution_count": 8,
   "metadata": {
    "slideshow": {
     "slide_type": "subslide"
    },
    "tags": []
   },
   "outputs": [
    {
     "data": {
      "image/png": "[encoded data removed]",
      "text/plain": [
       "<Figure size 1000x1000 with 4 Axes>"
      ]
     },
     "metadata": {},
     "output_type": "display_data"
    }
   ],
   "source": [
    "p, R = simulate_returns(A, B, -0.5, 1000)\n",
    "pd.plotting.scatter_matrix(R.loc[:,['A','B']], figsize=(10,10));"
   ]
  },
  {
   "cell_type": "markdown",
   "metadata": {
    "slideshow": {
     "slide_type": "subslide"
    }
   },
   "source": [
    "### Theoretical returns\n",
    "\n",
    "Calculate the volatility ($\\sigma^2$) and expected returns ($\\mu$):"
   ]
  },
  {
   "cell_type": "code",
   "execution_count": 9,
   "metadata": {
    "slideshow": {
     "slide_type": "-"
    },
    "tags": []
   },
   "outputs": [
    {
     "name": "stdout",
     "output_type": "stream",
     "text": [
      "A: mean = 0.15, std = 0.1000\n",
      "B: mean = 0.10, std = 0.0500\n",
      "p: mean = 0.12, std = 0.0433\n"
     ]
    }
   ],
   "source": [
    "print('A: mean = %1.2f, std = %1.4f' % (A['mu'], A['sig']))\n",
    "print('B: mean = %1.2f, std = %1.4f' % (B['mu'], B['sig']))\n",
    "print('p: mean = %1.2f, std = %1.4f' % (p['mu'], p['sig']))"
   ]
  },
  {
   "cell_type": "markdown",
   "metadata": {
    "slideshow": {
     "slide_type": "subslide"
    }
   },
   "source": [
    "### Independent Portfolio Theoretical returns\n",
    "\n",
    "If stocks A and B were independent"
   ]
  },
  {
   "cell_type": "code",
   "execution_count": 71,
   "metadata": {
    "slideshow": {
     "slide_type": "-"
    },
    "tags": []
   },
   "outputs": [
    {
     "name": "stdout",
     "output_type": "stream",
     "text": [
      "A: mean = 0.15, std = 0.1000\n",
      "B: mean = 0.10, std = 0.0500\n",
      "\n",
      "p: mean = 0.12, std = 0.0296 (if A and B are correlated )\n",
      "p: mean = 0.12, std = 0.0559 (if A and B are independent)\n"
     ]
    }
   ],
   "source": [
    "p, R = simulate_returns(A, B, -0.9, 10000)\n",
    "print('A: mean = %1.2f, std = %1.4f' % (A['mu'], A['sig']))\n",
    "print('B: mean = %1.2f, std = %1.4f' % (B['mu'], B['sig']))\n",
    "print('')\n",
    "print('p: mean = %1.2f, std = %1.4f (if A and B are correlated )' % (p['mu'], p['sig']))\n",
    "print('p: mean = %1.2f, std = %1.4f (if A and B are independent)' % (p['mu'], np.sqrt(0.5**2*A['sig']**2 + 0.5**2*B['sig']**2)))"
   ]
  },
  {
   "cell_type": "code",
   "execution_count": 69,
   "metadata": {
    "tags": []
   },
   "outputs": [
    {
     "name": "stdout",
     "output_type": "stream",
     "text": [
      "p: mean = 0.12, std = 0.0559 (if A and B are independent )\n"
     ]
    }
   ],
   "source": [
    "# Alternatively we can simulate uncorrelated stocks:\n",
    "p, R = simulate_returns(A, B, 0, 10000)\n",
    "print('p: mean = %1.2f, std = %1.4f (if A and B are independent )' % (p['mu'], p['sig']))"
   ]
  },
  {
   "cell_type": "markdown",
   "metadata": {
    "slideshow": {
     "slide_type": "subslide"
    }
   },
   "source": [
    "#### Empirical (Data) Properties "
   ]
  },
  {
   "cell_type": "code",
   "execution_count": 72,
   "metadata": {
    "slideshow": {
     "slide_type": "-"
    },
    "tags": []
   },
   "outputs": [
    {
     "name": "stdout",
     "output_type": "stream",
     "text": [
      "A: mean = 0.15, std = 0.1012\n",
      "B: mean = 0.10, std = 0.0504\n",
      "p: mean = 0.12, std = 0.0299\n",
      "corr(A, B) = -0.9022\n"
     ]
    }
   ],
   "source": [
    "print('A: mean = %1.2f, std = %1.4f' % (R.A.mean(), R.A.std()))\n",
    "print('B: mean = %1.2f, std = %1.4f' % (R.B.mean(), R.B.std()))\n",
    "print('p: mean = %1.2f, std = %1.4f' % (R.p.mean(), R.p.std()))\n",
    "print('corr(A, B) = %1.4f' % np.corrcoef(R.A, R.B)[0,1])"
   ]
  },
  {
   "cell_type": "markdown",
   "metadata": {
    "slideshow": {
     "slide_type": "subslide"
    }
   },
   "source": [
    "### Efficient frontier of portfolios\n",
    "\n",
    "* Consider all values of $x_A$ and $x_B$\n",
    "\n",
    "* For each combination, compute $\\mu_p$ and $\\sigma_p^2$."
   ]
  },
  {
   "cell_type": "code",
   "execution_count": 73,
   "metadata": {
    "slideshow": {
     "slide_type": "skip"
    },
    "tags": []
   },
   "outputs": [],
   "source": [
    "xa = np.linspace(-1, 2, num=101)\n",
    "pf = pd.DataFrame({'xa':xa, 'xb':1-xa})\n",
    "\n",
    "# pf, R = simulate_returns(A, B, -0.5, 10000)\n",
    "\n",
    "corr = -0.5\n",
    "pf['mu'] = A['mu'] * pf.xa + B['mu'] * pf.xb\n",
    "pf['sig2'] = ((A['sig']**2 * pf.xa**2) + (B['sig']**2 * pf.xb**2) + (2 * corr * A['sig'] * B['sig'] * pf.xa * pf.xb))"
   ]
  },
  {
   "cell_type": "code",
   "execution_count": 74,
   "metadata": {
    "tags": []
   },
   "outputs": [
    {
     "data": {
      "text/html": [
       "<div>\n",
       "<style scoped>\n",
       "    .dataframe tbody tr th:only-of-type {\n",
       "        vertical-align: middle;\n",
       "    }\n",
       "\n",
       "    .dataframe tbody tr th {\n",
       "        vertical-align: top;\n",
       "    }\n",
       "\n",
       "    .dataframe thead th {\n",
       "        text-align: right;\n",
       "    }\n",
       "</style>\n",
       "<table border=\"1\" class=\"dataframe\">\n",
       "  <thead>\n",
       "    <tr style=\"text-align: right;\">\n",
       "      <th></th>\n",
       "      <th>xa</th>\n",
       "      <th>xb</th>\n",
       "      <th>mu</th>\n",
       "      <th>sig2</th>\n",
       "    </tr>\n",
       "  </thead>\n",
       "  <tbody>\n",
       "    <tr>\n",
       "      <th>0</th>\n",
       "      <td>-1.00</td>\n",
       "      <td>2.00</td>\n",
       "      <td>0.0500</td>\n",
       "      <td>0.030000</td>\n",
       "    </tr>\n",
       "    <tr>\n",
       "      <th>1</th>\n",
       "      <td>-0.97</td>\n",
       "      <td>1.97</td>\n",
       "      <td>0.0515</td>\n",
       "      <td>0.028666</td>\n",
       "    </tr>\n",
       "    <tr>\n",
       "      <th>2</th>\n",
       "      <td>-0.94</td>\n",
       "      <td>1.94</td>\n",
       "      <td>0.0530</td>\n",
       "      <td>0.027363</td>\n",
       "    </tr>\n",
       "    <tr>\n",
       "      <th>3</th>\n",
       "      <td>-0.91</td>\n",
       "      <td>1.91</td>\n",
       "      <td>0.0545</td>\n",
       "      <td>0.026092</td>\n",
       "    </tr>\n",
       "    <tr>\n",
       "      <th>4</th>\n",
       "      <td>-0.88</td>\n",
       "      <td>1.88</td>\n",
       "      <td>0.0560</td>\n",
       "      <td>0.024852</td>\n",
       "    </tr>\n",
       "  </tbody>\n",
       "</table>\n",
       "</div>"
      ],
      "text/plain": [
       "     xa    xb      mu      sig2\n",
       "0 -1.00  2.00  0.0500  0.030000\n",
       "1 -0.97  1.97  0.0515  0.028666\n",
       "2 -0.94  1.94  0.0530  0.027363\n",
       "3 -0.91  1.91  0.0545  0.026092\n",
       "4 -0.88  1.88  0.0560  0.024852"
      ]
     },
     "execution_count": 74,
     "metadata": {},
     "output_type": "execute_result"
    }
   ],
   "source": [
    "pf.head()"
   ]
  },
  {
   "cell_type": "code",
   "execution_count": 77,
   "metadata": {
    "hideCode": true,
    "slideshow": {
     "slide_type": "-"
    },
    "tags": []
   },
   "outputs": [
    {
     "data": {
      "image/png": "[encoded data removed]",
      "text/plain": [
       "<Figure size 1300x800 with 1 Axes>"
      ]
     },
     "metadata": {},
     "output_type": "display_data"
    }
   ],
   "source": [
    "%matplotlib inline\n",
    "import matplotlib.pyplot as plt\n",
    "fig, ax = plt.subplots(figsize=(13, 8))\n",
    "plt.plot(pf.sig2, pf.mu, color='b')\n",
    "plt.plot(pf.sig2[pf.xa<0], pf.mu[pf.xa<0], color='r') # sell stock A to fund purchase of stock B\n",
    "plt.plot(pf.sig2[pf.xb<0], pf.mu[pf.xb<0], color='g') # sell stock B to fund purchase of stock A\n",
    "plt.scatter([A['sig']**2, B['sig']**2], [A['mu'], B['mu']])\n",
    "ax.set_xlabel('Portfolio volatility')\n",
    "ax.set_ylabel('Portfolio return')\n",
    "plt.show(p)"
   ]
  },
  {
   "cell_type": "markdown",
   "metadata": {
    "slideshow": {
     "slide_type": "subslide"
    }
   },
   "source": [
    "* Line is called efficient frontier\n",
    "* Represents the lower boundary of achievable volatility\n",
    "* Return and volatility of $A$ and $B$"
   ]
  },
  {
   "cell_type": "markdown",
   "metadata": {},
   "source": [
    "#### Long and short positions\n",
    "\n",
    "* Note that `xa` can be negative\n",
    "* Positive $x_A$ : _long position_ for stock A and indicates a purchase\n",
    "* Negative $x_A$ : _short position_ stock A and indicates a sale\n",
    "* _You are selling stocks that you do not own with the expectation that the price of the stock will fall_\n",
    "* Shorting allows for higher long positions on other stocks."
   ]
  },
  {
   "cell_type": "markdown",
   "metadata": {
    "slideshow": {
     "slide_type": "subslide"
    }
   },
   "source": [
    "#### Minimum variance portfolio (MVP)\n",
    "\n",
    "What is the point at the tip of the parabola? This point indicates what is called the minimum variance portfolio that, regardless of the return, has the minimum volatility. Minimum variance portfolio (MVP) has the minimum volatility of any portfolio achievable.\n",
    "\n",
    "It can be shown that minimum variance portfolio would have the following allocation $x_A$:\n",
    "\n",
    "$$x_A = \\frac{\\sigma_B^2-\\sigma_\\text{AB}^2}{\\sigma_A^2 + \\sigma_B^2 – \\sigma_\\text{AB}^2}$$"
   ]
  },
  {
   "cell_type": "markdown",
   "metadata": {
    "slideshow": {
     "slide_type": "slide"
    }
   },
   "source": [
    "The mathematical problem to solve for the minimum variance portfolio can be stated as follows:\n",
    "$$ \\min_{x_A,x_B}\\ \\ \\sigma_p^2 = \\sigma_A^2 x_A^2 + \\sigma_B^2 x_B^2 + \\sigma_{AB} x_A x_B\\\\\n",
    "\\text{such that }x_A + x_B = 1$$\n",
    "Here, $\\sigma_p^2 = \\sigma_A^2 x_A^2 + \\sigma_B^2 x_B^2 + \\sigma_{AB} x_A x_B$ is called the objective function, and $x_A + x_B = 1$ is called the constraint.\n",
    "\n",
    "The constraint has to be satisfied exactly, and objective wants to be minimized with the freedom of changing the values of $x_A$ and $x_B$."
   ]
  },
  {
   "cell_type": "markdown",
   "metadata": {
    "slideshow": {
     "slide_type": "subslide"
    }
   },
   "source": [
    "### Using `cvxpy` for numerical optimization\n",
    "\n",
    "Calculating analytical solutions is not always possible. There are ways to compute solutions numerically. Although out of scope of our class, a large field in applied math called optimization. The tools from this area allow us to compute solutions for problems such as the one we have here. (For more information, visit the [CVXPY](https://www.cvxpy.org/) website)"
   ]
  },
  {
   "cell_type": "markdown",
   "metadata": {
    "slideshow": {
     "slide_type": "subslide"
    }
   },
   "source": [
    "### Higher dimensional portfolios\n",
    "\n",
    "In higher dimensions, the portfolio equantion is written in terms of vectors and matrices. For example, suppose we construct a portfolio consisting of $s$-assets. The portfolio allocation can be written as,\n",
    "$$\\mathbf{1}^\\intercal x = 1,$$\n",
    "where $x$ is an $s$-vector whose sum adds up to 1: i.e., $x_1 + x_2 + \\cdots + x_s = 1$.\n",
    "\n",
    "The portfolio volatility in matrix-vector form looks like:\n",
    "$$\n",
    "\\begin{pmatrix}x_1 & x_2 & \\cdots & x_s\\end{pmatrix}\n",
    "\\begin{pmatrix}\n",
    "\\sigma_1^2 & \\sigma_{12} & \\cdots & \\sigma_{1s}\\\\\n",
    "\\sigma_{21} & \\sigma_2^2 & \\cdots & \\sigma_{2s}\\\\\n",
    "\\vdots & \\vdots & & \\vdots \\\\\n",
    "\\sigma_{s1} & \\sigma_{s2} & \\cdots & \\sigma_s^2\\\\\n",
    "\\end{pmatrix}\n",
    "\\begin{pmatrix}x_1 \\\\ x_2 \\\\ \\vdots \\\\ x_s\\end{pmatrix}.\n",
    "$$\n",
    "To verify the two stock example result, we check $\\sigma_p^2$:\n",
    "$$\n",
    "\\sigma_p^2 = \\begin{pmatrix}x_1 & x_2\\end{pmatrix}\n",
    "\\begin{pmatrix}\n",
    "\\sigma_1^2 & \\sigma_{12}\\\\\n",
    "\\sigma_{21} & \\sigma_2^2\\\\\n",
    "\\end{pmatrix}\n",
    "\\begin{pmatrix}x_1 \\\\ x_2\\end{pmatrix} = \n",
    "\\begin{pmatrix}x_1 & x_2\\end{pmatrix}\n",
    "\\begin{pmatrix}\n",
    "\\sigma_1^2 x_1 + \\sigma_{12} x_2\\\\\n",
    "\\sigma_{21} x_1 + \\sigma_2^2 x_2\\\\\n",
    "\\end{pmatrix} = \n",
    "\\sigma_1^2 x_1^2 + \\sigma_2^2 x_2^2 + \\sigma_{12} x_1 x_2,\n",
    "$$\n",
    "which matches the result from before.\n",
    "\n",
    "With this notation, we can re-write the problem.\n",
    "\n",
    "$$ \\min_{x\\in\\mathbb{R}^s}\\ \\ x^\\intercal \\Sigma x\\\\\n",
    "\\text{subject to }\\mathbf{1}^\\intercal x = 1,$$\n",
    "\n",
    "It can be shown that the optimal solution to this problem is,\n",
    "$$\n",
    "x^* = (\\mathbf{1}^\\intercal\\Sigma^{-1}\\mathbf{1})^{-1}\\Sigma^{-1}\\mathbf{1}\n",
    "$$."
   ]
  },
  {
   "cell_type": "markdown",
   "metadata": {
    "slideshow": {
     "slide_type": "subslide"
    }
   },
   "source": [
    "There are many variations of this problem. In fact the minimum variance portfolio is special case of a more general problem\n",
    "\n",
    "$$ \\min_{x\\in\\mathbb{R}^s}\\ \\ x^\\intercal \\Sigma x\\\\\n",
    "\\text{subject to }\\mu^\\intercal x\\geq \\mu^* \\text{, and } \\mathbf{1}^\\intercal x = 1,$$\n",
    "\n",
    "Note that in all of the above problems, the measure of $\\mu^*$, expected returns, and covariance matrix have to be provided. In practice, these quantities are estimated from data."
   ]
  },
  {
   "cell_type": "markdown",
   "metadata": {
    "slideshow": {
     "slide_type": "slide"
    }
   },
   "source": [
    "## Portfolio Allocation: Dow Jones component stocks\n",
    "\n",
    "Stock data can have irregularities such as missing data due to stocks being added and removed from the index. Some examples are\n",
    "* Alcoa Corp. (AA) was removed in 2013\n",
    "* Apple (AAPL) was added in 2015\n",
    "* E.I. du Pont de Nemours & Company (DD) was removed and replaced with Dow du Pont (DWDP) as a continuation in 2017\n",
    "\n",
    "For simplicity the stocks we will use are based on the most recent DJIA constituent companies "
   ]
  },
  {
   "cell_type": "code",
   "execution_count": 126,
   "metadata": {
    "slideshow": {
     "slide_type": "subslide"
    },
    "tags": []
   },
   "outputs": [
    {
     "name": "stdout",
     "output_type": "stream",
     "text": [
      "[*********************100%***********************]  28 of 28 completed\n"
     ]
    },
    {
     "data": {
      "text/html": [
       "<div>\n",
       "<style scoped>\n",
       "    .dataframe tbody tr th:only-of-type {\n",
       "        vertical-align: middle;\n",
       "    }\n",
       "\n",
       "    .dataframe tbody tr th {\n",
       "        vertical-align: top;\n",
       "    }\n",
       "\n",
       "    .dataframe thead tr th {\n",
       "        text-align: left;\n",
       "    }\n",
       "\n",
       "    .dataframe thead tr:last-of-type th {\n",
       "        text-align: right;\n",
       "    }\n",
       "</style>\n",
       "<table border=\"1\" class=\"dataframe\">\n",
       "  <thead>\n",
       "    <tr>\n",
       "      <th></th>\n",
       "      <th colspan=\"10\" halign=\"left\">Adj Close</th>\n",
       "      <th>...</th>\n",
       "      <th colspan=\"10\" halign=\"left\">Volume</th>\n",
       "    </tr>\n",
       "    <tr>\n",
       "      <th></th>\n",
       "      <th>AAPL</th>\n",
       "      <th>AXP</th>\n",
       "      <th>BA</th>\n",
       "      <th>BAC</th>\n",
       "      <th>CAT</th>\n",
       "      <th>CSCO</th>\n",
       "      <th>CVX</th>\n",
       "      <th>DD</th>\n",
       "      <th>DIS</th>\n",
       "      <th>GE</th>\n",
       "      <th>...</th>\n",
       "      <th>MMM</th>\n",
       "      <th>MRK</th>\n",
       "      <th>MSFT</th>\n",
       "      <th>PFE</th>\n",
       "      <th>PG</th>\n",
       "      <th>T</th>\n",
       "      <th>TRV</th>\n",
       "      <th>VZ</th>\n",
       "      <th>WMT</th>\n",
       "      <th>XOM</th>\n",
       "    </tr>\n",
       "    <tr>\n",
       "      <th>Date</th>\n",
       "      <th></th>\n",
       "      <th></th>\n",
       "      <th></th>\n",
       "      <th></th>\n",
       "      <th></th>\n",
       "      <th></th>\n",
       "      <th></th>\n",
       "      <th></th>\n",
       "      <th></th>\n",
       "      <th></th>\n",
       "      <th></th>\n",
       "      <th></th>\n",
       "      <th></th>\n",
       "      <th></th>\n",
       "      <th></th>\n",
       "      <th></th>\n",
       "      <th></th>\n",
       "      <th></th>\n",
       "      <th></th>\n",
       "      <th></th>\n",
       "      <th></th>\n",
       "    </tr>\n",
       "  </thead>\n",
       "  <tbody>\n",
       "    <tr>\n",
       "      <th>2000-01-03</th>\n",
       "      <td>0.849468</td>\n",
       "      <td>33.312675</td>\n",
       "      <td>25.940289</td>\n",
       "      <td>13.356879</td>\n",
       "      <td>13.100213</td>\n",
       "      <td>37.781273</td>\n",
       "      <td>17.849825</td>\n",
       "      <td>29.800068</td>\n",
       "      <td>23.115252</td>\n",
       "      <td>164.768677</td>\n",
       "      <td>...</td>\n",
       "      <td>2173400</td>\n",
       "      <td>6265782</td>\n",
       "      <td>53228400</td>\n",
       "      <td>12873345</td>\n",
       "      <td>4275000</td>\n",
       "      <td>7668476</td>\n",
       "      <td>336400</td>\n",
       "      <td>4663843</td>\n",
       "      <td>8369900</td>\n",
       "      <td>13458200</td>\n",
       "    </tr>\n",
       "    <tr>\n",
       "      <th>2000-01-04</th>\n",
       "      <td>0.777850</td>\n",
       "      <td>32.054878</td>\n",
       "      <td>25.899944</td>\n",
       "      <td>12.564081</td>\n",
       "      <td>12.931826</td>\n",
       "      <td>35.661674</td>\n",
       "      <td>17.849825</td>\n",
       "      <td>28.985552</td>\n",
       "      <td>24.469284</td>\n",
       "      <td>158.177933</td>\n",
       "      <td>...</td>\n",
       "      <td>2713800</td>\n",
       "      <td>7894689</td>\n",
       "      <td>54119000</td>\n",
       "      <td>14208974</td>\n",
       "      <td>4270800</td>\n",
       "      <td>9497846</td>\n",
       "      <td>494400</td>\n",
       "      <td>5005878</td>\n",
       "      <td>6745100</td>\n",
       "      <td>14510800</td>\n",
       "    </tr>\n",
       "    <tr>\n",
       "      <th>2000-01-05</th>\n",
       "      <td>0.789232</td>\n",
       "      <td>31.240702</td>\n",
       "      <td>27.513639</td>\n",
       "      <td>12.701962</td>\n",
       "      <td>13.234916</td>\n",
       "      <td>35.552418</td>\n",
       "      <td>18.170010</td>\n",
       "      <td>29.926456</td>\n",
       "      <td>25.484806</td>\n",
       "      <td>157.903336</td>\n",
       "      <td>...</td>\n",
       "      <td>3699400</td>\n",
       "      <td>7963018</td>\n",
       "      <td>64059600</td>\n",
       "      <td>12981591</td>\n",
       "      <td>5098400</td>\n",
       "      <td>12035160</td>\n",
       "      <td>736000</td>\n",
       "      <td>6368681</td>\n",
       "      <td>7018700</td>\n",
       "      <td>17485000</td>\n",
       "    </tr>\n",
       "    <tr>\n",
       "      <th>2000-01-06</th>\n",
       "      <td>0.720933</td>\n",
       "      <td>31.877188</td>\n",
       "      <td>27.796043</td>\n",
       "      <td>13.787748</td>\n",
       "      <td>13.908456</td>\n",
       "      <td>34.962433</td>\n",
       "      <td>18.943756</td>\n",
       "      <td>30.769058</td>\n",
       "      <td>24.469284</td>\n",
       "      <td>160.014389</td>\n",
       "      <td>...</td>\n",
       "      <td>5975800</td>\n",
       "      <td>4989004</td>\n",
       "      <td>54976600</td>\n",
       "      <td>11115273</td>\n",
       "      <td>6524200</td>\n",
       "      <td>9471366</td>\n",
       "      <td>660400</td>\n",
       "      <td>4705763</td>\n",
       "      <td>6544500</td>\n",
       "      <td>19461600</td>\n",
       "    </tr>\n",
       "    <tr>\n",
       "      <th>2000-01-07</th>\n",
       "      <td>0.755083</td>\n",
       "      <td>32.341286</td>\n",
       "      <td>28.602884</td>\n",
       "      <td>13.425817</td>\n",
       "      <td>14.363090</td>\n",
       "      <td>37.016479</td>\n",
       "      <td>19.277281</td>\n",
       "      <td>31.457190</td>\n",
       "      <td>24.082420</td>\n",
       "      <td>166.210388</td>\n",
       "      <td>...</td>\n",
       "      <td>4101200</td>\n",
       "      <td>10871218</td>\n",
       "      <td>62013600</td>\n",
       "      <td>17962163</td>\n",
       "      <td>9832000</td>\n",
       "      <td>7792534</td>\n",
       "      <td>594700</td>\n",
       "      <td>5043907</td>\n",
       "      <td>7976900</td>\n",
       "      <td>16603800</td>\n",
       "    </tr>\n",
       "  </tbody>\n",
       "</table>\n",
       "<p>5 rows × 168 columns</p>\n",
       "</div>"
      ],
      "text/plain": [
       "           Adj Close                                                         \\\n",
       "                AAPL        AXP         BA        BAC        CAT       CSCO   \n",
       "Date                                                                          \n",
       "2000-01-03  0.849468  33.312675  25.940289  13.356879  13.100213  37.781273   \n",
       "2000-01-04  0.777850  32.054878  25.899944  12.564081  12.931826  35.661674   \n",
       "2000-01-05  0.789232  31.240702  27.513639  12.701962  13.234916  35.552418   \n",
       "2000-01-06  0.720933  31.877188  27.796043  13.787748  13.908456  34.962433   \n",
       "2000-01-07  0.755083  32.341286  28.602884  13.425817  14.363090  37.016479   \n",
       "\n",
       "                                                         ...   Volume  \\\n",
       "                  CVX         DD        DIS          GE  ...      MMM   \n",
       "Date                                                     ...            \n",
       "2000-01-03  17.849825  29.800068  23.115252  164.768677  ...  2173400   \n",
       "2000-01-04  17.849825  28.985552  24.469284  158.177933  ...  2713800   \n",
       "2000-01-05  18.170010  29.926456  25.484806  157.903336  ...  3699400   \n",
       "2000-01-06  18.943756  30.769058  24.469284  160.014389  ...  5975800   \n",
       "2000-01-07  19.277281  31.457190  24.082420  166.210388  ...  4101200   \n",
       "\n",
       "                                                                              \\\n",
       "                 MRK      MSFT       PFE       PG         T     TRV       VZ   \n",
       "Date                                                                           \n",
       "2000-01-03   6265782  53228400  12873345  4275000   7668476  336400  4663843   \n",
       "2000-01-04   7894689  54119000  14208974  4270800   9497846  494400  5005878   \n",
       "2000-01-05   7963018  64059600  12981591  5098400  12035160  736000  6368681   \n",
       "2000-01-06   4989004  54976600  11115273  6524200   9471366  660400  4705763   \n",
       "2000-01-07  10871218  62013600  17962163  9832000   7792534  594700  5043907   \n",
       "\n",
       "                               \n",
       "                WMT       XOM  \n",
       "Date                           \n",
       "2000-01-03  8369900  13458200  \n",
       "2000-01-04  6745100  14510800  \n",
       "2000-01-05  7018700  17485000  \n",
       "2000-01-06  6544500  19461600  \n",
       "2000-01-07  7976900  16603800  \n",
       "\n",
       "[5 rows x 168 columns]"
      ]
     },
     "execution_count": 126,
     "metadata": {},
     "output_type": "execute_result"
    }
   ],
   "source": [
    "dowjones_components = [\n",
    "    'AAPL','AXP','BA','BAC','CAT',\n",
    "    'CSCO','CVX','DD','DIS','GE',\n",
    "    'HD','HPQ','IBM','INTC','JNJ',\n",
    "    'JPM','KO','MCD','MMM',\n",
    "    'MRK','MSFT','PFE','PG','T',\n",
    "    'TRV','VZ','WMT','XOM'\n",
    "]\n",
    "\n",
    "symbols = pd.read_csv('data/tickers.csv').set_index('code')\n",
    "\n",
    "import yfinance as yf\n",
    "rawdata = yf.download(dowjones_components, start=\"2000-01-01\", end=\"2023-04-30\")\n",
    "rawdata.head()"
   ]
  },
  {
   "cell_type": "code",
   "execution_count": 127,
   "metadata": {
    "tags": []
   },
   "outputs": [
    {
     "data": {
      "text/html": [
       "<div>\n",
       "<style scoped>\n",
       "    .dataframe tbody tr th:only-of-type {\n",
       "        vertical-align: middle;\n",
       "    }\n",
       "\n",
       "    .dataframe tbody tr th {\n",
       "        vertical-align: top;\n",
       "    }\n",
       "\n",
       "    .dataframe thead tr th {\n",
       "        text-align: left;\n",
       "    }\n",
       "\n",
       "    .dataframe thead tr:last-of-type th {\n",
       "        text-align: right;\n",
       "    }\n",
       "</style>\n",
       "<table border=\"1\" class=\"dataframe\">\n",
       "  <thead>\n",
       "    <tr>\n",
       "      <th></th>\n",
       "      <th colspan=\"10\" halign=\"left\">Adj Close</th>\n",
       "      <th>...</th>\n",
       "      <th colspan=\"10\" halign=\"left\">Volume</th>\n",
       "    </tr>\n",
       "    <tr>\n",
       "      <th></th>\n",
       "      <th>AAPL</th>\n",
       "      <th>AXP</th>\n",
       "      <th>BA</th>\n",
       "      <th>BAC</th>\n",
       "      <th>CAT</th>\n",
       "      <th>CSCO</th>\n",
       "      <th>CVX</th>\n",
       "      <th>DD</th>\n",
       "      <th>DIS</th>\n",
       "      <th>GE</th>\n",
       "      <th>...</th>\n",
       "      <th>MMM</th>\n",
       "      <th>MRK</th>\n",
       "      <th>MSFT</th>\n",
       "      <th>PFE</th>\n",
       "      <th>PG</th>\n",
       "      <th>T</th>\n",
       "      <th>TRV</th>\n",
       "      <th>VZ</th>\n",
       "      <th>WMT</th>\n",
       "      <th>XOM</th>\n",
       "    </tr>\n",
       "    <tr>\n",
       "      <th>Date</th>\n",
       "      <th></th>\n",
       "      <th></th>\n",
       "      <th></th>\n",
       "      <th></th>\n",
       "      <th></th>\n",
       "      <th></th>\n",
       "      <th></th>\n",
       "      <th></th>\n",
       "      <th></th>\n",
       "      <th></th>\n",
       "      <th></th>\n",
       "      <th></th>\n",
       "      <th></th>\n",
       "      <th></th>\n",
       "      <th></th>\n",
       "      <th></th>\n",
       "      <th></th>\n",
       "      <th></th>\n",
       "      <th></th>\n",
       "      <th></th>\n",
       "      <th></th>\n",
       "    </tr>\n",
       "  </thead>\n",
       "  <tbody>\n",
       "    <tr>\n",
       "      <th>2023-04-24</th>\n",
       "      <td>165.101639</td>\n",
       "      <td>160.589996</td>\n",
       "      <td>205.770004</td>\n",
       "      <td>29.760000</td>\n",
       "      <td>223.429993</td>\n",
       "      <td>47.389999</td>\n",
       "      <td>171.479996</td>\n",
       "      <td>70.550003</td>\n",
       "      <td>99.680000</td>\n",
       "      <td>100.150002</td>\n",
       "      <td>...</td>\n",
       "      <td>3536000</td>\n",
       "      <td>4299100</td>\n",
       "      <td>26611000</td>\n",
       "      <td>17633700</td>\n",
       "      <td>8109800</td>\n",
       "      <td>60001400</td>\n",
       "      <td>1015700</td>\n",
       "      <td>20362500</td>\n",
       "      <td>4526500</td>\n",
       "      <td>15831300</td>\n",
       "    </tr>\n",
       "    <tr>\n",
       "      <th>2023-04-25</th>\n",
       "      <td>163.543793</td>\n",
       "      <td>156.119995</td>\n",
       "      <td>202.190002</td>\n",
       "      <td>28.840000</td>\n",
       "      <td>218.630005</td>\n",
       "      <td>47.090000</td>\n",
       "      <td>168.990005</td>\n",
       "      <td>67.989998</td>\n",
       "      <td>98.010002</td>\n",
       "      <td>98.440002</td>\n",
       "      <td>...</td>\n",
       "      <td>5071400</td>\n",
       "      <td>5662800</td>\n",
       "      <td>45772200</td>\n",
       "      <td>24492400</td>\n",
       "      <td>8341800</td>\n",
       "      <td>46691800</td>\n",
       "      <td>1208700</td>\n",
       "      <td>24959400</td>\n",
       "      <td>5748900</td>\n",
       "      <td>12179800</td>\n",
       "    </tr>\n",
       "    <tr>\n",
       "      <th>2023-04-26</th>\n",
       "      <td>163.533798</td>\n",
       "      <td>155.720001</td>\n",
       "      <td>203.029999</td>\n",
       "      <td>28.440001</td>\n",
       "      <td>216.190002</td>\n",
       "      <td>46.540001</td>\n",
       "      <td>165.979996</td>\n",
       "      <td>67.370003</td>\n",
       "      <td>96.610001</td>\n",
       "      <td>96.209999</td>\n",
       "      <td>...</td>\n",
       "      <td>3173400</td>\n",
       "      <td>6607900</td>\n",
       "      <td>64599200</td>\n",
       "      <td>22401400</td>\n",
       "      <td>4843700</td>\n",
       "      <td>42482900</td>\n",
       "      <td>1168200</td>\n",
       "      <td>21499300</td>\n",
       "      <td>4303400</td>\n",
       "      <td>15566100</td>\n",
       "    </tr>\n",
       "    <tr>\n",
       "      <th>2023-04-27</th>\n",
       "      <td>168.177383</td>\n",
       "      <td>158.449997</td>\n",
       "      <td>206.039993</td>\n",
       "      <td>28.889999</td>\n",
       "      <td>214.330002</td>\n",
       "      <td>46.560001</td>\n",
       "      <td>166.949997</td>\n",
       "      <td>68.699997</td>\n",
       "      <td>99.930000</td>\n",
       "      <td>98.059998</td>\n",
       "      <td>...</td>\n",
       "      <td>2393100</td>\n",
       "      <td>9975200</td>\n",
       "      <td>46462600</td>\n",
       "      <td>22434000</td>\n",
       "      <td>4805600</td>\n",
       "      <td>36926900</td>\n",
       "      <td>1573700</td>\n",
       "      <td>28841000</td>\n",
       "      <td>4287000</td>\n",
       "      <td>16279200</td>\n",
       "    </tr>\n",
       "    <tr>\n",
       "      <th>2023-04-28</th>\n",
       "      <td>169.445618</td>\n",
       "      <td>161.339996</td>\n",
       "      <td>206.779999</td>\n",
       "      <td>29.280001</td>\n",
       "      <td>218.800003</td>\n",
       "      <td>47.250000</td>\n",
       "      <td>168.580002</td>\n",
       "      <td>69.720001</td>\n",
       "      <td>102.500000</td>\n",
       "      <td>98.970001</td>\n",
       "      <td>...</td>\n",
       "      <td>3983200</td>\n",
       "      <td>8049900</td>\n",
       "      <td>36446700</td>\n",
       "      <td>21003600</td>\n",
       "      <td>5754000</td>\n",
       "      <td>40664000</td>\n",
       "      <td>1052700</td>\n",
       "      <td>19194400</td>\n",
       "      <td>4693900</td>\n",
       "      <td>24374000</td>\n",
       "    </tr>\n",
       "  </tbody>\n",
       "</table>\n",
       "<p>5 rows × 168 columns</p>\n",
       "</div>"
      ],
      "text/plain": [
       "             Adj Close                                                 \\\n",
       "                  AAPL         AXP          BA        BAC         CAT   \n",
       "Date                                                                    \n",
       "2023-04-24  165.101639  160.589996  205.770004  29.760000  223.429993   \n",
       "2023-04-25  163.543793  156.119995  202.190002  28.840000  218.630005   \n",
       "2023-04-26  163.533798  155.720001  203.029999  28.440001  216.190002   \n",
       "2023-04-27  168.177383  158.449997  206.039993  28.889999  214.330002   \n",
       "2023-04-28  169.445618  161.339996  206.779999  29.280001  218.800003   \n",
       "\n",
       "                                                                      ...  \\\n",
       "                 CSCO         CVX         DD         DIS          GE  ...   \n",
       "Date                                                                  ...   \n",
       "2023-04-24  47.389999  171.479996  70.550003   99.680000  100.150002  ...   \n",
       "2023-04-25  47.090000  168.990005  67.989998   98.010002   98.440002  ...   \n",
       "2023-04-26  46.540001  165.979996  67.370003   96.610001   96.209999  ...   \n",
       "2023-04-27  46.560001  166.949997  68.699997   99.930000   98.059998  ...   \n",
       "2023-04-28  47.250000  168.580002  69.720001  102.500000   98.970001  ...   \n",
       "\n",
       "             Volume                                                           \\\n",
       "                MMM      MRK      MSFT       PFE       PG         T      TRV   \n",
       "Date                                                                           \n",
       "2023-04-24  3536000  4299100  26611000  17633700  8109800  60001400  1015700   \n",
       "2023-04-25  5071400  5662800  45772200  24492400  8341800  46691800  1208700   \n",
       "2023-04-26  3173400  6607900  64599200  22401400  4843700  42482900  1168200   \n",
       "2023-04-27  2393100  9975200  46462600  22434000  4805600  36926900  1573700   \n",
       "2023-04-28  3983200  8049900  36446700  21003600  5754000  40664000  1052700   \n",
       "\n",
       "                                         \n",
       "                  VZ      WMT       XOM  \n",
       "Date                                     \n",
       "2023-04-24  20362500  4526500  15831300  \n",
       "2023-04-25  24959400  5748900  12179800  \n",
       "2023-04-26  21499300  4303400  15566100  \n",
       "2023-04-27  28841000  4287000  16279200  \n",
       "2023-04-28  19194400  4693900  24374000  \n",
       "\n",
       "[5 rows x 168 columns]"
      ]
     },
     "execution_count": 127,
     "metadata": {},
     "output_type": "execute_result"
    }
   ],
   "source": [
    "rawdata.tail()"
   ]
  },
  {
   "cell_type": "code",
   "execution_count": 128,
   "metadata": {
    "slideshow": {
     "slide_type": "subslide"
    },
    "tags": []
   },
   "outputs": [
    {
     "data": {
      "text/html": [
       "<div>\n",
       "<style scoped>\n",
       "    .dataframe tbody tr th:only-of-type {\n",
       "        vertical-align: middle;\n",
       "    }\n",
       "\n",
       "    .dataframe tbody tr th {\n",
       "        vertical-align: top;\n",
       "    }\n",
       "\n",
       "    .dataframe thead th {\n",
       "        text-align: right;\n",
       "    }\n",
       "</style>\n",
       "<table border=\"1\" class=\"dataframe\">\n",
       "  <thead>\n",
       "    <tr style=\"text-align: right;\">\n",
       "      <th></th>\n",
       "      <th>name</th>\n",
       "    </tr>\n",
       "    <tr>\n",
       "      <th>code</th>\n",
       "      <th></th>\n",
       "    </tr>\n",
       "  </thead>\n",
       "  <tbody>\n",
       "    <tr>\n",
       "      <th>AAPL</th>\n",
       "      <td>Apple Inc (AAPL)</td>\n",
       "    </tr>\n",
       "    <tr>\n",
       "      <th>AXP</th>\n",
       "      <td>American Express Co. (AXP)</td>\n",
       "    </tr>\n",
       "    <tr>\n",
       "      <th>BA</th>\n",
       "      <td>The Boeing Co. (BA)</td>\n",
       "    </tr>\n",
       "    <tr>\n",
       "      <th>BAC</th>\n",
       "      <td>Bank of America Corp. (BAC)</td>\n",
       "    </tr>\n",
       "    <tr>\n",
       "      <th>CAT</th>\n",
       "      <td>Caterpillar Inc. (CAT)</td>\n",
       "    </tr>\n",
       "    <tr>\n",
       "      <th>CSCO</th>\n",
       "      <td>Cisco Systems Inc. (CSCO)</td>\n",
       "    </tr>\n",
       "    <tr>\n",
       "      <th>CVX</th>\n",
       "      <td>Chevron Corporation (CVX)</td>\n",
       "    </tr>\n",
       "    <tr>\n",
       "      <th>DD</th>\n",
       "      <td>E.I. du Pont de Nemours and Co. (DD)</td>\n",
       "    </tr>\n",
       "    <tr>\n",
       "      <th>DIS</th>\n",
       "      <td>Disney (Walt) Co. (The) (DIS)</td>\n",
       "    </tr>\n",
       "    <tr>\n",
       "      <th>GE</th>\n",
       "      <td>General Electric Co (GE)</td>\n",
       "    </tr>\n",
       "    <tr>\n",
       "      <th>HD</th>\n",
       "      <td>Home Depot Inc (HD)</td>\n",
       "    </tr>\n",
       "    <tr>\n",
       "      <th>HPQ</th>\n",
       "      <td>Hewlett-Packard Co (HPQ)</td>\n",
       "    </tr>\n",
       "    <tr>\n",
       "      <th>IBM</th>\n",
       "      <td>International Business Machines Corp (IBM)</td>\n",
       "    </tr>\n",
       "    <tr>\n",
       "      <th>INTC</th>\n",
       "      <td>Intel Corp (INTC)</td>\n",
       "    </tr>\n",
       "    <tr>\n",
       "      <th>JNJ</th>\n",
       "      <td>Johnson &amp; Johnson (JNJ)</td>\n",
       "    </tr>\n",
       "    <tr>\n",
       "      <th>JPM</th>\n",
       "      <td>JP Morgan Chase (JPM)</td>\n",
       "    </tr>\n",
       "    <tr>\n",
       "      <th>KO</th>\n",
       "      <td>Coca-Cola Co (The) (KO)</td>\n",
       "    </tr>\n",
       "    <tr>\n",
       "      <th>MCD</th>\n",
       "      <td>McDonald's Corp (MCD)</td>\n",
       "    </tr>\n",
       "    <tr>\n",
       "      <th>MMM</th>\n",
       "      <td>3M Co (MMM)</td>\n",
       "    </tr>\n",
       "    <tr>\n",
       "      <th>MRK</th>\n",
       "      <td>Merck &amp; Co. Inc (MRK)</td>\n",
       "    </tr>\n",
       "    <tr>\n",
       "      <th>MSFT</th>\n",
       "      <td>Microsoft Corporation (MSFT)</td>\n",
       "    </tr>\n",
       "    <tr>\n",
       "      <th>PFE</th>\n",
       "      <td>Pfizer Inc (PFE)</td>\n",
       "    </tr>\n",
       "    <tr>\n",
       "      <th>PG</th>\n",
       "      <td>Procter &amp; Gamble Co. (PG)</td>\n",
       "    </tr>\n",
       "    <tr>\n",
       "      <th>T</th>\n",
       "      <td>AT&amp;T Inc (T)</td>\n",
       "    </tr>\n",
       "    <tr>\n",
       "      <th>TRV</th>\n",
       "      <td>Travelers Companies Inc (The) (TRV)</td>\n",
       "    </tr>\n",
       "    <tr>\n",
       "      <th>UTX</th>\n",
       "      <td>United Technologies Corp. (UTX)</td>\n",
       "    </tr>\n",
       "    <tr>\n",
       "      <th>VZ</th>\n",
       "      <td>Verizon Communications Inc (VZ)</td>\n",
       "    </tr>\n",
       "    <tr>\n",
       "      <th>WMT</th>\n",
       "      <td>Wal-Mart Stores (WMT)</td>\n",
       "    </tr>\n",
       "    <tr>\n",
       "      <th>XOM</th>\n",
       "      <td>Exxon Mobil Corp. (XOM)</td>\n",
       "    </tr>\n",
       "  </tbody>\n",
       "</table>\n",
       "</div>"
      ],
      "text/plain": [
       "                                            name\n",
       "code                                            \n",
       "AAPL                            Apple Inc (AAPL)\n",
       "AXP                   American Express Co. (AXP)\n",
       "BA                           The Boeing Co. (BA)\n",
       "BAC                  Bank of America Corp. (BAC)\n",
       "CAT                       Caterpillar Inc. (CAT)\n",
       "CSCO                   Cisco Systems Inc. (CSCO)\n",
       "CVX                    Chevron Corporation (CVX)\n",
       "DD          E.I. du Pont de Nemours and Co. (DD)\n",
       "DIS                Disney (Walt) Co. (The) (DIS)\n",
       "GE                      General Electric Co (GE)\n",
       "HD                           Home Depot Inc (HD)\n",
       "HPQ                     Hewlett-Packard Co (HPQ)\n",
       "IBM   International Business Machines Corp (IBM)\n",
       "INTC                           Intel Corp (INTC)\n",
       "JNJ                      Johnson & Johnson (JNJ)\n",
       "JPM                        JP Morgan Chase (JPM)\n",
       "KO                       Coca-Cola Co (The) (KO)\n",
       "MCD                        McDonald's Corp (MCD)\n",
       "MMM                                  3M Co (MMM)\n",
       "MRK                        Merck & Co. Inc (MRK)\n",
       "MSFT                Microsoft Corporation (MSFT)\n",
       "PFE                             Pfizer Inc (PFE)\n",
       "PG                     Procter & Gamble Co. (PG)\n",
       "T                                   AT&T Inc (T)\n",
       "TRV          Travelers Companies Inc (The) (TRV)\n",
       "UTX              United Technologies Corp. (UTX)\n",
       "VZ               Verizon Communications Inc (VZ)\n",
       "WMT                        Wal-Mart Stores (WMT)\n",
       "XOM                      Exxon Mobil Corp. (XOM)"
      ]
     },
     "execution_count": 128,
     "metadata": {},
     "output_type": "execute_result"
    }
   ],
   "source": [
    "symbols # full company names"
   ]
  },
  {
   "cell_type": "markdown",
   "metadata": {
    "slideshow": {
     "slide_type": "subslide"
    }
   },
   "source": [
    "## Data Format\n",
    "\n",
    "### Hierarchical Indexing\n",
    "\n",
    "* Column indexing is hierarchical\n",
    "* Adjusted close, close, high, low, open, and volume are given for each stock symbol"
   ]
  },
  {
   "cell_type": "code",
   "execution_count": 129,
   "metadata": {
    "slideshow": {
     "slide_type": "-"
    },
    "tags": []
   },
   "outputs": [
    {
     "data": {
      "text/plain": [
       "FrozenList([['Adj Close', 'Close', 'High', 'Low', 'Open', 'Volume'], ['AAPL', 'AXP', 'BA', 'BAC', 'CAT', 'CSCO', 'CVX', 'DD', 'DIS', 'GE', 'HD', 'HPQ', 'IBM', 'INTC', 'JNJ', 'JPM', 'KO', 'MCD', 'MMM', 'MRK', 'MSFT', 'PFE', 'PG', 'T', 'TRV', 'VZ', 'WMT', 'XOM']])"
      ]
     },
     "execution_count": 129,
     "metadata": {},
     "output_type": "execute_result"
    }
   ],
   "source": [
    "rawdata.columns.levels"
   ]
  },
  {
   "cell_type": "markdown",
   "metadata": {
    "slideshow": {
     "slide_type": "subslide"
    }
   },
   "source": [
    "* Column levels can be named:"
   ]
  },
  {
   "cell_type": "code",
   "execution_count": 130,
   "metadata": {
    "slideshow": {
     "slide_type": "-"
    },
    "tags": []
   },
   "outputs": [
    {
     "data": {
      "text/html": [
       "<div>\n",
       "<style scoped>\n",
       "    .dataframe tbody tr th:only-of-type {\n",
       "        vertical-align: middle;\n",
       "    }\n",
       "\n",
       "    .dataframe tbody tr th {\n",
       "        vertical-align: top;\n",
       "    }\n",
       "\n",
       "    .dataframe thead tr th {\n",
       "        text-align: left;\n",
       "    }\n",
       "\n",
       "    .dataframe thead tr:last-of-type th {\n",
       "        text-align: right;\n",
       "    }\n",
       "</style>\n",
       "<table border=\"1\" class=\"dataframe\">\n",
       "  <thead>\n",
       "    <tr>\n",
       "      <th>Value</th>\n",
       "      <th colspan=\"10\" halign=\"left\">Adj Close</th>\n",
       "      <th>...</th>\n",
       "      <th colspan=\"10\" halign=\"left\">Volume</th>\n",
       "    </tr>\n",
       "    <tr>\n",
       "      <th>Symbol</th>\n",
       "      <th>AAPL</th>\n",
       "      <th>AXP</th>\n",
       "      <th>BA</th>\n",
       "      <th>BAC</th>\n",
       "      <th>CAT</th>\n",
       "      <th>CSCO</th>\n",
       "      <th>CVX</th>\n",
       "      <th>DD</th>\n",
       "      <th>DIS</th>\n",
       "      <th>GE</th>\n",
       "      <th>...</th>\n",
       "      <th>MMM</th>\n",
       "      <th>MRK</th>\n",
       "      <th>MSFT</th>\n",
       "      <th>PFE</th>\n",
       "      <th>PG</th>\n",
       "      <th>T</th>\n",
       "      <th>TRV</th>\n",
       "      <th>VZ</th>\n",
       "      <th>WMT</th>\n",
       "      <th>XOM</th>\n",
       "    </tr>\n",
       "    <tr>\n",
       "      <th>Date</th>\n",
       "      <th></th>\n",
       "      <th></th>\n",
       "      <th></th>\n",
       "      <th></th>\n",
       "      <th></th>\n",
       "      <th></th>\n",
       "      <th></th>\n",
       "      <th></th>\n",
       "      <th></th>\n",
       "      <th></th>\n",
       "      <th></th>\n",
       "      <th></th>\n",
       "      <th></th>\n",
       "      <th></th>\n",
       "      <th></th>\n",
       "      <th></th>\n",
       "      <th></th>\n",
       "      <th></th>\n",
       "      <th></th>\n",
       "      <th></th>\n",
       "      <th></th>\n",
       "    </tr>\n",
       "  </thead>\n",
       "  <tbody>\n",
       "    <tr>\n",
       "      <th>2000-01-03</th>\n",
       "      <td>0.849468</td>\n",
       "      <td>33.312675</td>\n",
       "      <td>25.940289</td>\n",
       "      <td>13.356879</td>\n",
       "      <td>13.100213</td>\n",
       "      <td>37.781273</td>\n",
       "      <td>17.849825</td>\n",
       "      <td>29.800068</td>\n",
       "      <td>23.115252</td>\n",
       "      <td>164.768677</td>\n",
       "      <td>...</td>\n",
       "      <td>2173400</td>\n",
       "      <td>6265782</td>\n",
       "      <td>53228400</td>\n",
       "      <td>12873345</td>\n",
       "      <td>4275000</td>\n",
       "      <td>7668476</td>\n",
       "      <td>336400</td>\n",
       "      <td>4663843</td>\n",
       "      <td>8369900</td>\n",
       "      <td>13458200</td>\n",
       "    </tr>\n",
       "    <tr>\n",
       "      <th>2000-01-04</th>\n",
       "      <td>0.777850</td>\n",
       "      <td>32.054878</td>\n",
       "      <td>25.899944</td>\n",
       "      <td>12.564081</td>\n",
       "      <td>12.931826</td>\n",
       "      <td>35.661674</td>\n",
       "      <td>17.849825</td>\n",
       "      <td>28.985552</td>\n",
       "      <td>24.469284</td>\n",
       "      <td>158.177933</td>\n",
       "      <td>...</td>\n",
       "      <td>2713800</td>\n",
       "      <td>7894689</td>\n",
       "      <td>54119000</td>\n",
       "      <td>14208974</td>\n",
       "      <td>4270800</td>\n",
       "      <td>9497846</td>\n",
       "      <td>494400</td>\n",
       "      <td>5005878</td>\n",
       "      <td>6745100</td>\n",
       "      <td>14510800</td>\n",
       "    </tr>\n",
       "    <tr>\n",
       "      <th>2000-01-05</th>\n",
       "      <td>0.789232</td>\n",
       "      <td>31.240702</td>\n",
       "      <td>27.513639</td>\n",
       "      <td>12.701962</td>\n",
       "      <td>13.234916</td>\n",
       "      <td>35.552418</td>\n",
       "      <td>18.170010</td>\n",
       "      <td>29.926456</td>\n",
       "      <td>25.484806</td>\n",
       "      <td>157.903336</td>\n",
       "      <td>...</td>\n",
       "      <td>3699400</td>\n",
       "      <td>7963018</td>\n",
       "      <td>64059600</td>\n",
       "      <td>12981591</td>\n",
       "      <td>5098400</td>\n",
       "      <td>12035160</td>\n",
       "      <td>736000</td>\n",
       "      <td>6368681</td>\n",
       "      <td>7018700</td>\n",
       "      <td>17485000</td>\n",
       "    </tr>\n",
       "    <tr>\n",
       "      <th>2000-01-06</th>\n",
       "      <td>0.720933</td>\n",
       "      <td>31.877188</td>\n",
       "      <td>27.796043</td>\n",
       "      <td>13.787748</td>\n",
       "      <td>13.908456</td>\n",
       "      <td>34.962433</td>\n",
       "      <td>18.943756</td>\n",
       "      <td>30.769058</td>\n",
       "      <td>24.469284</td>\n",
       "      <td>160.014389</td>\n",
       "      <td>...</td>\n",
       "      <td>5975800</td>\n",
       "      <td>4989004</td>\n",
       "      <td>54976600</td>\n",
       "      <td>11115273</td>\n",
       "      <td>6524200</td>\n",
       "      <td>9471366</td>\n",
       "      <td>660400</td>\n",
       "      <td>4705763</td>\n",
       "      <td>6544500</td>\n",
       "      <td>19461600</td>\n",
       "    </tr>\n",
       "    <tr>\n",
       "      <th>2000-01-07</th>\n",
       "      <td>0.755083</td>\n",
       "      <td>32.341286</td>\n",
       "      <td>28.602884</td>\n",
       "      <td>13.425817</td>\n",
       "      <td>14.363090</td>\n",
       "      <td>37.016479</td>\n",
       "      <td>19.277281</td>\n",
       "      <td>31.457190</td>\n",
       "      <td>24.082420</td>\n",
       "      <td>166.210388</td>\n",
       "      <td>...</td>\n",
       "      <td>4101200</td>\n",
       "      <td>10871218</td>\n",
       "      <td>62013600</td>\n",
       "      <td>17962163</td>\n",
       "      <td>9832000</td>\n",
       "      <td>7792534</td>\n",
       "      <td>594700</td>\n",
       "      <td>5043907</td>\n",
       "      <td>7976900</td>\n",
       "      <td>16603800</td>\n",
       "    </tr>\n",
       "  </tbody>\n",
       "</table>\n",
       "<p>5 rows × 168 columns</p>\n",
       "</div>"
      ],
      "text/plain": [
       "Value      Adj Close                                                         \\\n",
       "Symbol          AAPL        AXP         BA        BAC        CAT       CSCO   \n",
       "Date                                                                          \n",
       "2000-01-03  0.849468  33.312675  25.940289  13.356879  13.100213  37.781273   \n",
       "2000-01-04  0.777850  32.054878  25.899944  12.564081  12.931826  35.661674   \n",
       "2000-01-05  0.789232  31.240702  27.513639  12.701962  13.234916  35.552418   \n",
       "2000-01-06  0.720933  31.877188  27.796043  13.787748  13.908456  34.962433   \n",
       "2000-01-07  0.755083  32.341286  28.602884  13.425817  14.363090  37.016479   \n",
       "\n",
       "Value                                                    ...   Volume  \\\n",
       "Symbol            CVX         DD        DIS          GE  ...      MMM   \n",
       "Date                                                     ...            \n",
       "2000-01-03  17.849825  29.800068  23.115252  164.768677  ...  2173400   \n",
       "2000-01-04  17.849825  28.985552  24.469284  158.177933  ...  2713800   \n",
       "2000-01-05  18.170010  29.926456  25.484806  157.903336  ...  3699400   \n",
       "2000-01-06  18.943756  30.769058  24.469284  160.014389  ...  5975800   \n",
       "2000-01-07  19.277281  31.457190  24.082420  166.210388  ...  4101200   \n",
       "\n",
       "Value                                                                         \\\n",
       "Symbol           MRK      MSFT       PFE       PG         T     TRV       VZ   \n",
       "Date                                                                           \n",
       "2000-01-03   6265782  53228400  12873345  4275000   7668476  336400  4663843   \n",
       "2000-01-04   7894689  54119000  14208974  4270800   9497846  494400  5005878   \n",
       "2000-01-05   7963018  64059600  12981591  5098400  12035160  736000  6368681   \n",
       "2000-01-06   4989004  54976600  11115273  6524200   9471366  660400  4705763   \n",
       "2000-01-07  10871218  62013600  17962163  9832000   7792534  594700  5043907   \n",
       "\n",
       "Value                          \n",
       "Symbol          WMT       XOM  \n",
       "Date                           \n",
       "2000-01-03  8369900  13458200  \n",
       "2000-01-04  6745100  14510800  \n",
       "2000-01-05  7018700  17485000  \n",
       "2000-01-06  6544500  19461600  \n",
       "2000-01-07  7976900  16603800  \n",
       "\n",
       "[5 rows x 168 columns]"
      ]
     },
     "execution_count": 130,
     "metadata": {},
     "output_type": "execute_result"
    }
   ],
   "source": [
    "rawdata.columns = rawdata.columns.set_names(['Value', 'Symbol'])\n",
    "rawdata.head()"
   ]
  },
  {
   "cell_type": "markdown",
   "metadata": {
    "slideshow": {
     "slide_type": "subslide"
    }
   },
   "source": [
    "* Subsetting first level of hierarchical indexing: `Adj Close`"
   ]
  },
  {
   "cell_type": "code",
   "execution_count": 131,
   "metadata": {
    "slideshow": {
     "slide_type": "-"
    },
    "tags": []
   },
   "outputs": [
    {
     "data": {
      "text/html": [
       "<div>\n",
       "<style scoped>\n",
       "    .dataframe tbody tr th:only-of-type {\n",
       "        vertical-align: middle;\n",
       "    }\n",
       "\n",
       "    .dataframe tbody tr th {\n",
       "        vertical-align: top;\n",
       "    }\n",
       "\n",
       "    .dataframe thead th {\n",
       "        text-align: right;\n",
       "    }\n",
       "</style>\n",
       "<table border=\"1\" class=\"dataframe\">\n",
       "  <thead>\n",
       "    <tr style=\"text-align: right;\">\n",
       "      <th>Symbol</th>\n",
       "      <th>AAPL</th>\n",
       "      <th>AXP</th>\n",
       "      <th>BA</th>\n",
       "      <th>BAC</th>\n",
       "      <th>CAT</th>\n",
       "      <th>CSCO</th>\n",
       "      <th>CVX</th>\n",
       "      <th>DD</th>\n",
       "      <th>DIS</th>\n",
       "      <th>GE</th>\n",
       "      <th>...</th>\n",
       "      <th>MMM</th>\n",
       "      <th>MRK</th>\n",
       "      <th>MSFT</th>\n",
       "      <th>PFE</th>\n",
       "      <th>PG</th>\n",
       "      <th>T</th>\n",
       "      <th>TRV</th>\n",
       "      <th>VZ</th>\n",
       "      <th>WMT</th>\n",
       "      <th>XOM</th>\n",
       "    </tr>\n",
       "    <tr>\n",
       "      <th>Date</th>\n",
       "      <th></th>\n",
       "      <th></th>\n",
       "      <th></th>\n",
       "      <th></th>\n",
       "      <th></th>\n",
       "      <th></th>\n",
       "      <th></th>\n",
       "      <th></th>\n",
       "      <th></th>\n",
       "      <th></th>\n",
       "      <th></th>\n",
       "      <th></th>\n",
       "      <th></th>\n",
       "      <th></th>\n",
       "      <th></th>\n",
       "      <th></th>\n",
       "      <th></th>\n",
       "      <th></th>\n",
       "      <th></th>\n",
       "      <th></th>\n",
       "      <th></th>\n",
       "    </tr>\n",
       "  </thead>\n",
       "  <tbody>\n",
       "    <tr>\n",
       "      <th>2000-01-03</th>\n",
       "      <td>0.849468</td>\n",
       "      <td>33.312675</td>\n",
       "      <td>25.940289</td>\n",
       "      <td>13.356879</td>\n",
       "      <td>13.100213</td>\n",
       "      <td>37.781273</td>\n",
       "      <td>17.849825</td>\n",
       "      <td>29.800068</td>\n",
       "      <td>23.115252</td>\n",
       "      <td>164.768677</td>\n",
       "      <td>...</td>\n",
       "      <td>25.525517</td>\n",
       "      <td>27.435106</td>\n",
       "      <td>36.282246</td>\n",
       "      <td>13.586055</td>\n",
       "      <td>28.788431</td>\n",
       "      <td>7.278184</td>\n",
       "      <td>18.308655</td>\n",
       "      <td>18.462103</td>\n",
       "      <td>43.873108</td>\n",
       "      <td>18.821230</td>\n",
       "    </tr>\n",
       "    <tr>\n",
       "      <th>2000-01-04</th>\n",
       "      <td>0.777850</td>\n",
       "      <td>32.054878</td>\n",
       "      <td>25.899944</td>\n",
       "      <td>12.564081</td>\n",
       "      <td>12.931826</td>\n",
       "      <td>35.661674</td>\n",
       "      <td>17.849825</td>\n",
       "      <td>28.985552</td>\n",
       "      <td>24.469284</td>\n",
       "      <td>158.177933</td>\n",
       "      <td>...</td>\n",
       "      <td>24.511265</td>\n",
       "      <td>26.471592</td>\n",
       "      <td>35.056622</td>\n",
       "      <td>13.079909</td>\n",
       "      <td>28.234491</td>\n",
       "      <td>6.852340</td>\n",
       "      <td>18.065924</td>\n",
       "      <td>17.865305</td>\n",
       "      <td>42.231476</td>\n",
       "      <td>18.460730</td>\n",
       "    </tr>\n",
       "    <tr>\n",
       "      <th>2000-01-05</th>\n",
       "      <td>0.789232</td>\n",
       "      <td>31.240702</td>\n",
       "      <td>27.513639</td>\n",
       "      <td>12.701962</td>\n",
       "      <td>13.234916</td>\n",
       "      <td>35.552418</td>\n",
       "      <td>18.170010</td>\n",
       "      <td>29.926456</td>\n",
       "      <td>25.484806</td>\n",
       "      <td>157.903336</td>\n",
       "      <td>...</td>\n",
       "      <td>25.221243</td>\n",
       "      <td>27.511164</td>\n",
       "      <td>35.426266</td>\n",
       "      <td>13.293026</td>\n",
       "      <td>27.697323</td>\n",
       "      <td>6.958803</td>\n",
       "      <td>17.927227</td>\n",
       "      <td>18.462103</td>\n",
       "      <td>41.369606</td>\n",
       "      <td>19.467129</td>\n",
       "    </tr>\n",
       "    <tr>\n",
       "      <th>2000-01-06</th>\n",
       "      <td>0.720933</td>\n",
       "      <td>31.877188</td>\n",
       "      <td>27.796043</td>\n",
       "      <td>13.787748</td>\n",
       "      <td>13.908456</td>\n",
       "      <td>34.962433</td>\n",
       "      <td>18.943756</td>\n",
       "      <td>30.769058</td>\n",
       "      <td>24.469284</td>\n",
       "      <td>160.014389</td>\n",
       "      <td>...</td>\n",
       "      <td>27.249754</td>\n",
       "      <td>27.739378</td>\n",
       "      <td>34.239559</td>\n",
       "      <td>13.772536</td>\n",
       "      <td>28.973074</td>\n",
       "      <td>6.823967</td>\n",
       "      <td>18.273983</td>\n",
       "      <td>18.368322</td>\n",
       "      <td>41.821064</td>\n",
       "      <td>20.473524</td>\n",
       "    </tr>\n",
       "    <tr>\n",
       "      <th>2000-01-07</th>\n",
       "      <td>0.755083</td>\n",
       "      <td>32.341286</td>\n",
       "      <td>28.602884</td>\n",
       "      <td>13.425817</td>\n",
       "      <td>14.363090</td>\n",
       "      <td>37.016479</td>\n",
       "      <td>19.277281</td>\n",
       "      <td>31.457190</td>\n",
       "      <td>24.082420</td>\n",
       "      <td>166.210388</td>\n",
       "      <td>...</td>\n",
       "      <td>27.790691</td>\n",
       "      <td>30.401756</td>\n",
       "      <td>34.687008</td>\n",
       "      <td>14.704914</td>\n",
       "      <td>31.289585</td>\n",
       "      <td>6.882459</td>\n",
       "      <td>19.002157</td>\n",
       "      <td>18.232683</td>\n",
       "      <td>44.981224</td>\n",
       "      <td>20.413443</td>\n",
       "    </tr>\n",
       "  </tbody>\n",
       "</table>\n",
       "<p>5 rows × 28 columns</p>\n",
       "</div>"
      ],
      "text/plain": [
       "Symbol          AAPL        AXP         BA        BAC        CAT       CSCO  \\\n",
       "Date                                                                          \n",
       "2000-01-03  0.849468  33.312675  25.940289  13.356879  13.100213  37.781273   \n",
       "2000-01-04  0.777850  32.054878  25.899944  12.564081  12.931826  35.661674   \n",
       "2000-01-05  0.789232  31.240702  27.513639  12.701962  13.234916  35.552418   \n",
       "2000-01-06  0.720933  31.877188  27.796043  13.787748  13.908456  34.962433   \n",
       "2000-01-07  0.755083  32.341286  28.602884  13.425817  14.363090  37.016479   \n",
       "\n",
       "Symbol            CVX         DD        DIS          GE  ...        MMM  \\\n",
       "Date                                                     ...              \n",
       "2000-01-03  17.849825  29.800068  23.115252  164.768677  ...  25.525517   \n",
       "2000-01-04  17.849825  28.985552  24.469284  158.177933  ...  24.511265   \n",
       "2000-01-05  18.170010  29.926456  25.484806  157.903336  ...  25.221243   \n",
       "2000-01-06  18.943756  30.769058  24.469284  160.014389  ...  27.249754   \n",
       "2000-01-07  19.277281  31.457190  24.082420  166.210388  ...  27.790691   \n",
       "\n",
       "Symbol            MRK       MSFT        PFE         PG         T        TRV  \\\n",
       "Date                                                                          \n",
       "2000-01-03  27.435106  36.282246  13.586055  28.788431  7.278184  18.308655   \n",
       "2000-01-04  26.471592  35.056622  13.079909  28.234491  6.852340  18.065924   \n",
       "2000-01-05  27.511164  35.426266  13.293026  27.697323  6.958803  17.927227   \n",
       "2000-01-06  27.739378  34.239559  13.772536  28.973074  6.823967  18.273983   \n",
       "2000-01-07  30.401756  34.687008  14.704914  31.289585  6.882459  19.002157   \n",
       "\n",
       "Symbol             VZ        WMT        XOM  \n",
       "Date                                         \n",
       "2000-01-03  18.462103  43.873108  18.821230  \n",
       "2000-01-04  17.865305  42.231476  18.460730  \n",
       "2000-01-05  18.462103  41.369606  19.467129  \n",
       "2000-01-06  18.368322  41.821064  20.473524  \n",
       "2000-01-07  18.232683  44.981224  20.413443  \n",
       "\n",
       "[5 rows x 28 columns]"
      ]
     },
     "execution_count": 131,
     "metadata": {},
     "output_type": "execute_result"
    }
   ],
   "source": [
    "rawdata['Adj Close'].head()"
   ]
  },
  {
   "cell_type": "markdown",
   "metadata": {
    "slideshow": {
     "slide_type": "subslide"
    }
   },
   "source": [
    "* Subsetting first level of hierarchical indexing: `Volume`"
   ]
  },
  {
   "cell_type": "code",
   "execution_count": 132,
   "metadata": {
    "slideshow": {
     "slide_type": "-"
    },
    "tags": []
   },
   "outputs": [
    {
     "data": {
      "text/html": [
       "<div>\n",
       "<style scoped>\n",
       "    .dataframe tbody tr th:only-of-type {\n",
       "        vertical-align: middle;\n",
       "    }\n",
       "\n",
       "    .dataframe tbody tr th {\n",
       "        vertical-align: top;\n",
       "    }\n",
       "\n",
       "    .dataframe thead th {\n",
       "        text-align: right;\n",
       "    }\n",
       "</style>\n",
       "<table border=\"1\" class=\"dataframe\">\n",
       "  <thead>\n",
       "    <tr style=\"text-align: right;\">\n",
       "      <th>Symbol</th>\n",
       "      <th>AAPL</th>\n",
       "      <th>AXP</th>\n",
       "      <th>BA</th>\n",
       "      <th>BAC</th>\n",
       "      <th>CAT</th>\n",
       "      <th>CSCO</th>\n",
       "      <th>CVX</th>\n",
       "      <th>DD</th>\n",
       "      <th>DIS</th>\n",
       "      <th>GE</th>\n",
       "      <th>...</th>\n",
       "      <th>MMM</th>\n",
       "      <th>MRK</th>\n",
       "      <th>MSFT</th>\n",
       "      <th>PFE</th>\n",
       "      <th>PG</th>\n",
       "      <th>T</th>\n",
       "      <th>TRV</th>\n",
       "      <th>VZ</th>\n",
       "      <th>WMT</th>\n",
       "      <th>XOM</th>\n",
       "    </tr>\n",
       "    <tr>\n",
       "      <th>Date</th>\n",
       "      <th></th>\n",
       "      <th></th>\n",
       "      <th></th>\n",
       "      <th></th>\n",
       "      <th></th>\n",
       "      <th></th>\n",
       "      <th></th>\n",
       "      <th></th>\n",
       "      <th></th>\n",
       "      <th></th>\n",
       "      <th></th>\n",
       "      <th></th>\n",
       "      <th></th>\n",
       "      <th></th>\n",
       "      <th></th>\n",
       "      <th></th>\n",
       "      <th></th>\n",
       "      <th></th>\n",
       "      <th></th>\n",
       "      <th></th>\n",
       "      <th></th>\n",
       "    </tr>\n",
       "  </thead>\n",
       "  <tbody>\n",
       "    <tr>\n",
       "      <th>2000-01-03</th>\n",
       "      <td>535796800</td>\n",
       "      <td>6471267</td>\n",
       "      <td>2638200</td>\n",
       "      <td>13705800</td>\n",
       "      <td>5055000</td>\n",
       "      <td>53076000</td>\n",
       "      <td>4387600</td>\n",
       "      <td>1296100</td>\n",
       "      <td>8402230</td>\n",
       "      <td>3675284</td>\n",
       "      <td>...</td>\n",
       "      <td>2173400</td>\n",
       "      <td>6265782</td>\n",
       "      <td>53228400</td>\n",
       "      <td>12873345</td>\n",
       "      <td>4275000</td>\n",
       "      <td>7668476</td>\n",
       "      <td>336400</td>\n",
       "      <td>4663843</td>\n",
       "      <td>8369900</td>\n",
       "      <td>13458200</td>\n",
       "    </tr>\n",
       "    <tr>\n",
       "      <th>2000-01-04</th>\n",
       "      <td>512377600</td>\n",
       "      <td>10440877</td>\n",
       "      <td>3592100</td>\n",
       "      <td>27293400</td>\n",
       "      <td>6181400</td>\n",
       "      <td>50805600</td>\n",
       "      <td>3702400</td>\n",
       "      <td>2073676</td>\n",
       "      <td>16051191</td>\n",
       "      <td>3683877</td>\n",
       "      <td>...</td>\n",
       "      <td>2713800</td>\n",
       "      <td>7894689</td>\n",
       "      <td>54119000</td>\n",
       "      <td>14208974</td>\n",
       "      <td>4270800</td>\n",
       "      <td>9497846</td>\n",
       "      <td>494400</td>\n",
       "      <td>5005878</td>\n",
       "      <td>6745100</td>\n",
       "      <td>14510800</td>\n",
       "    </tr>\n",
       "    <tr>\n",
       "      <th>2000-01-05</th>\n",
       "      <td>778321600</td>\n",
       "      <td>8646293</td>\n",
       "      <td>7631700</td>\n",
       "      <td>22855600</td>\n",
       "      <td>6398600</td>\n",
       "      <td>68524000</td>\n",
       "      <td>5567600</td>\n",
       "      <td>3653278</td>\n",
       "      <td>19823822</td>\n",
       "      <td>4545070</td>\n",
       "      <td>...</td>\n",
       "      <td>3699400</td>\n",
       "      <td>7963018</td>\n",
       "      <td>64059600</td>\n",
       "      <td>12981591</td>\n",
       "      <td>5098400</td>\n",
       "      <td>12035160</td>\n",
       "      <td>736000</td>\n",
       "      <td>6368681</td>\n",
       "      <td>7018700</td>\n",
       "      <td>17485000</td>\n",
       "    </tr>\n",
       "    <tr>\n",
       "      <th>2000-01-06</th>\n",
       "      <td>767972800</td>\n",
       "      <td>10990975</td>\n",
       "      <td>4922200</td>\n",
       "      <td>17307000</td>\n",
       "      <td>5140600</td>\n",
       "      <td>48242600</td>\n",
       "      <td>4353400</td>\n",
       "      <td>4885511</td>\n",
       "      <td>7903193</td>\n",
       "      <td>3309484</td>\n",
       "      <td>...</td>\n",
       "      <td>5975800</td>\n",
       "      <td>4989004</td>\n",
       "      <td>54976600</td>\n",
       "      <td>11115273</td>\n",
       "      <td>6524200</td>\n",
       "      <td>9471366</td>\n",
       "      <td>660400</td>\n",
       "      <td>4705763</td>\n",
       "      <td>6544500</td>\n",
       "      <td>19461600</td>\n",
       "    </tr>\n",
       "    <tr>\n",
       "      <th>2000-01-07</th>\n",
       "      <td>460734400</td>\n",
       "      <td>6016452</td>\n",
       "      <td>6008300</td>\n",
       "      <td>11632800</td>\n",
       "      <td>6360200</td>\n",
       "      <td>62260600</td>\n",
       "      <td>4487400</td>\n",
       "      <td>3469265</td>\n",
       "      <td>6773543</td>\n",
       "      <td>3354147</td>\n",
       "      <td>...</td>\n",
       "      <td>4101200</td>\n",
       "      <td>10871218</td>\n",
       "      <td>62013600</td>\n",
       "      <td>17962163</td>\n",
       "      <td>9832000</td>\n",
       "      <td>7792534</td>\n",
       "      <td>594700</td>\n",
       "      <td>5043907</td>\n",
       "      <td>7976900</td>\n",
       "      <td>16603800</td>\n",
       "    </tr>\n",
       "  </tbody>\n",
       "</table>\n",
       "<p>5 rows × 28 columns</p>\n",
       "</div>"
      ],
      "text/plain": [
       "Symbol           AAPL       AXP       BA       BAC      CAT      CSCO  \\\n",
       "Date                                                                    \n",
       "2000-01-03  535796800   6471267  2638200  13705800  5055000  53076000   \n",
       "2000-01-04  512377600  10440877  3592100  27293400  6181400  50805600   \n",
       "2000-01-05  778321600   8646293  7631700  22855600  6398600  68524000   \n",
       "2000-01-06  767972800  10990975  4922200  17307000  5140600  48242600   \n",
       "2000-01-07  460734400   6016452  6008300  11632800  6360200  62260600   \n",
       "\n",
       "Symbol          CVX       DD       DIS       GE  ...      MMM       MRK  \\\n",
       "Date                                             ...                      \n",
       "2000-01-03  4387600  1296100   8402230  3675284  ...  2173400   6265782   \n",
       "2000-01-04  3702400  2073676  16051191  3683877  ...  2713800   7894689   \n",
       "2000-01-05  5567600  3653278  19823822  4545070  ...  3699400   7963018   \n",
       "2000-01-06  4353400  4885511   7903193  3309484  ...  5975800   4989004   \n",
       "2000-01-07  4487400  3469265   6773543  3354147  ...  4101200  10871218   \n",
       "\n",
       "Symbol          MSFT       PFE       PG         T     TRV       VZ      WMT  \\\n",
       "Date                                                                          \n",
       "2000-01-03  53228400  12873345  4275000   7668476  336400  4663843  8369900   \n",
       "2000-01-04  54119000  14208974  4270800   9497846  494400  5005878  6745100   \n",
       "2000-01-05  64059600  12981591  5098400  12035160  736000  6368681  7018700   \n",
       "2000-01-06  54976600  11115273  6524200   9471366  660400  4705763  6544500   \n",
       "2000-01-07  62013600  17962163  9832000   7792534  594700  5043907  7976900   \n",
       "\n",
       "Symbol           XOM  \n",
       "Date                  \n",
       "2000-01-03  13458200  \n",
       "2000-01-04  14510800  \n",
       "2000-01-05  17485000  \n",
       "2000-01-06  19461600  \n",
       "2000-01-07  16603800  \n",
       "\n",
       "[5 rows x 28 columns]"
      ]
     },
     "execution_count": 132,
     "metadata": {},
     "output_type": "execute_result"
    }
   ],
   "source": [
    "rawdata.loc[:, 'Volume'].head()"
   ]
  },
  {
   "cell_type": "markdown",
   "metadata": {
    "slideshow": {
     "slide_type": "subslide"
    }
   },
   "source": [
    "* Subsetting second level is slightly harder: `AAPL`"
   ]
  },
  {
   "cell_type": "code",
   "execution_count": 133,
   "metadata": {
    "slideshow": {
     "slide_type": "-"
    },
    "tags": []
   },
   "outputs": [
    {
     "data": {
      "text/html": [
       "<div>\n",
       "<style scoped>\n",
       "    .dataframe tbody tr th:only-of-type {\n",
       "        vertical-align: middle;\n",
       "    }\n",
       "\n",
       "    .dataframe tbody tr th {\n",
       "        vertical-align: top;\n",
       "    }\n",
       "\n",
       "    .dataframe thead tr th {\n",
       "        text-align: left;\n",
       "    }\n",
       "\n",
       "    .dataframe thead tr:last-of-type th {\n",
       "        text-align: right;\n",
       "    }\n",
       "</style>\n",
       "<table border=\"1\" class=\"dataframe\">\n",
       "  <thead>\n",
       "    <tr>\n",
       "      <th>Value</th>\n",
       "      <th>Adj Close</th>\n",
       "      <th>Close</th>\n",
       "      <th>High</th>\n",
       "      <th>Low</th>\n",
       "      <th>Open</th>\n",
       "      <th>Volume</th>\n",
       "    </tr>\n",
       "    <tr>\n",
       "      <th>Symbol</th>\n",
       "      <th>AAPL</th>\n",
       "      <th>AAPL</th>\n",
       "      <th>AAPL</th>\n",
       "      <th>AAPL</th>\n",
       "      <th>AAPL</th>\n",
       "      <th>AAPL</th>\n",
       "    </tr>\n",
       "    <tr>\n",
       "      <th>Date</th>\n",
       "      <th></th>\n",
       "      <th></th>\n",
       "      <th></th>\n",
       "      <th></th>\n",
       "      <th></th>\n",
       "      <th></th>\n",
       "    </tr>\n",
       "  </thead>\n",
       "  <tbody>\n",
       "    <tr>\n",
       "      <th>2000-01-03</th>\n",
       "      <td>0.849468</td>\n",
       "      <td>0.999442</td>\n",
       "      <td>1.004464</td>\n",
       "      <td>0.907924</td>\n",
       "      <td>0.936384</td>\n",
       "      <td>535796800</td>\n",
       "    </tr>\n",
       "    <tr>\n",
       "      <th>2000-01-04</th>\n",
       "      <td>0.777850</td>\n",
       "      <td>0.915179</td>\n",
       "      <td>0.987723</td>\n",
       "      <td>0.903460</td>\n",
       "      <td>0.966518</td>\n",
       "      <td>512377600</td>\n",
       "    </tr>\n",
       "    <tr>\n",
       "      <th>2000-01-05</th>\n",
       "      <td>0.789232</td>\n",
       "      <td>0.928571</td>\n",
       "      <td>0.987165</td>\n",
       "      <td>0.919643</td>\n",
       "      <td>0.926339</td>\n",
       "      <td>778321600</td>\n",
       "    </tr>\n",
       "    <tr>\n",
       "      <th>2000-01-06</th>\n",
       "      <td>0.720933</td>\n",
       "      <td>0.848214</td>\n",
       "      <td>0.955357</td>\n",
       "      <td>0.848214</td>\n",
       "      <td>0.947545</td>\n",
       "      <td>767972800</td>\n",
       "    </tr>\n",
       "    <tr>\n",
       "      <th>2000-01-07</th>\n",
       "      <td>0.755083</td>\n",
       "      <td>0.888393</td>\n",
       "      <td>0.901786</td>\n",
       "      <td>0.852679</td>\n",
       "      <td>0.861607</td>\n",
       "      <td>460734400</td>\n",
       "    </tr>\n",
       "  </tbody>\n",
       "</table>\n",
       "</div>"
      ],
      "text/plain": [
       "Value      Adj Close     Close      High       Low      Open     Volume\n",
       "Symbol          AAPL      AAPL      AAPL      AAPL      AAPL       AAPL\n",
       "Date                                                                   \n",
       "2000-01-03  0.849468  0.999442  1.004464  0.907924  0.936384  535796800\n",
       "2000-01-04  0.777850  0.915179  0.987723  0.903460  0.966518  512377600\n",
       "2000-01-05  0.789232  0.928571  0.987165  0.919643  0.926339  778321600\n",
       "2000-01-06  0.720933  0.848214  0.955357  0.848214  0.947545  767972800\n",
       "2000-01-07  0.755083  0.888393  0.901786  0.852679  0.861607  460734400"
      ]
     },
     "execution_count": 133,
     "metadata": {},
     "output_type": "execute_result"
    }
   ],
   "source": [
    "idx = pd.IndexSlice\n",
    "rawdata.loc[:, idx[:, 'AAPL']].head()"
   ]
  },
  {
   "cell_type": "markdown",
   "metadata": {
    "slideshow": {
     "slide_type": "subslide"
    }
   },
   "source": [
    "* Subsetting `Open`, `High`, `Low`, and `Close` (OHLC) for `AAPL`:"
   ]
  },
  {
   "cell_type": "code",
   "execution_count": 134,
   "metadata": {
    "slideshow": {
     "slide_type": "-"
    },
    "tags": []
   },
   "outputs": [
    {
     "data": {
      "text/html": [
       "<div>\n",
       "<style scoped>\n",
       "    .dataframe tbody tr th:only-of-type {\n",
       "        vertical-align: middle;\n",
       "    }\n",
       "\n",
       "    .dataframe tbody tr th {\n",
       "        vertical-align: top;\n",
       "    }\n",
       "\n",
       "    .dataframe thead tr th {\n",
       "        text-align: left;\n",
       "    }\n",
       "\n",
       "    .dataframe thead tr:last-of-type th {\n",
       "        text-align: right;\n",
       "    }\n",
       "</style>\n",
       "<table border=\"1\" class=\"dataframe\">\n",
       "  <thead>\n",
       "    <tr>\n",
       "      <th>Value</th>\n",
       "      <th>Close</th>\n",
       "      <th>High</th>\n",
       "      <th>Low</th>\n",
       "      <th>Open</th>\n",
       "    </tr>\n",
       "    <tr>\n",
       "      <th>Symbol</th>\n",
       "      <th>AAPL</th>\n",
       "      <th>AAPL</th>\n",
       "      <th>AAPL</th>\n",
       "      <th>AAPL</th>\n",
       "    </tr>\n",
       "    <tr>\n",
       "      <th>Date</th>\n",
       "      <th></th>\n",
       "      <th></th>\n",
       "      <th></th>\n",
       "      <th></th>\n",
       "    </tr>\n",
       "  </thead>\n",
       "  <tbody>\n",
       "    <tr>\n",
       "      <th>2000-01-03</th>\n",
       "      <td>0.999442</td>\n",
       "      <td>1.004464</td>\n",
       "      <td>0.907924</td>\n",
       "      <td>0.936384</td>\n",
       "    </tr>\n",
       "    <tr>\n",
       "      <th>2000-01-04</th>\n",
       "      <td>0.915179</td>\n",
       "      <td>0.987723</td>\n",
       "      <td>0.903460</td>\n",
       "      <td>0.966518</td>\n",
       "    </tr>\n",
       "    <tr>\n",
       "      <th>2000-01-05</th>\n",
       "      <td>0.928571</td>\n",
       "      <td>0.987165</td>\n",
       "      <td>0.919643</td>\n",
       "      <td>0.926339</td>\n",
       "    </tr>\n",
       "    <tr>\n",
       "      <th>2000-01-06</th>\n",
       "      <td>0.848214</td>\n",
       "      <td>0.955357</td>\n",
       "      <td>0.848214</td>\n",
       "      <td>0.947545</td>\n",
       "    </tr>\n",
       "    <tr>\n",
       "      <th>2000-01-07</th>\n",
       "      <td>0.888393</td>\n",
       "      <td>0.901786</td>\n",
       "      <td>0.852679</td>\n",
       "      <td>0.861607</td>\n",
       "    </tr>\n",
       "  </tbody>\n",
       "</table>\n",
       "</div>"
      ],
      "text/plain": [
       "Value          Close      High       Low      Open\n",
       "Symbol          AAPL      AAPL      AAPL      AAPL\n",
       "Date                                              \n",
       "2000-01-03  0.999442  1.004464  0.907924  0.936384\n",
       "2000-01-04  0.915179  0.987723  0.903460  0.966518\n",
       "2000-01-05  0.928571  0.987165  0.919643  0.926339\n",
       "2000-01-06  0.848214  0.955357  0.848214  0.947545\n",
       "2000-01-07  0.888393  0.901786  0.852679  0.861607"
      ]
     },
     "execution_count": 134,
     "metadata": {},
     "output_type": "execute_result"
    }
   ],
   "source": [
    "aapl = rawdata.loc[:, idx['Close':'Open', 'AAPL']]\n",
    "aapl.head()"
   ]
  },
  {
   "cell_type": "markdown",
   "metadata": {
    "slideshow": {
     "slide_type": "subslide"
    }
   },
   "source": [
    "* Drop redudant index level, `AAPL`:"
   ]
  },
  {
   "cell_type": "code",
   "execution_count": 135,
   "metadata": {
    "slideshow": {
     "slide_type": "-"
    },
    "tags": []
   },
   "outputs": [
    {
     "data": {
      "text/html": [
       "<div>\n",
       "<style scoped>\n",
       "    .dataframe tbody tr th:only-of-type {\n",
       "        vertical-align: middle;\n",
       "    }\n",
       "\n",
       "    .dataframe tbody tr th {\n",
       "        vertical-align: top;\n",
       "    }\n",
       "\n",
       "    .dataframe thead th {\n",
       "        text-align: right;\n",
       "    }\n",
       "</style>\n",
       "<table border=\"1\" class=\"dataframe\">\n",
       "  <thead>\n",
       "    <tr style=\"text-align: right;\">\n",
       "      <th>Value</th>\n",
       "      <th>Close</th>\n",
       "      <th>High</th>\n",
       "      <th>Low</th>\n",
       "      <th>Open</th>\n",
       "    </tr>\n",
       "    <tr>\n",
       "      <th>Date</th>\n",
       "      <th></th>\n",
       "      <th></th>\n",
       "      <th></th>\n",
       "      <th></th>\n",
       "    </tr>\n",
       "  </thead>\n",
       "  <tbody>\n",
       "    <tr>\n",
       "      <th>2023-02-02</th>\n",
       "      <td>150.820007</td>\n",
       "      <td>151.179993</td>\n",
       "      <td>148.169998</td>\n",
       "      <td>148.899994</td>\n",
       "    </tr>\n",
       "    <tr>\n",
       "      <th>2023-02-03</th>\n",
       "      <td>154.500000</td>\n",
       "      <td>157.380005</td>\n",
       "      <td>147.830002</td>\n",
       "      <td>148.029999</td>\n",
       "    </tr>\n",
       "    <tr>\n",
       "      <th>2023-02-06</th>\n",
       "      <td>151.729996</td>\n",
       "      <td>153.100006</td>\n",
       "      <td>150.779999</td>\n",
       "      <td>152.570007</td>\n",
       "    </tr>\n",
       "    <tr>\n",
       "      <th>2023-02-07</th>\n",
       "      <td>154.649994</td>\n",
       "      <td>155.229996</td>\n",
       "      <td>150.639999</td>\n",
       "      <td>150.639999</td>\n",
       "    </tr>\n",
       "    <tr>\n",
       "      <th>2023-02-08</th>\n",
       "      <td>151.919998</td>\n",
       "      <td>154.580002</td>\n",
       "      <td>151.169998</td>\n",
       "      <td>153.880005</td>\n",
       "    </tr>\n",
       "  </tbody>\n",
       "</table>\n",
       "</div>"
      ],
      "text/plain": [
       "Value            Close        High         Low        Open\n",
       "Date                                                      \n",
       "2023-02-02  150.820007  151.179993  148.169998  148.899994\n",
       "2023-02-03  154.500000  157.380005  147.830002  148.029999\n",
       "2023-02-06  151.729996  153.100006  150.779999  152.570007\n",
       "2023-02-07  154.649994  155.229996  150.639999  150.639999\n",
       "2023-02-08  151.919998  154.580002  151.169998  153.880005"
      ]
     },
     "execution_count": 135,
     "metadata": {},
     "output_type": "execute_result"
    }
   ],
   "source": [
    "aapl = rawdata.loc[:, idx['Close':'Open', 'AAPL']].droplevel('Symbol', axis=1).tail(60)\n",
    "aapl.head()"
   ]
  },
  {
   "cell_type": "markdown",
   "metadata": {
    "slideshow": {
     "slide_type": "slide"
    }
   },
   "source": [
    "### Example Figure: Candlestick Chart for 3M"
   ]
  },
  {
   "cell_type": "code",
   "execution_count": 136,
   "metadata": {
    "slideshow": {
     "slide_type": "-"
    },
    "tags": []
   },
   "outputs": [
    {
     "data": {
      "text/html": [
       "\n",
       "<div id=\"altair-viz-9c262fb457d94ce483b7bab691a5426b\"></div>\n",
       "<script type=\"text/javascript\">\n",
       "  var VEGA_DEBUG = (typeof VEGA_DEBUG == \"undefined\") ? {} : VEGA_DEBUG;\n",
       "  (function(spec, embedOpt){\n",
       "    let outputDiv = document.currentScript.previousElementSibling;\n",
       "    if (outputDiv.id !== \"altair-viz-9c262fb457d94ce483b7bab691a5426b\") {\n",
       "      outputDiv = document.getElementById(\"altair-viz-9c262fb457d94ce483b7bab691a5426b\");\n",
       "    }\n",
       "    const paths = {\n",
       "      \"vega\": \"https://cdn.jsdelivr.net/npm//vega@5?noext\",\n",
       "      \"vega-lib\": \"https://cdn.jsdelivr.net/npm//vega-lib?noext\",\n",
       "      \"vega-lite\": \"https://cdn.jsdelivr.net/npm//vega-lite@4.17.0?noext\",\n",
       "      \"vega-embed\": \"https://cdn.jsdelivr.net/npm//vega-embed@6?noext\",\n",
       "    };\n",
       "\n",
       "    function maybeLoadScript(lib, version) {\n",
       "      var key = `${lib.replace(\"-\", \"\")}_version`;\n",
       "      return (VEGA_DEBUG[key] == version) ?\n",
       "        Promise.resolve(paths[lib]) :\n",
       "        new Promise(function(resolve, reject) {\n",
       "          var s = document.createElement('script');\n",
       "          document.getElementsByTagName(\"head\")[0].appendChild(s);\n",
       "          s.async = true;\n",
       "          s.onload = () => {\n",
       "            VEGA_DEBUG[key] = version;\n",
       "            return resolve(paths[lib]);\n",
       "          };\n",
       "          s.onerror = () => reject(`Error loading script: ${paths[lib]}`);\n",
       "          s.src = paths[lib];\n",
       "        });\n",
       "    }\n",
       "\n",
       "    function showError(err) {\n",
       "      outputDiv.innerHTML = `<div class=\"error\" style=\"color:red;\">${err}</div>`;\n",
       "      throw err;\n",
       "    }\n",
       "\n",
       "    function displayChart(vegaEmbed) {\n",
       "      vegaEmbed(outputDiv, spec, embedOpt)\n",
       "        .catch(err => showError(`Javascript Error: ${err.message}<br>This usually means there's a typo in your chart specification. See the javascript console for the full traceback.`));\n",
       "    }\n",
       "\n",
       "    if(typeof define === \"function\" && define.amd) {\n",
       "      requirejs.config({paths});\n",
       "      require([\"vega-embed\"], displayChart, err => showError(`Error loading script: ${err.message}`));\n",
       "    } else {\n",
       "      maybeLoadScript(\"vega\", \"5\")\n",
       "        .then(() => maybeLoadScript(\"vega-lite\", \"4.17.0\"))\n",
       "        .then(() => maybeLoadScript(\"vega-embed\", \"6\"))\n",
       "        .catch(showError)\n",
       "        .then(() => displayChart(vegaEmbed));\n",
       "    }\n",
       "  })({\"config\": {\"view\": {\"continuousWidth\": 400, \"continuousHeight\": 300}}, \"layer\": [{\"mark\": \"rule\", \"encoding\": {\"color\": {\"condition\": {\"value\": \"#06982d\", \"test\": \"datum.Open <= datum.Close\"}, \"value\": \"#ae1325\"}, \"x\": {\"axis\": {\"format\": \"%m-%d-%Y\", \"labelAngle\": -90}, \"field\": \"Date\", \"type\": \"temporal\"}, \"y\": {\"field\": \"Low\", \"scale\": {\"zero\": false}, \"title\": \"Price\", \"type\": \"quantitative\"}, \"y2\": {\"field\": \"High\"}}}, {\"mark\": \"bar\", \"encoding\": {\"color\": {\"condition\": {\"value\": \"#06982d\", \"test\": \"datum.Open <= datum.Close\"}, \"value\": \"#ae1325\"}, \"x\": {\"axis\": {\"format\": \"%m-%d-%Y\", \"labelAngle\": -90}, \"field\": \"Date\", \"type\": \"temporal\"}, \"y\": {\"field\": \"Open\", \"type\": \"quantitative\"}, \"y2\": {\"field\": \"Close\"}}}], \"data\": {\"name\": \"data-e715c65fd6e605c61b52af3244004353\"}, \"$schema\": \"https://vega.github.io/schema/vega-lite/v4.17.0.json\", \"datasets\": {\"data-e715c65fd6e605c61b52af3244004353\": [{\"Date\": \"2023-02-02T00:00:00\", \"Close\": 120.29000091552734, \"High\": 120.8499984741211, \"Low\": 115.51000213623047, \"Open\": 116.08999633789062}, {\"Date\": \"2023-02-03T00:00:00\", \"Close\": 117.48999786376953, \"High\": 119.2300033569336, \"Low\": 116.79000091552734, \"Open\": 118.93000030517578}, {\"Date\": \"2023-02-06T00:00:00\", \"Close\": 116.5, \"High\": 117.26000213623047, \"Low\": 115.87999725341797, \"Open\": 116.79000091552734}, {\"Date\": \"2023-02-07T00:00:00\", \"Close\": 116.9000015258789, \"High\": 117.20999908447266, \"Low\": 114.7699966430664, \"Open\": 115.81999969482422}, {\"Date\": \"2023-02-08T00:00:00\", \"Close\": 115.25, \"High\": 116.69000244140625, \"Low\": 115.01000213623047, \"Open\": 116.16999816894531}, {\"Date\": \"2023-02-09T00:00:00\", \"Close\": 112.93000030517578, \"High\": 116.79000091552734, \"Low\": 112.45999908447266, \"Open\": 116.43000030517578}, {\"Date\": \"2023-02-10T00:00:00\", \"Close\": 113.87999725341797, \"High\": 114.22000122070312, \"Low\": 112.69999694824219, \"Open\": 113.2300033569336}, {\"Date\": \"2023-02-13T00:00:00\", \"Close\": 115.27999877929688, \"High\": 115.62000274658203, \"Low\": 113.80000305175781, \"Open\": 114.37000274658203}, {\"Date\": \"2023-02-14T00:00:00\", \"Close\": 114.20999908447266, \"High\": 115.08000183105469, \"Low\": 112.94999694824219, \"Open\": 114.79000091552734}, {\"Date\": \"2023-02-15T00:00:00\", \"Close\": 114.79000091552734, \"High\": 114.81999969482422, \"Low\": 113.19999694824219, \"Open\": 113.6500015258789}, {\"Date\": \"2023-02-16T00:00:00\", \"Close\": 112.0, \"High\": 113.33999633789062, \"Low\": 110.76000213623047, \"Open\": 112.5}, {\"Date\": \"2023-02-17T00:00:00\", \"Close\": 112.98999786376953, \"High\": 113.04000091552734, \"Low\": 110.68000030517578, \"Open\": 111.95999908447266}, {\"Date\": \"2023-02-21T00:00:00\", \"Close\": 109.25, \"High\": 112.4000015258789, \"Low\": 109.18000030517578, \"Open\": 112.0}, {\"Date\": \"2023-02-22T00:00:00\", \"Close\": 108.94000244140625, \"High\": 110.37999725341797, \"Low\": 108.51000213623047, \"Open\": 109.52999877929688}, {\"Date\": \"2023-02-23T00:00:00\", \"Close\": 108.91000366210938, \"High\": 110.29000091552734, \"Low\": 108.01000213623047, \"Open\": 109.69999694824219}, {\"Date\": \"2023-02-24T00:00:00\", \"Close\": 107.80000305175781, \"High\": 108.54000091552734, \"Low\": 106.76000213623047, \"Open\": 108.11000061035156}, {\"Date\": \"2023-02-27T00:00:00\", \"Close\": 108.2699966430664, \"High\": 110.69000244140625, \"Low\": 108.19999694824219, \"Open\": 108.86000061035156}, {\"Date\": \"2023-02-28T00:00:00\", \"Close\": 107.73999786376953, \"High\": 108.91999816894531, \"Low\": 107.25, \"Open\": 108.12000274658203}, {\"Date\": \"2023-03-01T00:00:00\", \"Close\": 110.20999908447266, \"High\": 112.33000183105469, \"Low\": 109.73999786376953, \"Open\": 111.04000091552734}, {\"Date\": \"2023-03-02T00:00:00\", \"Close\": 109.9000015258789, \"High\": 110.23999786376953, \"Low\": 107.72000122070312, \"Open\": 109.75}, {\"Date\": \"2023-03-03T00:00:00\", \"Close\": 111.26000213623047, \"High\": 111.98999786376953, \"Low\": 109.61000061035156, \"Open\": 110.77999877929688}, {\"Date\": \"2023-03-06T00:00:00\", \"Close\": 109.93000030517578, \"High\": 111.62000274658203, \"Low\": 109.68000030517578, \"Open\": 111.4000015258789}, {\"Date\": \"2023-03-07T00:00:00\", \"Close\": 107.08999633789062, \"High\": 110.01000213623047, \"Low\": 107.04000091552734, \"Open\": 110.0}, {\"Date\": \"2023-03-08T00:00:00\", \"Close\": 107.16000366210938, \"High\": 107.7699966430664, \"Low\": 106.18000030517578, \"Open\": 107.44000244140625}, {\"Date\": \"2023-03-09T00:00:00\", \"Close\": 105.5199966430664, \"High\": 108.55999755859375, \"Low\": 105.41999816894531, \"Open\": 107.66000366210938}, {\"Date\": \"2023-03-10T00:00:00\", \"Close\": 104.05999755859375, \"High\": 107.0, \"Low\": 103.73999786376953, \"Open\": 105.54000091552734}, {\"Date\": \"2023-03-13T00:00:00\", \"Close\": 103.5, \"High\": 104.68000030517578, \"Low\": 102.7300033569336, \"Open\": 103.66999816894531}, {\"Date\": \"2023-03-14T00:00:00\", \"Close\": 102.77999877929688, \"High\": 105.16999816894531, \"Low\": 101.37000274658203, \"Open\": 104.58999633789062}, {\"Date\": \"2023-03-15T00:00:00\", \"Close\": 102.77999877929688, \"High\": 102.81999969482422, \"Low\": 100.2699966430664, \"Open\": 101.31999969482422}, {\"Date\": \"2023-03-16T00:00:00\", \"Close\": 104.20999908447266, \"High\": 104.43000030517578, \"Low\": 101.4800033569336, \"Open\": 101.77999877929688}, {\"Date\": \"2023-03-17T00:00:00\", \"Close\": 103.0199966430664, \"High\": 104.45999908447266, \"Low\": 101.97000122070312, \"Open\": 104.3499984741211}, {\"Date\": \"2023-03-20T00:00:00\", \"Close\": 104.30999755859375, \"High\": 104.44999694824219, \"Low\": 103.22000122070312, \"Open\": 103.41000366210938}, {\"Date\": \"2023-03-21T00:00:00\", \"Close\": 104.29000091552734, \"High\": 105.4800033569336, \"Low\": 103.37000274658203, \"Open\": 105.23999786376953}, {\"Date\": \"2023-03-22T00:00:00\", \"Close\": 101.54000091552734, \"High\": 104.55000305175781, \"Low\": 101.5, \"Open\": 104.31999969482422}, {\"Date\": \"2023-03-23T00:00:00\", \"Close\": 101.0, \"High\": 102.93000030517578, \"Low\": 100.76000213623047, \"Open\": 101.66000366210938}, {\"Date\": \"2023-03-24T00:00:00\", \"Close\": 101.13999938964844, \"High\": 101.33999633789062, \"Low\": 100.16000366210938, \"Open\": 100.37000274658203}, {\"Date\": \"2023-03-27T00:00:00\", \"Close\": 101.48999786376953, \"High\": 102.27999877929688, \"Low\": 100.5999984741211, \"Open\": 102.22000122070312}, {\"Date\": \"2023-03-28T00:00:00\", \"Close\": 101.73999786376953, \"High\": 102.83000183105469, \"Low\": 101.30999755859375, \"Open\": 101.58999633789062}, {\"Date\": \"2023-03-29T00:00:00\", \"Close\": 103.19000244140625, \"High\": 103.23999786376953, \"Low\": 101.9000015258789, \"Open\": 102.80999755859375}, {\"Date\": \"2023-03-30T00:00:00\", \"Close\": 102.77999877929688, \"High\": 103.91999816894531, \"Low\": 102.52999877929688, \"Open\": 103.75}, {\"Date\": \"2023-03-31T00:00:00\", \"Close\": 105.11000061035156, \"High\": 105.19000244140625, \"Low\": 103.01000213623047, \"Open\": 103.5}, {\"Date\": \"2023-04-03T00:00:00\", \"Close\": 104.56999969482422, \"High\": 105.83999633789062, \"Low\": 104.18000030517578, \"Open\": 105.1500015258789}, {\"Date\": \"2023-04-04T00:00:00\", \"Close\": 102.25, \"High\": 104.9000015258789, \"Low\": 102.06999969482422, \"Open\": 104.9000015258789}, {\"Date\": \"2023-04-05T00:00:00\", \"Close\": 102.29000091552734, \"High\": 102.7699966430664, \"Low\": 101.68000030517578, \"Open\": 102.36000061035156}, {\"Date\": \"2023-04-06T00:00:00\", \"Close\": 101.55999755859375, \"High\": 102.80000305175781, \"Low\": 101.5199966430664, \"Open\": 102.3499984741211}, {\"Date\": \"2023-04-10T00:00:00\", \"Close\": 102.76000213623047, \"High\": 103.12999725341797, \"Low\": 101.05000305175781, \"Open\": 101.5999984741211}, {\"Date\": \"2023-04-11T00:00:00\", \"Close\": 104.55999755859375, \"High\": 104.77999877929688, \"Low\": 103.30999755859375, \"Open\": 103.62999725341797}, {\"Date\": \"2023-04-12T00:00:00\", \"Close\": 104.37000274658203, \"High\": 105.1500015258789, \"Low\": 103.69000244140625, \"Open\": 105.0}, {\"Date\": \"2023-04-13T00:00:00\", \"Close\": 106.1500015258789, \"High\": 106.44000244140625, \"Low\": 104.08999633789062, \"Open\": 104.83999633789062}, {\"Date\": \"2023-04-14T00:00:00\", \"Close\": 105.7699966430664, \"High\": 107.12000274658203, \"Low\": 105.01000213623047, \"Open\": 106.0}, {\"Date\": \"2023-04-17T00:00:00\", \"Close\": 106.77999877929688, \"High\": 107.0999984741211, \"Low\": 105.94000244140625, \"Open\": 106.16000366210938}, {\"Date\": \"2023-04-18T00:00:00\", \"Close\": 106.2699966430664, \"High\": 107.30000305175781, \"Low\": 105.87000274658203, \"Open\": 107.2300033569336}, {\"Date\": \"2023-04-19T00:00:00\", \"Close\": 106.08000183105469, \"High\": 106.33999633789062, \"Low\": 105.45999908447266, \"Open\": 105.69999694824219}, {\"Date\": \"2023-04-20T00:00:00\", \"Close\": 104.7300033569336, \"High\": 105.58999633789062, \"Low\": 104.11000061035156, \"Open\": 105.45999908447266}, {\"Date\": \"2023-04-21T00:00:00\", \"Close\": 104.4800033569336, \"High\": 105.12000274658203, \"Low\": 104.05999755859375, \"Open\": 104.9800033569336}, {\"Date\": \"2023-04-24T00:00:00\", \"Close\": 105.05999755859375, \"High\": 105.30999755859375, \"Low\": 104.36000061035156, \"Open\": 105.05000305175781}, {\"Date\": \"2023-04-25T00:00:00\", \"Close\": 104.37000274658203, \"High\": 107.30000305175781, \"Low\": 104.16000366210938, \"Open\": 105.68000030517578}, {\"Date\": \"2023-04-26T00:00:00\", \"Close\": 102.91999816894531, \"High\": 105.19999694824219, \"Low\": 102.7699966430664, \"Open\": 104.0}, {\"Date\": \"2023-04-27T00:00:00\", \"Close\": 105.33000183105469, \"High\": 105.38999938964844, \"Low\": 103.08000183105469, \"Open\": 103.08000183105469}, {\"Date\": \"2023-04-28T00:00:00\", \"Close\": 106.22000122070312, \"High\": 106.41000366210938, \"Low\": 105.1500015258789, \"Open\": 105.30999755859375}]}}, {\"mode\": \"vega-lite\"});\n",
       "</script>"
      ],
      "text/plain": [
       "alt.LayerChart(...)"
      ]
     },
     "execution_count": 136,
     "metadata": {},
     "output_type": "execute_result"
    }
   ],
   "source": [
    "mmm = rawdata.loc[:, idx['Close':'Open', 'MMM']].droplevel('Symbol', axis=1).tail(60)\n",
    "\n",
    "import altair as alt\n",
    "\n",
    "open_close_color = alt.condition(\n",
    "    \"datum.Open <= datum.Close\",\n",
    "    alt.value(\"#06982d\"), # green for increase\n",
    "    alt.value(\"#ae1325\"), # red for decrease\n",
    ") \n",
    "\n",
    "base = alt.Chart(mmm.reset_index()).encode(\n",
    "    alt.X('Date:T',\n",
    "          axis=alt.Axis(\n",
    "              format='%m-%d-%Y',\n",
    "              labelAngle=-90)\n",
    "    ),\n",
    "    color=open_close_color\n",
    ")\n",
    "\n",
    "rule = base.mark_rule().encode(\n",
    "    alt.Y(\n",
    "        'Low:Q',\n",
    "        title='Price',\n",
    "        scale=alt.Scale(zero=False),\n",
    "    ),\n",
    "    alt.Y2('High:Q')\n",
    ")\n",
    "\n",
    "bar = base.mark_bar().encode(\n",
    "    alt.Y('Open:Q'),\n",
    "    alt.Y2('Close:Q')\n",
    ")\n",
    "\n",
    "rule + bar"
   ]
  },
  {
   "cell_type": "markdown",
   "metadata": {
    "slideshow": {
     "slide_type": "subslide"
    }
   },
   "source": [
    "### Example Figure: Adjusted close prices"
   ]
  },
  {
   "cell_type": "code",
   "execution_count": 138,
   "metadata": {
    "slideshow": {
     "slide_type": "-"
    },
    "tags": []
   },
   "outputs": [
    {
     "data": {
      "text/html": [
       "<div>\n",
       "<style scoped>\n",
       "    .dataframe tbody tr th:only-of-type {\n",
       "        vertical-align: middle;\n",
       "    }\n",
       "\n",
       "    .dataframe tbody tr th {\n",
       "        vertical-align: top;\n",
       "    }\n",
       "\n",
       "    .dataframe thead tr th {\n",
       "        text-align: left;\n",
       "    }\n",
       "\n",
       "    .dataframe thead tr:last-of-type th {\n",
       "        text-align: right;\n",
       "    }\n",
       "</style>\n",
       "<table border=\"1\" class=\"dataframe\">\n",
       "  <thead>\n",
       "    <tr>\n",
       "      <th>Value</th>\n",
       "      <th colspan=\"5\" halign=\"left\">Adj Close</th>\n",
       "    </tr>\n",
       "    <tr>\n",
       "      <th>Symbol</th>\n",
       "      <th>MMM</th>\n",
       "      <th>MRK</th>\n",
       "      <th>PFE</th>\n",
       "      <th>PG</th>\n",
       "      <th>JNJ</th>\n",
       "    </tr>\n",
       "    <tr>\n",
       "      <th>Date</th>\n",
       "      <th></th>\n",
       "      <th></th>\n",
       "      <th></th>\n",
       "      <th></th>\n",
       "      <th></th>\n",
       "    </tr>\n",
       "  </thead>\n",
       "  <tbody>\n",
       "    <tr>\n",
       "      <th>2023-02-02</th>\n",
       "      <td>118.718124</td>\n",
       "      <td>102.745674</td>\n",
       "      <td>43.865345</td>\n",
       "      <td>141.285431</td>\n",
       "      <td>164.357864</td>\n",
       "    </tr>\n",
       "    <tr>\n",
       "      <th>2023-02-03</th>\n",
       "      <td>115.954712</td>\n",
       "      <td>102.229271</td>\n",
       "      <td>43.588341</td>\n",
       "      <td>141.722702</td>\n",
       "      <td>163.434509</td>\n",
       "    </tr>\n",
       "    <tr>\n",
       "      <th>2023-02-06</th>\n",
       "      <td>114.977654</td>\n",
       "      <td>103.311737</td>\n",
       "      <td>43.291550</td>\n",
       "      <td>140.520218</td>\n",
       "      <td>162.193436</td>\n",
       "    </tr>\n",
       "    <tr>\n",
       "      <th>2023-02-07</th>\n",
       "      <td>115.372429</td>\n",
       "      <td>104.950348</td>\n",
       "      <td>43.123371</td>\n",
       "      <td>139.148819</td>\n",
       "      <td>162.233139</td>\n",
       "    </tr>\n",
       "    <tr>\n",
       "      <th>2023-02-08</th>\n",
       "      <td>113.743988</td>\n",
       "      <td>105.903717</td>\n",
       "      <td>43.509197</td>\n",
       "      <td>137.707840</td>\n",
       "      <td>162.441650</td>\n",
       "    </tr>\n",
       "  </tbody>\n",
       "</table>\n",
       "</div>"
      ],
      "text/plain": [
       "Value        Adj Close                                               \n",
       "Symbol             MMM         MRK        PFE          PG         JNJ\n",
       "Date                                                                 \n",
       "2023-02-02  118.718124  102.745674  43.865345  141.285431  164.357864\n",
       "2023-02-03  115.954712  102.229271  43.588341  141.722702  163.434509\n",
       "2023-02-06  114.977654  103.311737  43.291550  140.520218  162.193436\n",
       "2023-02-07  115.372429  104.950348  43.123371  139.148819  162.233139\n",
       "2023-02-08  113.743988  105.903717  43.509197  137.707840  162.441650"
      ]
     },
     "execution_count": 138,
     "metadata": {},
     "output_type": "execute_result"
    }
   ],
   "source": [
    "first10 = rawdata.loc[:, idx['Adj Close', ['MMM', 'MRK', 'PFE', 'PG', 'UNH', 'JNJ']]].tail(60)\n",
    "first10.head()"
   ]
  },
  {
   "cell_type": "markdown",
   "metadata": {
    "slideshow": {
     "slide_type": "subslide"
    }
   },
   "source": [
    "* Stacking transforms data into long-format:  \n",
    "    _Note: unstack does the opposite_"
   ]
  },
  {
   "cell_type": "code",
   "execution_count": 139,
   "metadata": {
    "slideshow": {
     "slide_type": "-"
    },
    "tags": []
   },
   "outputs": [
    {
     "data": {
      "text/html": [
       "<div>\n",
       "<style scoped>\n",
       "    .dataframe tbody tr th:only-of-type {\n",
       "        vertical-align: middle;\n",
       "    }\n",
       "\n",
       "    .dataframe tbody tr th {\n",
       "        vertical-align: top;\n",
       "    }\n",
       "\n",
       "    .dataframe thead th {\n",
       "        text-align: right;\n",
       "    }\n",
       "</style>\n",
       "<table border=\"1\" class=\"dataframe\">\n",
       "  <thead>\n",
       "    <tr style=\"text-align: right;\">\n",
       "      <th></th>\n",
       "      <th>Value</th>\n",
       "      <th>Adj Close</th>\n",
       "    </tr>\n",
       "    <tr>\n",
       "      <th>Date</th>\n",
       "      <th>Symbol</th>\n",
       "      <th></th>\n",
       "    </tr>\n",
       "  </thead>\n",
       "  <tbody>\n",
       "    <tr>\n",
       "      <th rowspan=\"5\" valign=\"top\">2023-02-02</th>\n",
       "      <th>JNJ</th>\n",
       "      <td>164.357864</td>\n",
       "    </tr>\n",
       "    <tr>\n",
       "      <th>MMM</th>\n",
       "      <td>118.718124</td>\n",
       "    </tr>\n",
       "    <tr>\n",
       "      <th>MRK</th>\n",
       "      <td>102.745674</td>\n",
       "    </tr>\n",
       "    <tr>\n",
       "      <th>PFE</th>\n",
       "      <td>43.865345</td>\n",
       "    </tr>\n",
       "    <tr>\n",
       "      <th>PG</th>\n",
       "      <td>141.285431</td>\n",
       "    </tr>\n",
       "    <tr>\n",
       "      <th>...</th>\n",
       "      <th>...</th>\n",
       "      <td>...</td>\n",
       "    </tr>\n",
       "    <tr>\n",
       "      <th rowspan=\"5\" valign=\"top\">2023-04-28</th>\n",
       "      <th>JNJ</th>\n",
       "      <td>163.699997</td>\n",
       "    </tr>\n",
       "    <tr>\n",
       "      <th>MMM</th>\n",
       "      <td>106.220001</td>\n",
       "    </tr>\n",
       "    <tr>\n",
       "      <th>MRK</th>\n",
       "      <td>115.470001</td>\n",
       "    </tr>\n",
       "    <tr>\n",
       "      <th>PFE</th>\n",
       "      <td>38.473686</td>\n",
       "    </tr>\n",
       "    <tr>\n",
       "      <th>PG</th>\n",
       "      <td>156.380005</td>\n",
       "    </tr>\n",
       "  </tbody>\n",
       "</table>\n",
       "<p>300 rows × 1 columns</p>\n",
       "</div>"
      ],
      "text/plain": [
       "Value               Adj Close\n",
       "Date       Symbol            \n",
       "2023-02-02 JNJ     164.357864\n",
       "           MMM     118.718124\n",
       "           MRK     102.745674\n",
       "           PFE      43.865345\n",
       "           PG      141.285431\n",
       "...                       ...\n",
       "2023-04-28 JNJ     163.699997\n",
       "           MMM     106.220001\n",
       "           MRK     115.470001\n",
       "           PFE      38.473686\n",
       "           PG      156.380005\n",
       "\n",
       "[300 rows x 1 columns]"
      ]
     },
     "execution_count": 139,
     "metadata": {},
     "output_type": "execute_result"
    }
   ],
   "source": [
    "healthcare = first10.stack('Symbol')\n",
    "healthcare"
   ]
  },
  {
   "cell_type": "code",
   "execution_count": 140,
   "metadata": {
    "slideshow": {
     "slide_type": "subslide"
    },
    "tags": []
   },
   "outputs": [
    {
     "data": {
      "text/html": [
       "\n",
       "<div id=\"altair-viz-5af3d9ba60ab4c0fbade0ee731dd1724\"></div>\n",
       "<script type=\"text/javascript\">\n",
       "  var VEGA_DEBUG = (typeof VEGA_DEBUG == \"undefined\") ? {} : VEGA_DEBUG;\n",
       "  (function(spec, embedOpt){\n",
       "    let outputDiv = document.currentScript.previousElementSibling;\n",
       "    if (outputDiv.id !== \"altair-viz-5af3d9ba60ab4c0fbade0ee731dd1724\") {\n",
       "      outputDiv = document.getElementById(\"altair-viz-5af3d9ba60ab4c0fbade0ee731dd1724\");\n",
       "    }\n",
       "    const paths = {\n",
       "      \"vega\": \"https://cdn.jsdelivr.net/npm//vega@5?noext\",\n",
       "      \"vega-lib\": \"https://cdn.jsdelivr.net/npm//vega-lib?noext\",\n",
       "      \"vega-lite\": \"https://cdn.jsdelivr.net/npm//vega-lite@4.17.0?noext\",\n",
       "      \"vega-embed\": \"https://cdn.jsdelivr.net/npm//vega-embed@6?noext\",\n",
       "    };\n",
       "\n",
       "    function maybeLoadScript(lib, version) {\n",
       "      var key = `${lib.replace(\"-\", \"\")}_version`;\n",
       "      return (VEGA_DEBUG[key] == version) ?\n",
       "        Promise.resolve(paths[lib]) :\n",
       "        new Promise(function(resolve, reject) {\n",
       "          var s = document.createElement('script');\n",
       "          document.getElementsByTagName(\"head\")[0].appendChild(s);\n",
       "          s.async = true;\n",
       "          s.onload = () => {\n",
       "            VEGA_DEBUG[key] = version;\n",
       "            return resolve(paths[lib]);\n",
       "          };\n",
       "          s.onerror = () => reject(`Error loading script: ${paths[lib]}`);\n",
       "          s.src = paths[lib];\n",
       "        });\n",
       "    }\n",
       "\n",
       "    function showError(err) {\n",
       "      outputDiv.innerHTML = `<div class=\"error\" style=\"color:red;\">${err}</div>`;\n",
       "      throw err;\n",
       "    }\n",
       "\n",
       "    function displayChart(vegaEmbed) {\n",
       "      vegaEmbed(outputDiv, spec, embedOpt)\n",
       "        .catch(err => showError(`Javascript Error: ${err.message}<br>This usually means there's a typo in your chart specification. See the javascript console for the full traceback.`));\n",
       "    }\n",
       "\n",
       "    if(typeof define === \"function\" && define.amd) {\n",
       "      requirejs.config({paths});\n",
       "      require([\"vega-embed\"], displayChart, err => showError(`Error loading script: ${err.message}`));\n",
       "    } else {\n",
       "      maybeLoadScript(\"vega\", \"5\")\n",
       "        .then(() => maybeLoadScript(\"vega-lite\", \"4.17.0\"))\n",
       "        .then(() => maybeLoadScript(\"vega-embed\", \"6\"))\n",
       "        .catch(showError)\n",
       "        .then(() => displayChart(vegaEmbed));\n",
       "    }\n",
       "  })({\"config\": {\"view\": {\"continuousWidth\": 400, \"continuousHeight\": 300}}, \"data\": {\"name\": \"data-1c111832164175169b44e1ff75e35f1c\"}, \"mark\": \"line\", \"encoding\": {\"color\": {\"field\": \"Symbol\", \"type\": \"nominal\"}, \"x\": {\"axis\": {\"format\": \"%m-%d-%Y\", \"labelAngle\": -90}, \"field\": \"Date\", \"type\": \"temporal\"}, \"y\": {\"field\": \"Adj Close\", \"type\": \"quantitative\"}}, \"$schema\": \"https://vega.github.io/schema/vega-lite/v4.17.0.json\", \"datasets\": {\"data-1c111832164175169b44e1ff75e35f1c\": [{\"Date\": \"2023-02-02T00:00:00\", \"Symbol\": \"JNJ\", \"Adj Close\": 164.3578643798828}, {\"Date\": \"2023-02-02T00:00:00\", \"Symbol\": \"MMM\", \"Adj Close\": 118.71812438964844}, {\"Date\": \"2023-02-02T00:00:00\", \"Symbol\": \"MRK\", \"Adj Close\": 102.74567413330078}, {\"Date\": \"2023-02-02T00:00:00\", \"Symbol\": \"PFE\", \"Adj Close\": 43.8653450012207}, {\"Date\": \"2023-02-02T00:00:00\", \"Symbol\": \"PG\", \"Adj Close\": 141.28543090820312}, {\"Date\": \"2023-02-03T00:00:00\", \"Symbol\": \"JNJ\", \"Adj Close\": 163.43450927734375}, {\"Date\": \"2023-02-03T00:00:00\", \"Symbol\": \"MMM\", \"Adj Close\": 115.9547119140625}, {\"Date\": \"2023-02-03T00:00:00\", \"Symbol\": \"MRK\", \"Adj Close\": 102.2292709350586}, {\"Date\": \"2023-02-03T00:00:00\", \"Symbol\": \"PFE\", \"Adj Close\": 43.588340759277344}, {\"Date\": \"2023-02-03T00:00:00\", \"Symbol\": \"PG\", \"Adj Close\": 141.7227020263672}, {\"Date\": \"2023-02-06T00:00:00\", \"Symbol\": \"JNJ\", \"Adj Close\": 162.1934356689453}, {\"Date\": \"2023-02-06T00:00:00\", \"Symbol\": \"MMM\", \"Adj Close\": 114.97765350341797}, {\"Date\": \"2023-02-06T00:00:00\", \"Symbol\": \"MRK\", \"Adj Close\": 103.31173706054688}, {\"Date\": \"2023-02-06T00:00:00\", \"Symbol\": \"PFE\", \"Adj Close\": 43.29154968261719}, {\"Date\": \"2023-02-06T00:00:00\", \"Symbol\": \"PG\", \"Adj Close\": 140.5202178955078}, {\"Date\": \"2023-02-07T00:00:00\", \"Symbol\": \"JNJ\", \"Adj Close\": 162.23313903808594}, {\"Date\": \"2023-02-07T00:00:00\", \"Symbol\": \"MMM\", \"Adj Close\": 115.37242889404297}, {\"Date\": \"2023-02-07T00:00:00\", \"Symbol\": \"MRK\", \"Adj Close\": 104.95034790039062}, {\"Date\": \"2023-02-07T00:00:00\", \"Symbol\": \"PFE\", \"Adj Close\": 43.12337112426758}, {\"Date\": \"2023-02-07T00:00:00\", \"Symbol\": \"PG\", \"Adj Close\": 139.14881896972656}, {\"Date\": \"2023-02-08T00:00:00\", \"Symbol\": \"JNJ\", \"Adj Close\": 162.441650390625}, {\"Date\": \"2023-02-08T00:00:00\", \"Symbol\": \"MMM\", \"Adj Close\": 113.74398803710938}, {\"Date\": \"2023-02-08T00:00:00\", \"Symbol\": \"MRK\", \"Adj Close\": 105.90371704101562}, {\"Date\": \"2023-02-08T00:00:00\", \"Symbol\": \"PFE\", \"Adj Close\": 43.50919723510742}, {\"Date\": \"2023-02-08T00:00:00\", \"Symbol\": \"PG\", \"Adj Close\": 137.7078399658203}, {\"Date\": \"2023-02-09T00:00:00\", \"Symbol\": \"JNJ\", \"Adj Close\": 160.24742126464844}, {\"Date\": \"2023-02-09T00:00:00\", \"Symbol\": \"MMM\", \"Adj Close\": 111.45429992675781}, {\"Date\": \"2023-02-09T00:00:00\", \"Symbol\": \"MRK\", \"Adj Close\": 105.98316955566406}, {\"Date\": \"2023-02-09T00:00:00\", \"Symbol\": \"PFE\", \"Adj Close\": 42.87604904174805}, {\"Date\": \"2023-02-09T00:00:00\", \"Symbol\": \"PG\", \"Adj Close\": 136.19729614257812}, {\"Date\": \"2023-02-10T00:00:00\", \"Symbol\": \"JNJ\", \"Adj Close\": 160.9920654296875}, {\"Date\": \"2023-02-10T00:00:00\", \"Symbol\": \"MMM\", \"Adj Close\": 112.39188385009766}, {\"Date\": \"2023-02-10T00:00:00\", \"Symbol\": \"MRK\", \"Adj Close\": 107.82039642333984}, {\"Date\": \"2023-02-10T00:00:00\", \"Symbol\": \"PFE\", \"Adj Close\": 43.4102668762207}, {\"Date\": \"2023-02-10T00:00:00\", \"Symbol\": \"PG\", \"Adj Close\": 137.39974975585938}, {\"Date\": \"2023-02-13T00:00:00\", \"Symbol\": \"JNJ\", \"Adj Close\": 161.58779907226562}, {\"Date\": \"2023-02-13T00:00:00\", \"Symbol\": \"MMM\", \"Adj Close\": 113.77359008789062}, {\"Date\": \"2023-02-13T00:00:00\", \"Symbol\": \"MRK\", \"Adj Close\": 108.79363250732422}, {\"Date\": \"2023-02-13T00:00:00\", \"Symbol\": \"PFE\", \"Adj Close\": 43.51909255981445}, {\"Date\": \"2023-02-13T00:00:00\", \"Symbol\": \"PG\", \"Adj Close\": 139.19850158691406}, {\"Date\": \"2023-02-14T00:00:00\", \"Symbol\": \"JNJ\", \"Adj Close\": 160.8828582763672}, {\"Date\": \"2023-02-14T00:00:00\", \"Symbol\": \"MMM\", \"Adj Close\": 112.71757507324219}, {\"Date\": \"2023-02-14T00:00:00\", \"Symbol\": \"MRK\", \"Adj Close\": 107.98921966552734}, {\"Date\": \"2023-02-14T00:00:00\", \"Symbol\": \"PFE\", \"Adj Close\": 43.25197982788086}, {\"Date\": \"2023-02-14T00:00:00\", \"Symbol\": \"PG\", \"Adj Close\": 138.4134063720703}, {\"Date\": \"2023-02-15T00:00:00\", \"Symbol\": \"JNJ\", \"Adj Close\": 158.23191833496094}, {\"Date\": \"2023-02-15T00:00:00\", \"Symbol\": \"MMM\", \"Adj Close\": 113.29000091552734}, {\"Date\": \"2023-02-15T00:00:00\", \"Symbol\": \"MRK\", \"Adj Close\": 106.93653869628906}, {\"Date\": \"2023-02-15T00:00:00\", \"Symbol\": \"PFE\", \"Adj Close\": 42.85626220703125}, {\"Date\": \"2023-02-15T00:00:00\", \"Symbol\": \"PG\", \"Adj Close\": 138.0954132080078}, {\"Date\": \"2023-02-16T00:00:00\", \"Symbol\": \"JNJ\", \"Adj Close\": 157.11000061035156}, {\"Date\": \"2023-02-16T00:00:00\", \"Symbol\": \"MMM\", \"Adj Close\": 112.0}, {\"Date\": \"2023-02-16T00:00:00\", \"Symbol\": \"MRK\", \"Adj Close\": 105.77462005615234}, {\"Date\": \"2023-02-16T00:00:00\", \"Symbol\": \"PFE\", \"Adj Close\": 42.4902229309082}, {\"Date\": \"2023-02-16T00:00:00\", \"Symbol\": \"PG\", \"Adj Close\": 136.28672790527344}, {\"Date\": \"2023-02-17T00:00:00\", \"Symbol\": \"JNJ\", \"Adj Close\": 160.38999938964844}, {\"Date\": \"2023-02-17T00:00:00\", \"Symbol\": \"MMM\", \"Adj Close\": 112.98999786376953}, {\"Date\": \"2023-02-17T00:00:00\", \"Symbol\": \"MRK\", \"Adj Close\": 108.76383209228516}, {\"Date\": \"2023-02-17T00:00:00\", \"Symbol\": \"PFE\", \"Adj Close\": 42.747440338134766}, {\"Date\": \"2023-02-17T00:00:00\", \"Symbol\": \"PG\", \"Adj Close\": 139.1388702392578}, {\"Date\": \"2023-02-21T00:00:00\", \"Symbol\": \"JNJ\", \"Adj Close\": 158.0}, {\"Date\": \"2023-02-21T00:00:00\", \"Symbol\": \"MMM\", \"Adj Close\": 109.25}, {\"Date\": \"2023-02-21T00:00:00\", \"Symbol\": \"MRK\", \"Adj Close\": 108.31694030761719}, {\"Date\": \"2023-02-21T00:00:00\", \"Symbol\": \"PFE\", \"Adj Close\": 42.24290084838867}, {\"Date\": \"2023-02-21T00:00:00\", \"Symbol\": \"PG\", \"Adj Close\": 139.0395050048828}, {\"Date\": \"2023-02-22T00:00:00\", \"Symbol\": \"JNJ\", \"Adj Close\": 157.77999877929688}, {\"Date\": \"2023-02-22T00:00:00\", \"Symbol\": \"MMM\", \"Adj Close\": 108.94000244140625}, {\"Date\": \"2023-02-22T00:00:00\", \"Symbol\": \"MRK\", \"Adj Close\": 108.40632629394531}, {\"Date\": \"2023-02-22T00:00:00\", \"Symbol\": \"PFE\", \"Adj Close\": 41.926326751708984}, {\"Date\": \"2023-02-22T00:00:00\", \"Symbol\": \"PG\", \"Adj Close\": 139.62582397460938}, {\"Date\": \"2023-02-23T00:00:00\", \"Symbol\": \"JNJ\", \"Adj Close\": 157.72999572753906}, {\"Date\": \"2023-02-23T00:00:00\", \"Symbol\": \"MMM\", \"Adj Close\": 108.91000366210938}, {\"Date\": \"2023-02-23T00:00:00\", \"Symbol\": \"MRK\", \"Adj Close\": 109.82644653320312}, {\"Date\": \"2023-02-23T00:00:00\", \"Symbol\": \"PFE\", \"Adj Close\": 41.8471794128418}, {\"Date\": \"2023-02-23T00:00:00\", \"Symbol\": \"PG\", \"Adj Close\": 139.1786346435547}, {\"Date\": \"2023-02-24T00:00:00\", \"Symbol\": \"JNJ\", \"Adj Close\": 155.97000122070312}, {\"Date\": \"2023-02-24T00:00:00\", \"Symbol\": \"MMM\", \"Adj Close\": 107.80000305175781}, {\"Date\": \"2023-02-24T00:00:00\", \"Symbol\": \"MRK\", \"Adj Close\": 109.13127899169922}, {\"Date\": \"2023-02-24T00:00:00\", \"Symbol\": \"PFE\", \"Adj Close\": 41.303070068359375}, {\"Date\": \"2023-02-24T00:00:00\", \"Symbol\": \"PG\", \"Adj Close\": 138.39353942871094}, {\"Date\": \"2023-02-27T00:00:00\", \"Symbol\": \"JNJ\", \"Adj Close\": 155.6300048828125}, {\"Date\": \"2023-02-27T00:00:00\", \"Symbol\": \"MMM\", \"Adj Close\": 108.2699966430664}, {\"Date\": \"2023-02-27T00:00:00\", \"Symbol\": \"MRK\", \"Adj Close\": 108.60494232177734}, {\"Date\": \"2023-02-27T00:00:00\", \"Symbol\": \"PFE\", \"Adj Close\": 40.34345245361328}, {\"Date\": \"2023-02-27T00:00:00\", \"Symbol\": \"PG\", \"Adj Close\": 138.2742919921875}, {\"Date\": \"2023-02-28T00:00:00\", \"Symbol\": \"JNJ\", \"Adj Close\": 153.25999450683594}, {\"Date\": \"2023-02-28T00:00:00\", \"Symbol\": \"MMM\", \"Adj Close\": 107.73999786376953}, {\"Date\": \"2023-02-28T00:00:00\", \"Symbol\": \"MRK\", \"Adj Close\": 105.50647735595703}, {\"Date\": \"2023-02-28T00:00:00\", \"Symbol\": \"PFE\", \"Adj Close\": 40.13570022583008}, {\"Date\": \"2023-02-28T00:00:00\", \"Symbol\": \"PG\", \"Adj Close\": 136.70411682128906}, {\"Date\": \"2023-03-01T00:00:00\", \"Symbol\": \"JNJ\", \"Adj Close\": 152.57000732421875}, {\"Date\": \"2023-03-01T00:00:00\", \"Symbol\": \"MMM\", \"Adj Close\": 110.20999908447266}, {\"Date\": \"2023-03-01T00:00:00\", \"Symbol\": \"MRK\", \"Adj Close\": 105.91365051269531}, {\"Date\": \"2023-03-01T00:00:00\", \"Symbol\": \"PFE\", \"Adj Close\": 39.7498779296875}, {\"Date\": \"2023-03-01T00:00:00\", \"Symbol\": \"PG\", \"Adj Close\": 136.80349731445312}, {\"Date\": \"2023-03-02T00:00:00\", \"Symbol\": \"JNJ\", \"Adj Close\": 152.4499969482422}, {\"Date\": \"2023-03-02T00:00:00\", \"Symbol\": \"MMM\", \"Adj Close\": 109.9000015258789}, {\"Date\": \"2023-03-02T00:00:00\", \"Symbol\": \"MRK\", \"Adj Close\": 106.27116394042969}, {\"Date\": \"2023-03-02T00:00:00\", \"Symbol\": \"PFE\", \"Adj Close\": 40.18516540527344}, {\"Date\": \"2023-03-02T00:00:00\", \"Symbol\": \"PG\", \"Adj Close\": 139.05935668945312}, {\"Date\": \"2023-03-03T00:00:00\", \"Symbol\": \"JNJ\", \"Adj Close\": 154.02000427246094}, {\"Date\": \"2023-03-03T00:00:00\", \"Symbol\": \"MMM\", \"Adj Close\": 111.26000213623047}, {\"Date\": \"2023-03-03T00:00:00\", \"Symbol\": \"MRK\", \"Adj Close\": 106.14205932617188}, {\"Date\": \"2023-03-03T00:00:00\", \"Symbol\": \"PFE\", \"Adj Close\": 40.70949172973633}, {\"Date\": \"2023-03-03T00:00:00\", \"Symbol\": \"PG\", \"Adj Close\": 140.07302856445312}, {\"Date\": \"2023-03-06T00:00:00\", \"Symbol\": \"JNJ\", \"Adj Close\": 155.55999755859375}, {\"Date\": \"2023-03-06T00:00:00\", \"Symbol\": \"MMM\", \"Adj Close\": 109.93000030517578}, {\"Date\": \"2023-03-06T00:00:00\", \"Symbol\": \"MRK\", \"Adj Close\": 110.33292388916016}, {\"Date\": \"2023-03-06T00:00:00\", \"Symbol\": \"PFE\", \"Adj Close\": 40.669921875}, {\"Date\": \"2023-03-06T00:00:00\", \"Symbol\": \"PG\", \"Adj Close\": 139.4767608642578}, {\"Date\": \"2023-03-07T00:00:00\", \"Symbol\": \"JNJ\", \"Adj Close\": 154.08999633789062}, {\"Date\": \"2023-03-07T00:00:00\", \"Symbol\": \"MMM\", \"Adj Close\": 107.08999633789062}, {\"Date\": \"2023-03-07T00:00:00\", \"Symbol\": \"MRK\", \"Adj Close\": 110.50174713134766}, {\"Date\": \"2023-03-07T00:00:00\", \"Symbol\": \"PFE\", \"Adj Close\": 39.908164978027344}, {\"Date\": \"2023-03-07T00:00:00\", \"Symbol\": \"PG\", \"Adj Close\": 136.70411682128906}, {\"Date\": \"2023-03-08T00:00:00\", \"Symbol\": \"JNJ\", \"Adj Close\": 152.9600067138672}, {\"Date\": \"2023-03-08T00:00:00\", \"Symbol\": \"MMM\", \"Adj Close\": 107.16000366210938}, {\"Date\": \"2023-03-08T00:00:00\", \"Symbol\": \"MRK\", \"Adj Close\": 107.53239440917969}, {\"Date\": \"2023-03-08T00:00:00\", \"Symbol\": \"PFE\", \"Adj Close\": 39.69051742553711}, {\"Date\": \"2023-03-08T00:00:00\", \"Symbol\": \"PG\", \"Adj Close\": 136.7239990234375}, {\"Date\": \"2023-03-09T00:00:00\", \"Symbol\": \"JNJ\", \"Adj Close\": 151.24000549316406}, {\"Date\": \"2023-03-09T00:00:00\", \"Symbol\": \"MMM\", \"Adj Close\": 105.5199966430664}, {\"Date\": \"2023-03-09T00:00:00\", \"Symbol\": \"MRK\", \"Adj Close\": 106.85708618164062}, {\"Date\": \"2023-03-09T00:00:00\", \"Symbol\": \"PFE\", \"Adj Close\": 39.03758239746094}, {\"Date\": \"2023-03-09T00:00:00\", \"Symbol\": \"PG\", \"Adj Close\": 135.7202911376953}, {\"Date\": \"2023-03-10T00:00:00\", \"Symbol\": \"JNJ\", \"Adj Close\": 151.61000061035156}, {\"Date\": \"2023-03-10T00:00:00\", \"Symbol\": \"MMM\", \"Adj Close\": 104.05999755859375}, {\"Date\": \"2023-03-10T00:00:00\", \"Symbol\": \"MRK\", \"Adj Close\": 106.94647216796875}, {\"Date\": \"2023-03-10T00:00:00\", \"Symbol\": \"PFE\", \"Adj Close\": 38.96833038330078}, {\"Date\": \"2023-03-10T00:00:00\", \"Symbol\": \"PG\", \"Adj Close\": 136.33642578125}, {\"Date\": \"2023-03-13T00:00:00\", \"Symbol\": \"JNJ\", \"Adj Close\": 153.05999755859375}, {\"Date\": \"2023-03-13T00:00:00\", \"Symbol\": \"MMM\", \"Adj Close\": 103.5}, {\"Date\": \"2023-03-13T00:00:00\", \"Symbol\": \"MRK\", \"Adj Close\": 105.00000762939453}, {\"Date\": \"2023-03-13T00:00:00\", \"Symbol\": \"PFE\", \"Adj Close\": 39.43330001831055}, {\"Date\": \"2023-03-13T00:00:00\", \"Symbol\": \"PG\", \"Adj Close\": 137.28050231933594}, {\"Date\": \"2023-03-14T00:00:00\", \"Symbol\": \"JNJ\", \"Adj Close\": 153.9199981689453}, {\"Date\": \"2023-03-14T00:00:00\", \"Symbol\": \"MMM\", \"Adj Close\": 102.77999877929688}, {\"Date\": \"2023-03-14T00:00:00\", \"Symbol\": \"MRK\", \"Adj Close\": 106.97000122070312}, {\"Date\": \"2023-03-14T00:00:00\", \"Symbol\": \"PFE\", \"Adj Close\": 39.47287368774414}, {\"Date\": \"2023-03-14T00:00:00\", \"Symbol\": \"PG\", \"Adj Close\": 138.97987365722656}, {\"Date\": \"2023-03-15T00:00:00\", \"Symbol\": \"JNJ\", \"Adj Close\": 154.35000610351562}, {\"Date\": \"2023-03-15T00:00:00\", \"Symbol\": \"MMM\", \"Adj Close\": 102.77999877929688}, {\"Date\": \"2023-03-15T00:00:00\", \"Symbol\": \"MRK\", \"Adj Close\": 107.62999725341797}, {\"Date\": \"2023-03-15T00:00:00\", \"Symbol\": \"PFE\", \"Adj Close\": 39.84880447387695}, {\"Date\": \"2023-03-15T00:00:00\", \"Symbol\": \"PG\", \"Adj Close\": 140.9475555419922}, {\"Date\": \"2023-03-16T00:00:00\", \"Symbol\": \"JNJ\", \"Adj Close\": 154.02999877929688}, {\"Date\": \"2023-03-16T00:00:00\", \"Symbol\": \"MMM\", \"Adj Close\": 104.20999908447266}, {\"Date\": \"2023-03-16T00:00:00\", \"Symbol\": \"MRK\", \"Adj Close\": 107.33999633789062}, {\"Date\": \"2023-03-16T00:00:00\", \"Symbol\": \"PFE\", \"Adj Close\": 39.93783950805664}, {\"Date\": \"2023-03-16T00:00:00\", \"Symbol\": \"PG\", \"Adj Close\": 142.00094604492188}, {\"Date\": \"2023-03-17T00:00:00\", \"Symbol\": \"JNJ\", \"Adj Close\": 152.3800048828125}, {\"Date\": \"2023-03-17T00:00:00\", \"Symbol\": \"MMM\", \"Adj Close\": 103.0199966430664}, {\"Date\": \"2023-03-17T00:00:00\", \"Symbol\": \"MRK\", \"Adj Close\": 104.0999984741211}, {\"Date\": \"2023-03-17T00:00:00\", \"Symbol\": \"PFE\", \"Adj Close\": 39.67073059082031}, {\"Date\": \"2023-03-17T00:00:00\", \"Symbol\": \"PG\", \"Adj Close\": 142.0406951904297}, {\"Date\": \"2023-03-20T00:00:00\", \"Symbol\": \"JNJ\", \"Adj Close\": 153.88999938964844}, {\"Date\": \"2023-03-20T00:00:00\", \"Symbol\": \"MMM\", \"Adj Close\": 104.30999755859375}, {\"Date\": \"2023-03-20T00:00:00\", \"Symbol\": \"MRK\", \"Adj Close\": 105.8499984741211}, {\"Date\": \"2023-03-20T00:00:00\", \"Symbol\": \"PFE\", \"Adj Close\": 40.37313461303711}, {\"Date\": \"2023-03-20T00:00:00\", \"Symbol\": \"PG\", \"Adj Close\": 144.22702026367188}, {\"Date\": \"2023-03-21T00:00:00\", \"Symbol\": \"JNJ\", \"Adj Close\": 153.88999938964844}, {\"Date\": \"2023-03-21T00:00:00\", \"Symbol\": \"MMM\", \"Adj Close\": 104.29000091552734}, {\"Date\": \"2023-03-21T00:00:00\", \"Symbol\": \"MRK\", \"Adj Close\": 105.54000091552734}, {\"Date\": \"2023-03-21T00:00:00\", \"Symbol\": \"PFE\", \"Adj Close\": 40.22473907470703}, {\"Date\": \"2023-03-21T00:00:00\", \"Symbol\": \"PG\", \"Adj Close\": 143.1835479736328}, {\"Date\": \"2023-03-22T00:00:00\", \"Symbol\": \"JNJ\", \"Adj Close\": 151.0500030517578}, {\"Date\": \"2023-03-22T00:00:00\", \"Symbol\": \"MMM\", \"Adj Close\": 101.54000091552734}, {\"Date\": \"2023-03-22T00:00:00\", \"Symbol\": \"MRK\", \"Adj Close\": 104.4000015258789}, {\"Date\": \"2023-03-22T00:00:00\", \"Symbol\": \"PFE\", \"Adj Close\": 39.581695556640625}, {\"Date\": \"2023-03-22T00:00:00\", \"Symbol\": \"PG\", \"Adj Close\": 143.0941162109375}, {\"Date\": \"2023-03-23T00:00:00\", \"Symbol\": \"JNJ\", \"Adj Close\": 151.1300048828125}, {\"Date\": \"2023-03-23T00:00:00\", \"Symbol\": \"MMM\", \"Adj Close\": 101.0}, {\"Date\": \"2023-03-23T00:00:00\", \"Symbol\": \"MRK\", \"Adj Close\": 104.2300033569336}, {\"Date\": \"2023-03-23T00:00:00\", \"Symbol\": \"PFE\", \"Adj Close\": 39.7498779296875}, {\"Date\": \"2023-03-23T00:00:00\", \"Symbol\": \"PG\", \"Adj Close\": 142.89535522460938}, {\"Date\": \"2023-03-24T00:00:00\", \"Symbol\": \"JNJ\", \"Adj Close\": 152.64999389648438}, {\"Date\": \"2023-03-24T00:00:00\", \"Symbol\": \"MMM\", \"Adj Close\": 101.13999938964844}, {\"Date\": \"2023-03-24T00:00:00\", \"Symbol\": \"MRK\", \"Adj Close\": 104.80000305175781}, {\"Date\": \"2023-03-24T00:00:00\", \"Symbol\": \"PFE\", \"Adj Close\": 39.95762634277344}, {\"Date\": \"2023-03-24T00:00:00\", \"Symbol\": \"PG\", \"Adj Close\": 145.80712890625}, {\"Date\": \"2023-03-27T00:00:00\", \"Symbol\": \"JNJ\", \"Adj Close\": 153.3000030517578}, {\"Date\": \"2023-03-27T00:00:00\", \"Symbol\": \"MMM\", \"Adj Close\": 101.48999786376953}, {\"Date\": \"2023-03-27T00:00:00\", \"Symbol\": \"MRK\", \"Adj Close\": 106.93000030517578}, {\"Date\": \"2023-03-27T00:00:00\", \"Symbol\": \"PFE\", \"Adj Close\": 39.78944778442383}, {\"Date\": \"2023-03-27T00:00:00\", \"Symbol\": \"PG\", \"Adj Close\": 145.0419158935547}, {\"Date\": \"2023-03-28T00:00:00\", \"Symbol\": \"JNJ\", \"Adj Close\": 151.82000732421875}, {\"Date\": \"2023-03-28T00:00:00\", \"Symbol\": \"MMM\", \"Adj Close\": 101.73999786376953}, {\"Date\": \"2023-03-28T00:00:00\", \"Symbol\": \"MRK\", \"Adj Close\": 105.52999877929688}, {\"Date\": \"2023-03-28T00:00:00\", \"Symbol\": \"PFE\", \"Adj Close\": 39.561912536621094}, {\"Date\": \"2023-03-28T00:00:00\", \"Symbol\": \"PG\", \"Adj Close\": 145.44937133789062}, {\"Date\": \"2023-03-29T00:00:00\", \"Symbol\": \"JNJ\", \"Adj Close\": 153.30999755859375}, {\"Date\": \"2023-03-29T00:00:00\", \"Symbol\": \"MMM\", \"Adj Close\": 103.19000244140625}, {\"Date\": \"2023-03-29T00:00:00\", \"Symbol\": \"MRK\", \"Adj Close\": 104.91999816894531}, {\"Date\": \"2023-03-29T00:00:00\", \"Symbol\": \"PFE\", \"Adj Close\": 39.81912612915039}, {\"Date\": \"2023-03-29T00:00:00\", \"Symbol\": \"PG\", \"Adj Close\": 145.8965606689453}, {\"Date\": \"2023-03-30T00:00:00\", \"Symbol\": \"JNJ\", \"Adj Close\": 153.42999267578125}, {\"Date\": \"2023-03-30T00:00:00\", \"Symbol\": \"MMM\", \"Adj Close\": 102.77999877929688}, {\"Date\": \"2023-03-30T00:00:00\", \"Symbol\": \"MRK\", \"Adj Close\": 105.91999816894531}, {\"Date\": \"2023-03-30T00:00:00\", \"Symbol\": \"PFE\", \"Adj Close\": 39.94773483276367}, {\"Date\": \"2023-03-30T00:00:00\", \"Symbol\": \"PG\", \"Adj Close\": 146.53257751464844}, {\"Date\": \"2023-03-31T00:00:00\", \"Symbol\": \"JNJ\", \"Adj Close\": 155.0}, {\"Date\": \"2023-03-31T00:00:00\", \"Symbol\": \"MMM\", \"Adj Close\": 105.11000061035156}, {\"Date\": \"2023-03-31T00:00:00\", \"Symbol\": \"MRK\", \"Adj Close\": 106.38999938964844}, {\"Date\": \"2023-03-31T00:00:00\", \"Symbol\": \"PFE\", \"Adj Close\": 40.36323928833008}, {\"Date\": \"2023-03-31T00:00:00\", \"Symbol\": \"PG\", \"Adj Close\": 147.76486206054688}, {\"Date\": \"2023-04-03T00:00:00\", \"Symbol\": \"JNJ\", \"Adj Close\": 156.85000610351562}, {\"Date\": \"2023-04-03T00:00:00\", \"Symbol\": \"MMM\", \"Adj Close\": 104.56999969482422}, {\"Date\": \"2023-04-03T00:00:00\", \"Symbol\": \"MRK\", \"Adj Close\": 108.87000274658203}, {\"Date\": \"2023-04-03T00:00:00\", \"Symbol\": \"PFE\", \"Adj Close\": 40.9073486328125}, {\"Date\": \"2023-04-03T00:00:00\", \"Symbol\": \"PG\", \"Adj Close\": 148.5797576904297}, {\"Date\": \"2023-04-04T00:00:00\", \"Symbol\": \"JNJ\", \"Adj Close\": 158.49000549316406}, {\"Date\": \"2023-04-04T00:00:00\", \"Symbol\": \"MMM\", \"Adj Close\": 102.25}, {\"Date\": \"2023-04-04T00:00:00\", \"Symbol\": \"MRK\", \"Adj Close\": 108.83000183105469}, {\"Date\": \"2023-04-04T00:00:00\", \"Symbol\": \"PFE\", \"Adj Close\": 40.4621696472168}, {\"Date\": \"2023-04-04T00:00:00\", \"Symbol\": \"PG\", \"Adj Close\": 149.2952880859375}, {\"Date\": \"2023-04-05T00:00:00\", \"Symbol\": \"JNJ\", \"Adj Close\": 165.61000061035156}, {\"Date\": \"2023-04-05T00:00:00\", \"Symbol\": \"MMM\", \"Adj Close\": 102.29000091552734}, {\"Date\": \"2023-04-05T00:00:00\", \"Symbol\": \"MRK\", \"Adj Close\": 111.91000366210938}, {\"Date\": \"2023-04-05T00:00:00\", \"Symbol\": \"PFE\", \"Adj Close\": 41.10520935058594}, {\"Date\": \"2023-04-05T00:00:00\", \"Symbol\": \"PG\", \"Adj Close\": 150.31887817382812}, {\"Date\": \"2023-04-06T00:00:00\", \"Symbol\": \"JNJ\", \"Adj Close\": 165.14999389648438}, {\"Date\": \"2023-04-06T00:00:00\", \"Symbol\": \"MMM\", \"Adj Close\": 101.55999755859375}, {\"Date\": \"2023-04-06T00:00:00\", \"Symbol\": \"MRK\", \"Adj Close\": 112.33000183105469}, {\"Date\": \"2023-04-06T00:00:00\", \"Symbol\": \"PFE\", \"Adj Close\": 41.05574417114258}, {\"Date\": \"2023-04-06T00:00:00\", \"Symbol\": \"PG\", \"Adj Close\": 151.2729034423828}, {\"Date\": \"2023-04-10T00:00:00\", \"Symbol\": \"JNJ\", \"Adj Close\": 164.32000732421875}, {\"Date\": \"2023-04-10T00:00:00\", \"Symbol\": \"MMM\", \"Adj Close\": 102.76000213623047}, {\"Date\": \"2023-04-10T00:00:00\", \"Symbol\": \"MRK\", \"Adj Close\": 112.61000061035156}, {\"Date\": \"2023-04-10T00:00:00\", \"Symbol\": \"PFE\", \"Adj Close\": 41.28328323364258}, {\"Date\": \"2023-04-10T00:00:00\", \"Symbol\": \"PG\", \"Adj Close\": 150.020751953125}, {\"Date\": \"2023-04-11T00:00:00\", \"Symbol\": \"JNJ\", \"Adj Close\": 164.27000427246094}, {\"Date\": \"2023-04-11T00:00:00\", \"Symbol\": \"MMM\", \"Adj Close\": 104.55999755859375}, {\"Date\": \"2023-04-11T00:00:00\", \"Symbol\": \"MRK\", \"Adj Close\": 112.48999786376953}, {\"Date\": \"2023-04-11T00:00:00\", \"Symbol\": \"PFE\", \"Adj Close\": 41.3426399230957}, {\"Date\": \"2023-04-11T00:00:00\", \"Symbol\": \"PG\", \"Adj Close\": 149.7226104736328}, {\"Date\": \"2023-04-12T00:00:00\", \"Symbol\": \"JNJ\", \"Adj Close\": 163.9199981689453}, {\"Date\": \"2023-04-12T00:00:00\", \"Symbol\": \"MMM\", \"Adj Close\": 104.37000274658203}, {\"Date\": \"2023-04-12T00:00:00\", \"Symbol\": \"MRK\", \"Adj Close\": 113.75}, {\"Date\": \"2023-04-12T00:00:00\", \"Symbol\": \"PFE\", \"Adj Close\": 40.9271354675293}, {\"Date\": \"2023-04-12T00:00:00\", \"Symbol\": \"PG\", \"Adj Close\": 150.13006591796875}, {\"Date\": \"2023-04-13T00:00:00\", \"Symbol\": \"JNJ\", \"Adj Close\": 166.11000061035156}, {\"Date\": \"2023-04-13T00:00:00\", \"Symbol\": \"MMM\", \"Adj Close\": 106.1500015258789}, {\"Date\": \"2023-04-13T00:00:00\", \"Symbol\": \"MRK\", \"Adj Close\": 115.58000183105469}, {\"Date\": \"2023-04-13T00:00:00\", \"Symbol\": \"PFE\", \"Adj Close\": 41.026065826416016}, {\"Date\": \"2023-04-13T00:00:00\", \"Symbol\": \"PG\", \"Adj Close\": 150.82571411132812}, {\"Date\": \"2023-04-14T00:00:00\", \"Symbol\": \"JNJ\", \"Adj Close\": 165.83999633789062}, {\"Date\": \"2023-04-14T00:00:00\", \"Symbol\": \"MMM\", \"Adj Close\": 105.7699966430664}, {\"Date\": \"2023-04-14T00:00:00\", \"Symbol\": \"MRK\", \"Adj Close\": 115.30999755859375}, {\"Date\": \"2023-04-14T00:00:00\", \"Symbol\": \"PFE\", \"Adj Close\": 40.749061584472656}, {\"Date\": \"2023-04-14T00:00:00\", \"Symbol\": \"PG\", \"Adj Close\": 150.0605010986328}, {\"Date\": \"2023-04-17T00:00:00\", \"Symbol\": \"JNJ\", \"Adj Close\": 165.6699981689453}, {\"Date\": \"2023-04-17T00:00:00\", \"Symbol\": \"MMM\", \"Adj Close\": 106.77999877929688}, {\"Date\": \"2023-04-17T00:00:00\", \"Symbol\": \"MRK\", \"Adj Close\": 115.01000213623047}, {\"Date\": \"2023-04-17T00:00:00\", \"Symbol\": \"PFE\", \"Adj Close\": 40.73917007446289}, {\"Date\": \"2023-04-17T00:00:00\", \"Symbol\": \"PG\", \"Adj Close\": 150.1101837158203}, {\"Date\": \"2023-04-18T00:00:00\", \"Symbol\": \"JNJ\", \"Adj Close\": 161.00999450683594}, {\"Date\": \"2023-04-18T00:00:00\", \"Symbol\": \"MMM\", \"Adj Close\": 106.2699966430664}, {\"Date\": \"2023-04-18T00:00:00\", \"Symbol\": \"MRK\", \"Adj Close\": 114.83000183105469}, {\"Date\": \"2023-04-18T00:00:00\", \"Symbol\": \"PFE\", \"Adj Close\": 40.11591339111328}, {\"Date\": \"2023-04-18T00:00:00\", \"Symbol\": \"PG\", \"Adj Close\": 150.26919555664062}, {\"Date\": \"2023-04-19T00:00:00\", \"Symbol\": \"JNJ\", \"Adj Close\": 162.52999877929688}, {\"Date\": \"2023-04-19T00:00:00\", \"Symbol\": \"MMM\", \"Adj Close\": 106.08000183105469}, {\"Date\": \"2023-04-19T00:00:00\", \"Symbol\": \"MRK\", \"Adj Close\": 114.12999725341797}, {\"Date\": \"2023-04-19T00:00:00\", \"Symbol\": \"PFE\", \"Adj Close\": 39.809234619140625}, {\"Date\": \"2023-04-19T00:00:00\", \"Symbol\": \"PG\", \"Adj Close\": 150.29901123046875}, {\"Date\": \"2023-04-20T00:00:00\", \"Symbol\": \"JNJ\", \"Adj Close\": 163.5800018310547}, {\"Date\": \"2023-04-20T00:00:00\", \"Symbol\": \"MMM\", \"Adj Close\": 104.7300033569336}, {\"Date\": \"2023-04-20T00:00:00\", \"Symbol\": \"MRK\", \"Adj Close\": 114.16999816894531}, {\"Date\": \"2023-04-20T00:00:00\", \"Symbol\": \"PFE\", \"Adj Close\": 39.42340850830078}, {\"Date\": \"2023-04-20T00:00:00\", \"Symbol\": \"PG\", \"Adj Close\": 150.85000610351562}, {\"Date\": \"2023-04-21T00:00:00\", \"Symbol\": \"JNJ\", \"Adj Close\": 162.69000244140625}, {\"Date\": \"2023-04-21T00:00:00\", \"Symbol\": \"MMM\", \"Adj Close\": 104.4800033569336}, {\"Date\": \"2023-04-21T00:00:00\", \"Symbol\": \"MRK\", \"Adj Close\": 115.37000274658203}, {\"Date\": \"2023-04-21T00:00:00\", \"Symbol\": \"PFE\", \"Adj Close\": 39.7795524597168}, {\"Date\": \"2023-04-21T00:00:00\", \"Symbol\": \"PG\", \"Adj Close\": 156.07000732421875}, {\"Date\": \"2023-04-24T00:00:00\", \"Symbol\": \"JNJ\", \"Adj Close\": 163.67999267578125}, {\"Date\": \"2023-04-24T00:00:00\", \"Symbol\": \"MMM\", \"Adj Close\": 105.05999755859375}, {\"Date\": \"2023-04-24T00:00:00\", \"Symbol\": \"MRK\", \"Adj Close\": 115.94000244140625}, {\"Date\": \"2023-04-24T00:00:00\", \"Symbol\": \"PFE\", \"Adj Close\": 39.482765197753906}, {\"Date\": \"2023-04-24T00:00:00\", \"Symbol\": \"PG\", \"Adj Close\": 156.35000610351562}, {\"Date\": \"2023-04-25T00:00:00\", \"Symbol\": \"JNJ\", \"Adj Close\": 165.17999267578125}, {\"Date\": \"2023-04-25T00:00:00\", \"Symbol\": \"MMM\", \"Adj Close\": 104.37000274658203}, {\"Date\": \"2023-04-25T00:00:00\", \"Symbol\": \"MRK\", \"Adj Close\": 116.52999877929688}, {\"Date\": \"2023-04-25T00:00:00\", \"Symbol\": \"PFE\", \"Adj Close\": 38.90897750854492}, {\"Date\": \"2023-04-25T00:00:00\", \"Symbol\": \"PG\", \"Adj Close\": 156.38999938964844}, {\"Date\": \"2023-04-26T00:00:00\", \"Symbol\": \"JNJ\", \"Adj Close\": 162.6199951171875}, {\"Date\": \"2023-04-26T00:00:00\", \"Symbol\": \"MMM\", \"Adj Close\": 102.91999816894531}, {\"Date\": \"2023-04-26T00:00:00\", \"Symbol\": \"MRK\", \"Adj Close\": 113.43000030517578}, {\"Date\": \"2023-04-26T00:00:00\", \"Symbol\": \"PFE\", \"Adj Close\": 38.216468811035156}, {\"Date\": \"2023-04-26T00:00:00\", \"Symbol\": \"PG\", \"Adj Close\": 154.5800018310547}, {\"Date\": \"2023-04-27T00:00:00\", \"Symbol\": \"JNJ\", \"Adj Close\": 163.0}, {\"Date\": \"2023-04-27T00:00:00\", \"Symbol\": \"MMM\", \"Adj Close\": 105.33000183105469}, {\"Date\": \"2023-04-27T00:00:00\", \"Symbol\": \"MRK\", \"Adj Close\": 115.16000366210938}, {\"Date\": \"2023-04-27T00:00:00\", \"Symbol\": \"PFE\", \"Adj Close\": 38.32529067993164}, {\"Date\": \"2023-04-27T00:00:00\", \"Symbol\": \"PG\", \"Adj Close\": 156.47000122070312}, {\"Date\": \"2023-04-28T00:00:00\", \"Symbol\": \"JNJ\", \"Adj Close\": 163.6999969482422}, {\"Date\": \"2023-04-28T00:00:00\", \"Symbol\": \"MMM\", \"Adj Close\": 106.22000122070312}, {\"Date\": \"2023-04-28T00:00:00\", \"Symbol\": \"MRK\", \"Adj Close\": 115.47000122070312}, {\"Date\": \"2023-04-28T00:00:00\", \"Symbol\": \"PFE\", \"Adj Close\": 38.47368621826172}, {\"Date\": \"2023-04-28T00:00:00\", \"Symbol\": \"PG\", \"Adj Close\": 156.3800048828125}]}}, {\"mode\": \"vega-lite\"});\n",
       "</script>"
      ],
      "text/plain": [
       "alt.Chart(...)"
      ]
     },
     "execution_count": 140,
     "metadata": {},
     "output_type": "execute_result"
    }
   ],
   "source": [
    "base = alt.Chart(healthcare.reset_index()).mark_line().encode(\n",
    "    x=alt.X('Date:T',\n",
    "            axis=alt.Axis(\n",
    "                format='%m-%d-%Y',\n",
    "                labelAngle=-90)\n",
    "    ),\n",
    "    y='Adj Close:Q',\n",
    "    color='Symbol:N'\n",
    ")\n",
    "base"
   ]
  },
  {
   "cell_type": "markdown",
   "metadata": {
    "slideshow": {
     "slide_type": "subslide"
    }
   },
   "source": [
    "* Inspect missing values:  "
   ]
  },
  {
   "cell_type": "code",
   "execution_count": 141,
   "metadata": {
    "slideshow": {
     "slide_type": "-"
    },
    "tags": []
   },
   "outputs": [
    {
     "data": {
      "text/plain": [
       "Symbol\n",
       "AAPL    0\n",
       "AXP     0\n",
       "BA      0\n",
       "BAC     0\n",
       "CAT     0\n",
       "CSCO    0\n",
       "CVX     0\n",
       "DD      0\n",
       "DIS     0\n",
       "GE      0\n",
       "HD      0\n",
       "HPQ     0\n",
       "IBM     0\n",
       "INTC    0\n",
       "JNJ     0\n",
       "JPM     0\n",
       "KO      0\n",
       "MCD     0\n",
       "MMM     0\n",
       "MRK     0\n",
       "MSFT    0\n",
       "PFE     0\n",
       "PG      0\n",
       "T       0\n",
       "TRV     0\n",
       "VZ      0\n",
       "WMT     0\n",
       "XOM     0\n",
       "dtype: int64"
      ]
     },
     "execution_count": 141,
     "metadata": {},
     "output_type": "execute_result"
    }
   ],
   "source": [
    "rawdata['Adj Close'].isna().sum(axis=0)"
   ]
  },
  {
   "cell_type": "code",
   "execution_count": 142,
   "metadata": {
    "slideshow": {
     "slide_type": "subslide"
    },
    "tags": []
   },
   "outputs": [
    {
     "data": {
      "text/html": [
       "<div>\n",
       "<style scoped>\n",
       "    .dataframe tbody tr th:only-of-type {\n",
       "        vertical-align: middle;\n",
       "    }\n",
       "\n",
       "    .dataframe tbody tr th {\n",
       "        vertical-align: top;\n",
       "    }\n",
       "\n",
       "    .dataframe thead tr th {\n",
       "        text-align: left;\n",
       "    }\n",
       "\n",
       "    .dataframe thead tr:last-of-type th {\n",
       "        text-align: right;\n",
       "    }\n",
       "</style>\n",
       "<table border=\"1\" class=\"dataframe\">\n",
       "  <thead>\n",
       "    <tr>\n",
       "      <th>Value</th>\n",
       "      <th colspan=\"10\" halign=\"left\">Adj Close</th>\n",
       "      <th>...</th>\n",
       "      <th colspan=\"10\" halign=\"left\">Volume</th>\n",
       "    </tr>\n",
       "    <tr>\n",
       "      <th>Symbol</th>\n",
       "      <th>AAPL</th>\n",
       "      <th>AXP</th>\n",
       "      <th>BA</th>\n",
       "      <th>BAC</th>\n",
       "      <th>CAT</th>\n",
       "      <th>CSCO</th>\n",
       "      <th>CVX</th>\n",
       "      <th>DD</th>\n",
       "      <th>DIS</th>\n",
       "      <th>GE</th>\n",
       "      <th>...</th>\n",
       "      <th>MMM</th>\n",
       "      <th>MRK</th>\n",
       "      <th>MSFT</th>\n",
       "      <th>PFE</th>\n",
       "      <th>PG</th>\n",
       "      <th>T</th>\n",
       "      <th>TRV</th>\n",
       "      <th>VZ</th>\n",
       "      <th>WMT</th>\n",
       "      <th>XOM</th>\n",
       "    </tr>\n",
       "    <tr>\n",
       "      <th>Date</th>\n",
       "      <th></th>\n",
       "      <th></th>\n",
       "      <th></th>\n",
       "      <th></th>\n",
       "      <th></th>\n",
       "      <th></th>\n",
       "      <th></th>\n",
       "      <th></th>\n",
       "      <th></th>\n",
       "      <th></th>\n",
       "      <th></th>\n",
       "      <th></th>\n",
       "      <th></th>\n",
       "      <th></th>\n",
       "      <th></th>\n",
       "      <th></th>\n",
       "      <th></th>\n",
       "      <th></th>\n",
       "      <th></th>\n",
       "      <th></th>\n",
       "      <th></th>\n",
       "    </tr>\n",
       "  </thead>\n",
       "  <tbody>\n",
       "  </tbody>\n",
       "</table>\n",
       "<p>0 rows × 168 columns</p>\n",
       "</div>"
      ],
      "text/plain": [
       "Empty DataFrame\n",
       "Columns: [(Adj Close, AAPL), (Adj Close, AXP), (Adj Close, BA), (Adj Close, BAC), (Adj Close, CAT), (Adj Close, CSCO), (Adj Close, CVX), (Adj Close, DD), (Adj Close, DIS), (Adj Close, GE), (Adj Close, HD), (Adj Close, HPQ), (Adj Close, IBM), (Adj Close, INTC), (Adj Close, JNJ), (Adj Close, JPM), (Adj Close, KO), (Adj Close, MCD), (Adj Close, MMM), (Adj Close, MRK), (Adj Close, MSFT), (Adj Close, PFE), (Adj Close, PG), (Adj Close, T), (Adj Close, TRV), (Adj Close, VZ), (Adj Close, WMT), (Adj Close, XOM), (Close, AAPL), (Close, AXP), (Close, BA), (Close, BAC), (Close, CAT), (Close, CSCO), (Close, CVX), (Close, DD), (Close, DIS), (Close, GE), (Close, HD), (Close, HPQ), (Close, IBM), (Close, INTC), (Close, JNJ), (Close, JPM), (Close, KO), (Close, MCD), (Close, MMM), (Close, MRK), (Close, MSFT), (Close, PFE), (Close, PG), (Close, T), (Close, TRV), (Close, VZ), (Close, WMT), (Close, XOM), (High, AAPL), (High, AXP), (High, BA), (High, BAC), (High, CAT), (High, CSCO), (High, CVX), (High, DD), (High, DIS), (High, GE), (High, HD), (High, HPQ), (High, IBM), (High, INTC), (High, JNJ), (High, JPM), (High, KO), (High, MCD), (High, MMM), (High, MRK), (High, MSFT), (High, PFE), (High, PG), (High, T), (High, TRV), (High, VZ), (High, WMT), (High, XOM), (Low, AAPL), (Low, AXP), (Low, BA), (Low, BAC), (Low, CAT), (Low, CSCO), (Low, CVX), (Low, DD), (Low, DIS), (Low, GE), (Low, HD), (Low, HPQ), (Low, IBM), (Low, INTC), (Low, JNJ), (Low, JPM), ...]\n",
       "Index: []\n",
       "\n",
       "[0 rows x 168 columns]"
      ]
     },
     "execution_count": 142,
     "metadata": {},
     "output_type": "execute_result"
    }
   ],
   "source": [
    "anymissing = rawdata['Adj Close'].isna().any(axis=1)\n",
    "rawdata.loc[anymissing]"
   ]
  },
  {
   "cell_type": "markdown",
   "metadata": {
    "slideshow": {
     "slide_type": "subslide"
    }
   },
   "source": [
    "* Double check: did we remove all missing values?"
   ]
  },
  {
   "cell_type": "code",
   "execution_count": 144,
   "metadata": {
    "slideshow": {
     "slide_type": "-"
    },
    "tags": []
   },
   "outputs": [
    {
     "data": {
      "text/plain": [
       "False"
      ]
     },
     "execution_count": 144,
     "metadata": {},
     "output_type": "execute_result"
    }
   ],
   "source": [
    "(data_all.isna().sum(axis=None)>0).any()"
   ]
  },
  {
   "cell_type": "markdown",
   "metadata": {
    "slideshow": {
     "slide_type": "subslide"
    }
   },
   "source": [
    "* Reset symbols to what is in `data` variable"
   ]
  },
  {
   "cell_type": "code",
   "execution_count": 145,
   "metadata": {
    "slideshow": {
     "slide_type": "-"
    },
    "tags": []
   },
   "outputs": [
    {
     "data": {
      "text/html": [
       "<div>\n",
       "<style scoped>\n",
       "    .dataframe tbody tr th:only-of-type {\n",
       "        vertical-align: middle;\n",
       "    }\n",
       "\n",
       "    .dataframe tbody tr th {\n",
       "        vertical-align: top;\n",
       "    }\n",
       "\n",
       "    .dataframe thead th {\n",
       "        text-align: right;\n",
       "    }\n",
       "</style>\n",
       "<table border=\"1\" class=\"dataframe\">\n",
       "  <thead>\n",
       "    <tr style=\"text-align: right;\">\n",
       "      <th></th>\n",
       "      <th>name</th>\n",
       "    </tr>\n",
       "    <tr>\n",
       "      <th>code</th>\n",
       "      <th></th>\n",
       "    </tr>\n",
       "  </thead>\n",
       "  <tbody>\n",
       "    <tr>\n",
       "      <th>AAPL</th>\n",
       "      <td>Apple Inc (AAPL)</td>\n",
       "    </tr>\n",
       "    <tr>\n",
       "      <th>AXP</th>\n",
       "      <td>American Express Co. (AXP)</td>\n",
       "    </tr>\n",
       "    <tr>\n",
       "      <th>BA</th>\n",
       "      <td>The Boeing Co. (BA)</td>\n",
       "    </tr>\n",
       "    <tr>\n",
       "      <th>BAC</th>\n",
       "      <td>Bank of America Corp. (BAC)</td>\n",
       "    </tr>\n",
       "    <tr>\n",
       "      <th>CAT</th>\n",
       "      <td>Caterpillar Inc. (CAT)</td>\n",
       "    </tr>\n",
       "    <tr>\n",
       "      <th>CSCO</th>\n",
       "      <td>Cisco Systems Inc. (CSCO)</td>\n",
       "    </tr>\n",
       "    <tr>\n",
       "      <th>CVX</th>\n",
       "      <td>Chevron Corporation (CVX)</td>\n",
       "    </tr>\n",
       "    <tr>\n",
       "      <th>DD</th>\n",
       "      <td>E.I. du Pont de Nemours and Co. (DD)</td>\n",
       "    </tr>\n",
       "    <tr>\n",
       "      <th>DIS</th>\n",
       "      <td>Disney (Walt) Co. (The) (DIS)</td>\n",
       "    </tr>\n",
       "    <tr>\n",
       "      <th>GE</th>\n",
       "      <td>General Electric Co (GE)</td>\n",
       "    </tr>\n",
       "    <tr>\n",
       "      <th>HD</th>\n",
       "      <td>Home Depot Inc (HD)</td>\n",
       "    </tr>\n",
       "    <tr>\n",
       "      <th>HPQ</th>\n",
       "      <td>Hewlett-Packard Co (HPQ)</td>\n",
       "    </tr>\n",
       "    <tr>\n",
       "      <th>IBM</th>\n",
       "      <td>International Business Machines Corp (IBM)</td>\n",
       "    </tr>\n",
       "    <tr>\n",
       "      <th>INTC</th>\n",
       "      <td>Intel Corp (INTC)</td>\n",
       "    </tr>\n",
       "    <tr>\n",
       "      <th>JNJ</th>\n",
       "      <td>Johnson &amp; Johnson (JNJ)</td>\n",
       "    </tr>\n",
       "    <tr>\n",
       "      <th>JPM</th>\n",
       "      <td>JP Morgan Chase (JPM)</td>\n",
       "    </tr>\n",
       "    <tr>\n",
       "      <th>KO</th>\n",
       "      <td>Coca-Cola Co (The) (KO)</td>\n",
       "    </tr>\n",
       "    <tr>\n",
       "      <th>MCD</th>\n",
       "      <td>McDonald's Corp (MCD)</td>\n",
       "    </tr>\n",
       "    <tr>\n",
       "      <th>MMM</th>\n",
       "      <td>3M Co (MMM)</td>\n",
       "    </tr>\n",
       "    <tr>\n",
       "      <th>MRK</th>\n",
       "      <td>Merck &amp; Co. Inc (MRK)</td>\n",
       "    </tr>\n",
       "    <tr>\n",
       "      <th>MSFT</th>\n",
       "      <td>Microsoft Corporation (MSFT)</td>\n",
       "    </tr>\n",
       "    <tr>\n",
       "      <th>PFE</th>\n",
       "      <td>Pfizer Inc (PFE)</td>\n",
       "    </tr>\n",
       "    <tr>\n",
       "      <th>PG</th>\n",
       "      <td>Procter &amp; Gamble Co. (PG)</td>\n",
       "    </tr>\n",
       "    <tr>\n",
       "      <th>T</th>\n",
       "      <td>AT&amp;T Inc (T)</td>\n",
       "    </tr>\n",
       "    <tr>\n",
       "      <th>TRV</th>\n",
       "      <td>Travelers Companies Inc (The) (TRV)</td>\n",
       "    </tr>\n",
       "    <tr>\n",
       "      <th>VZ</th>\n",
       "      <td>Verizon Communications Inc (VZ)</td>\n",
       "    </tr>\n",
       "    <tr>\n",
       "      <th>WMT</th>\n",
       "      <td>Wal-Mart Stores (WMT)</td>\n",
       "    </tr>\n",
       "    <tr>\n",
       "      <th>XOM</th>\n",
       "      <td>Exxon Mobil Corp. (XOM)</td>\n",
       "    </tr>\n",
       "  </tbody>\n",
       "</table>\n",
       "</div>"
      ],
      "text/plain": [
       "                                            name\n",
       "code                                            \n",
       "AAPL                            Apple Inc (AAPL)\n",
       "AXP                   American Express Co. (AXP)\n",
       "BA                           The Boeing Co. (BA)\n",
       "BAC                  Bank of America Corp. (BAC)\n",
       "CAT                       Caterpillar Inc. (CAT)\n",
       "CSCO                   Cisco Systems Inc. (CSCO)\n",
       "CVX                    Chevron Corporation (CVX)\n",
       "DD          E.I. du Pont de Nemours and Co. (DD)\n",
       "DIS                Disney (Walt) Co. (The) (DIS)\n",
       "GE                      General Electric Co (GE)\n",
       "HD                           Home Depot Inc (HD)\n",
       "HPQ                     Hewlett-Packard Co (HPQ)\n",
       "IBM   International Business Machines Corp (IBM)\n",
       "INTC                           Intel Corp (INTC)\n",
       "JNJ                      Johnson & Johnson (JNJ)\n",
       "JPM                        JP Morgan Chase (JPM)\n",
       "KO                       Coca-Cola Co (The) (KO)\n",
       "MCD                        McDonald's Corp (MCD)\n",
       "MMM                                  3M Co (MMM)\n",
       "MRK                        Merck & Co. Inc (MRK)\n",
       "MSFT                Microsoft Corporation (MSFT)\n",
       "PFE                             Pfizer Inc (PFE)\n",
       "PG                     Procter & Gamble Co. (PG)\n",
       "T                                   AT&T Inc (T)\n",
       "TRV          Travelers Companies Inc (The) (TRV)\n",
       "VZ               Verizon Communications Inc (VZ)\n",
       "WMT                        Wal-Mart Stores (WMT)\n",
       "XOM                      Exxon Mobil Corp. (XOM)"
      ]
     },
     "execution_count": 145,
     "metadata": {},
     "output_type": "execute_result"
    }
   ],
   "source": [
    "symbols = symbols.loc[data_all.columns.levels[1].to_list()]\n",
    "symbols"
   ]
  },
  {
   "cell_type": "code",
   "execution_count": 146,
   "metadata": {
    "slideshow": {
     "slide_type": "subslide"
    },
    "tags": []
   },
   "outputs": [
    {
     "data": {
      "text/html": [
       "<div>\n",
       "<style scoped>\n",
       "    .dataframe tbody tr th:only-of-type {\n",
       "        vertical-align: middle;\n",
       "    }\n",
       "\n",
       "    .dataframe tbody tr th {\n",
       "        vertical-align: top;\n",
       "    }\n",
       "\n",
       "    .dataframe thead tr th {\n",
       "        text-align: left;\n",
       "    }\n",
       "\n",
       "    .dataframe thead tr:last-of-type th {\n",
       "        text-align: right;\n",
       "    }\n",
       "</style>\n",
       "<table border=\"1\" class=\"dataframe\">\n",
       "  <thead>\n",
       "    <tr>\n",
       "      <th>Value</th>\n",
       "      <th colspan=\"10\" halign=\"left\">Adj Close</th>\n",
       "      <th>...</th>\n",
       "      <th>High</th>\n",
       "      <th colspan=\"3\" halign=\"left\">Low</th>\n",
       "      <th colspan=\"3\" halign=\"left\">Open</th>\n",
       "      <th colspan=\"3\" halign=\"left\">Volume</th>\n",
       "    </tr>\n",
       "    <tr>\n",
       "      <th>Symbol</th>\n",
       "      <th>AAPL</th>\n",
       "      <th>AXP</th>\n",
       "      <th>BA</th>\n",
       "      <th>BAC</th>\n",
       "      <th>CAT</th>\n",
       "      <th>CSCO</th>\n",
       "      <th>CVX</th>\n",
       "      <th>DD</th>\n",
       "      <th>DIS</th>\n",
       "      <th>GE</th>\n",
       "      <th>...</th>\n",
       "      <th>XOM</th>\n",
       "      <th>VZ</th>\n",
       "      <th>WMT</th>\n",
       "      <th>XOM</th>\n",
       "      <th>VZ</th>\n",
       "      <th>WMT</th>\n",
       "      <th>XOM</th>\n",
       "      <th>VZ</th>\n",
       "      <th>WMT</th>\n",
       "      <th>XOM</th>\n",
       "    </tr>\n",
       "    <tr>\n",
       "      <th>Date</th>\n",
       "      <th></th>\n",
       "      <th></th>\n",
       "      <th></th>\n",
       "      <th></th>\n",
       "      <th></th>\n",
       "      <th></th>\n",
       "      <th></th>\n",
       "      <th></th>\n",
       "      <th></th>\n",
       "      <th></th>\n",
       "      <th></th>\n",
       "      <th></th>\n",
       "      <th></th>\n",
       "      <th></th>\n",
       "      <th></th>\n",
       "      <th></th>\n",
       "      <th></th>\n",
       "      <th></th>\n",
       "      <th></th>\n",
       "      <th></th>\n",
       "      <th></th>\n",
       "    </tr>\n",
       "  </thead>\n",
       "  <tbody>\n",
       "    <tr>\n",
       "      <th>2000-01-03</th>\n",
       "      <td>0.849468</td>\n",
       "      <td>33.312687</td>\n",
       "      <td>25.940285</td>\n",
       "      <td>13.356882</td>\n",
       "      <td>13.100207</td>\n",
       "      <td>37.781281</td>\n",
       "      <td>17.849827</td>\n",
       "      <td>29.800070</td>\n",
       "      <td>23.115248</td>\n",
       "      <td>164.768631</td>\n",
       "      <td>...</td>\n",
       "      <td>40.37500</td>\n",
       "      <td>53.622120</td>\n",
       "      <td>65.5000</td>\n",
       "      <td>38.93750</td>\n",
       "      <td>54.521442</td>\n",
       "      <td>68.375</td>\n",
       "      <td>39.75000</td>\n",
       "      <td>4663843</td>\n",
       "      <td>8369900</td>\n",
       "      <td>13458200</td>\n",
       "    </tr>\n",
       "    <tr>\n",
       "      <th>2000-01-04</th>\n",
       "      <td>0.777849</td>\n",
       "      <td>32.054871</td>\n",
       "      <td>25.899937</td>\n",
       "      <td>12.564083</td>\n",
       "      <td>12.931834</td>\n",
       "      <td>35.661671</td>\n",
       "      <td>17.849827</td>\n",
       "      <td>28.985558</td>\n",
       "      <td>24.469284</td>\n",
       "      <td>158.177887</td>\n",
       "      <td>...</td>\n",
       "      <td>39.09375</td>\n",
       "      <td>51.486229</td>\n",
       "      <td>64.1875</td>\n",
       "      <td>38.25000</td>\n",
       "      <td>53.678326</td>\n",
       "      <td>65.500</td>\n",
       "      <td>38.68750</td>\n",
       "      <td>5005878</td>\n",
       "      <td>6745100</td>\n",
       "      <td>14510800</td>\n",
       "    </tr>\n",
       "    <tr>\n",
       "      <th>2000-01-05</th>\n",
       "      <td>0.789232</td>\n",
       "      <td>31.240688</td>\n",
       "      <td>27.513647</td>\n",
       "      <td>12.701955</td>\n",
       "      <td>13.234915</td>\n",
       "      <td>35.552414</td>\n",
       "      <td>18.170010</td>\n",
       "      <td>29.926458</td>\n",
       "      <td>25.484806</td>\n",
       "      <td>157.903290</td>\n",
       "      <td>...</td>\n",
       "      <td>40.87500</td>\n",
       "      <td>52.610382</td>\n",
       "      <td>62.1875</td>\n",
       "      <td>38.90625</td>\n",
       "      <td>53.060043</td>\n",
       "      <td>63.875</td>\n",
       "      <td>39.00000</td>\n",
       "      <td>6368681</td>\n",
       "      <td>7018700</td>\n",
       "      <td>17485000</td>\n",
       "    </tr>\n",
       "    <tr>\n",
       "      <th>2000-01-06</th>\n",
       "      <td>0.720933</td>\n",
       "      <td>31.877174</td>\n",
       "      <td>27.796045</td>\n",
       "      <td>13.787741</td>\n",
       "      <td>13.908450</td>\n",
       "      <td>34.962429</td>\n",
       "      <td>18.943756</td>\n",
       "      <td>30.769054</td>\n",
       "      <td>24.469284</td>\n",
       "      <td>160.014435</td>\n",
       "      <td>...</td>\n",
       "      <td>42.90625</td>\n",
       "      <td>52.497967</td>\n",
       "      <td>62.6875</td>\n",
       "      <td>40.09375</td>\n",
       "      <td>53.678326</td>\n",
       "      <td>63.000</td>\n",
       "      <td>40.31250</td>\n",
       "      <td>4705763</td>\n",
       "      <td>6544500</td>\n",
       "      <td>19461600</td>\n",
       "    </tr>\n",
       "    <tr>\n",
       "      <th>2000-01-07</th>\n",
       "      <td>0.755083</td>\n",
       "      <td>32.341293</td>\n",
       "      <td>28.602880</td>\n",
       "      <td>13.425816</td>\n",
       "      <td>14.363080</td>\n",
       "      <td>37.016472</td>\n",
       "      <td>19.277285</td>\n",
       "      <td>31.457193</td>\n",
       "      <td>24.082418</td>\n",
       "      <td>166.210358</td>\n",
       "      <td>...</td>\n",
       "      <td>43.12500</td>\n",
       "      <td>51.992096</td>\n",
       "      <td>64.5000</td>\n",
       "      <td>42.00000</td>\n",
       "      <td>52.947628</td>\n",
       "      <td>64.500</td>\n",
       "      <td>42.96875</td>\n",
       "      <td>5043907</td>\n",
       "      <td>7976900</td>\n",
       "      <td>16603800</td>\n",
       "    </tr>\n",
       "  </tbody>\n",
       "</table>\n",
       "<p>5 rows × 168 columns</p>\n",
       "</div>"
      ],
      "text/plain": [
       "Value      Adj Close                                                         \\\n",
       "Symbol          AAPL        AXP         BA        BAC        CAT       CSCO   \n",
       "Date                                                                          \n",
       "2000-01-03  0.849468  33.312687  25.940285  13.356882  13.100207  37.781281   \n",
       "2000-01-04  0.777849  32.054871  25.899937  12.564083  12.931834  35.661671   \n",
       "2000-01-05  0.789232  31.240688  27.513647  12.701955  13.234915  35.552414   \n",
       "2000-01-06  0.720933  31.877174  27.796045  13.787741  13.908450  34.962429   \n",
       "2000-01-07  0.755083  32.341293  28.602880  13.425816  14.363080  37.016472   \n",
       "\n",
       "Value                                                    ...      High  \\\n",
       "Symbol            CVX         DD        DIS          GE  ...       XOM   \n",
       "Date                                                     ...             \n",
       "2000-01-03  17.849827  29.800070  23.115248  164.768631  ...  40.37500   \n",
       "2000-01-04  17.849827  28.985558  24.469284  158.177887  ...  39.09375   \n",
       "2000-01-05  18.170010  29.926458  25.484806  157.903290  ...  40.87500   \n",
       "2000-01-06  18.943756  30.769054  24.469284  160.014435  ...  42.90625   \n",
       "2000-01-07  19.277285  31.457193  24.082418  166.210358  ...  43.12500   \n",
       "\n",
       "Value             Low                          Open                    \\\n",
       "Symbol             VZ      WMT       XOM         VZ     WMT       XOM   \n",
       "Date                                                                    \n",
       "2000-01-03  53.622120  65.5000  38.93750  54.521442  68.375  39.75000   \n",
       "2000-01-04  51.486229  64.1875  38.25000  53.678326  65.500  38.68750   \n",
       "2000-01-05  52.610382  62.1875  38.90625  53.060043  63.875  39.00000   \n",
       "2000-01-06  52.497967  62.6875  40.09375  53.678326  63.000  40.31250   \n",
       "2000-01-07  51.992096  64.5000  42.00000  52.947628  64.500  42.96875   \n",
       "\n",
       "Value        Volume                     \n",
       "Symbol           VZ      WMT       XOM  \n",
       "Date                                    \n",
       "2000-01-03  4663843  8369900  13458200  \n",
       "2000-01-04  5005878  6745100  14510800  \n",
       "2000-01-05  6368681  7018700  17485000  \n",
       "2000-01-06  4705763  6544500  19461600  \n",
       "2000-01-07  5043907  7976900  16603800  \n",
       "\n",
       "[5 rows x 168 columns]"
      ]
     },
     "execution_count": 146,
     "metadata": {},
     "output_type": "execute_result"
    }
   ],
   "source": [
    "data_all.head()"
   ]
  },
  {
   "cell_type": "markdown",
   "metadata": {
    "slideshow": {
     "slide_type": "subslide"
    }
   },
   "source": [
    "### Adjusted Close\n",
    "\n",
    "* [Adjusted closing prices](https://help.yahoo.com/kb/SLN28256.html) accounts for splits, etc"
   ]
  },
  {
   "cell_type": "code",
   "execution_count": 147,
   "metadata": {
    "slideshow": {
     "slide_type": "-"
    },
    "tags": []
   },
   "outputs": [
    {
     "data": {
      "text/html": [
       "<div>\n",
       "<style scoped>\n",
       "    .dataframe tbody tr th:only-of-type {\n",
       "        vertical-align: middle;\n",
       "    }\n",
       "\n",
       "    .dataframe tbody tr th {\n",
       "        vertical-align: top;\n",
       "    }\n",
       "\n",
       "    .dataframe thead th {\n",
       "        text-align: right;\n",
       "    }\n",
       "</style>\n",
       "<table border=\"1\" class=\"dataframe\">\n",
       "  <thead>\n",
       "    <tr style=\"text-align: right;\">\n",
       "      <th>Symbol</th>\n",
       "      <th>AAPL</th>\n",
       "      <th>AXP</th>\n",
       "      <th>BA</th>\n",
       "      <th>BAC</th>\n",
       "      <th>CAT</th>\n",
       "      <th>CSCO</th>\n",
       "      <th>CVX</th>\n",
       "      <th>DD</th>\n",
       "      <th>DIS</th>\n",
       "      <th>GE</th>\n",
       "      <th>...</th>\n",
       "      <th>MMM</th>\n",
       "      <th>MRK</th>\n",
       "      <th>MSFT</th>\n",
       "      <th>PFE</th>\n",
       "      <th>PG</th>\n",
       "      <th>T</th>\n",
       "      <th>TRV</th>\n",
       "      <th>VZ</th>\n",
       "      <th>WMT</th>\n",
       "      <th>XOM</th>\n",
       "    </tr>\n",
       "    <tr>\n",
       "      <th>Date</th>\n",
       "      <th></th>\n",
       "      <th></th>\n",
       "      <th></th>\n",
       "      <th></th>\n",
       "      <th></th>\n",
       "      <th></th>\n",
       "      <th></th>\n",
       "      <th></th>\n",
       "      <th></th>\n",
       "      <th></th>\n",
       "      <th></th>\n",
       "      <th></th>\n",
       "      <th></th>\n",
       "      <th></th>\n",
       "      <th></th>\n",
       "      <th></th>\n",
       "      <th></th>\n",
       "      <th></th>\n",
       "      <th></th>\n",
       "      <th></th>\n",
       "      <th></th>\n",
       "    </tr>\n",
       "  </thead>\n",
       "  <tbody>\n",
       "    <tr>\n",
       "      <th>2000-01-03</th>\n",
       "      <td>0.849468</td>\n",
       "      <td>33.312687</td>\n",
       "      <td>25.940285</td>\n",
       "      <td>13.356882</td>\n",
       "      <td>13.100207</td>\n",
       "      <td>37.781281</td>\n",
       "      <td>17.849827</td>\n",
       "      <td>29.800070</td>\n",
       "      <td>23.115248</td>\n",
       "      <td>164.768631</td>\n",
       "      <td>...</td>\n",
       "      <td>25.525507</td>\n",
       "      <td>27.435108</td>\n",
       "      <td>36.361576</td>\n",
       "      <td>13.586054</td>\n",
       "      <td>28.788437</td>\n",
       "      <td>7.278188</td>\n",
       "      <td>18.308651</td>\n",
       "      <td>18.462101</td>\n",
       "      <td>43.873093</td>\n",
       "      <td>18.821234</td>\n",
       "    </tr>\n",
       "    <tr>\n",
       "      <th>2000-01-04</th>\n",
       "      <td>0.777849</td>\n",
       "      <td>32.054871</td>\n",
       "      <td>25.899937</td>\n",
       "      <td>12.564083</td>\n",
       "      <td>12.931834</td>\n",
       "      <td>35.661671</td>\n",
       "      <td>17.849827</td>\n",
       "      <td>28.985558</td>\n",
       "      <td>24.469284</td>\n",
       "      <td>158.177887</td>\n",
       "      <td>...</td>\n",
       "      <td>24.511261</td>\n",
       "      <td>26.471581</td>\n",
       "      <td>35.133270</td>\n",
       "      <td>13.079915</td>\n",
       "      <td>28.234482</td>\n",
       "      <td>6.852336</td>\n",
       "      <td>18.065916</td>\n",
       "      <td>17.865303</td>\n",
       "      <td>42.231468</td>\n",
       "      <td>18.460726</td>\n",
       "    </tr>\n",
       "    <tr>\n",
       "      <th>2000-01-05</th>\n",
       "      <td>0.789232</td>\n",
       "      <td>31.240688</td>\n",
       "      <td>27.513647</td>\n",
       "      <td>12.701955</td>\n",
       "      <td>13.234915</td>\n",
       "      <td>35.552414</td>\n",
       "      <td>18.170010</td>\n",
       "      <td>29.926458</td>\n",
       "      <td>25.484806</td>\n",
       "      <td>157.903290</td>\n",
       "      <td>...</td>\n",
       "      <td>25.221245</td>\n",
       "      <td>27.511171</td>\n",
       "      <td>35.503704</td>\n",
       "      <td>13.293024</td>\n",
       "      <td>27.697330</td>\n",
       "      <td>6.958800</td>\n",
       "      <td>17.927221</td>\n",
       "      <td>18.462101</td>\n",
       "      <td>41.369598</td>\n",
       "      <td>19.467131</td>\n",
       "    </tr>\n",
       "    <tr>\n",
       "      <th>2000-01-06</th>\n",
       "      <td>0.720933</td>\n",
       "      <td>31.877174</td>\n",
       "      <td>27.796045</td>\n",
       "      <td>13.787741</td>\n",
       "      <td>13.908450</td>\n",
       "      <td>34.962429</td>\n",
       "      <td>18.943756</td>\n",
       "      <td>30.769054</td>\n",
       "      <td>24.469284</td>\n",
       "      <td>160.014435</td>\n",
       "      <td>...</td>\n",
       "      <td>27.249758</td>\n",
       "      <td>27.739386</td>\n",
       "      <td>34.314396</td>\n",
       "      <td>13.772537</td>\n",
       "      <td>28.973074</td>\n",
       "      <td>6.823967</td>\n",
       "      <td>18.273972</td>\n",
       "      <td>18.368319</td>\n",
       "      <td>41.821056</td>\n",
       "      <td>20.473537</td>\n",
       "    </tr>\n",
       "    <tr>\n",
       "      <th>2000-01-07</th>\n",
       "      <td>0.755083</td>\n",
       "      <td>32.341293</td>\n",
       "      <td>28.602880</td>\n",
       "      <td>13.425816</td>\n",
       "      <td>14.363080</td>\n",
       "      <td>37.016472</td>\n",
       "      <td>19.277285</td>\n",
       "      <td>31.457193</td>\n",
       "      <td>24.082418</td>\n",
       "      <td>166.210358</td>\n",
       "      <td>...</td>\n",
       "      <td>27.790701</td>\n",
       "      <td>30.401752</td>\n",
       "      <td>34.762836</td>\n",
       "      <td>14.704914</td>\n",
       "      <td>31.289587</td>\n",
       "      <td>6.882460</td>\n",
       "      <td>19.002167</td>\n",
       "      <td>18.232691</td>\n",
       "      <td>44.981239</td>\n",
       "      <td>20.413448</td>\n",
       "    </tr>\n",
       "  </tbody>\n",
       "</table>\n",
       "<p>5 rows × 28 columns</p>\n",
       "</div>"
      ],
      "text/plain": [
       "Symbol          AAPL        AXP         BA        BAC        CAT       CSCO  \\\n",
       "Date                                                                          \n",
       "2000-01-03  0.849468  33.312687  25.940285  13.356882  13.100207  37.781281   \n",
       "2000-01-04  0.777849  32.054871  25.899937  12.564083  12.931834  35.661671   \n",
       "2000-01-05  0.789232  31.240688  27.513647  12.701955  13.234915  35.552414   \n",
       "2000-01-06  0.720933  31.877174  27.796045  13.787741  13.908450  34.962429   \n",
       "2000-01-07  0.755083  32.341293  28.602880  13.425816  14.363080  37.016472   \n",
       "\n",
       "Symbol            CVX         DD        DIS          GE  ...        MMM  \\\n",
       "Date                                                     ...              \n",
       "2000-01-03  17.849827  29.800070  23.115248  164.768631  ...  25.525507   \n",
       "2000-01-04  17.849827  28.985558  24.469284  158.177887  ...  24.511261   \n",
       "2000-01-05  18.170010  29.926458  25.484806  157.903290  ...  25.221245   \n",
       "2000-01-06  18.943756  30.769054  24.469284  160.014435  ...  27.249758   \n",
       "2000-01-07  19.277285  31.457193  24.082418  166.210358  ...  27.790701   \n",
       "\n",
       "Symbol            MRK       MSFT        PFE         PG         T        TRV  \\\n",
       "Date                                                                          \n",
       "2000-01-03  27.435108  36.361576  13.586054  28.788437  7.278188  18.308651   \n",
       "2000-01-04  26.471581  35.133270  13.079915  28.234482  6.852336  18.065916   \n",
       "2000-01-05  27.511171  35.503704  13.293024  27.697330  6.958800  17.927221   \n",
       "2000-01-06  27.739386  34.314396  13.772537  28.973074  6.823967  18.273972   \n",
       "2000-01-07  30.401752  34.762836  14.704914  31.289587  6.882460  19.002167   \n",
       "\n",
       "Symbol             VZ        WMT        XOM  \n",
       "Date                                         \n",
       "2000-01-03  18.462101  43.873093  18.821234  \n",
       "2000-01-04  17.865303  42.231468  18.460726  \n",
       "2000-01-05  18.462101  41.369598  19.467131  \n",
       "2000-01-06  18.368319  41.821056  20.473537  \n",
       "2000-01-07  18.232691  44.981239  20.413448  \n",
       "\n",
       "[5 rows x 28 columns]"
      ]
     },
     "execution_count": 147,
     "metadata": {},
     "output_type": "execute_result"
    }
   ],
   "source": [
    "data = data_all['Adj Close']\n",
    "data.head()"
   ]
  },
  {
   "cell_type": "markdown",
   "metadata": {
    "slideshow": {
     "slide_type": "subslide"
    }
   },
   "source": [
    "### Log returns from stock prices\n",
    "\n",
    "* Data is price per share\n",
    "* We need daily returns from the prices\n",
    "* Given the prices $P_t$ and $P_{t-1}$ for time $t$, the return is, \n",
    "$$ R_t = \\frac{P_t - P_{t-1}}{P_{t-1}} = \\frac{P_t}{P_{t-1}} - 1 $$"
   ]
  },
  {
   "cell_type": "markdown",
   "metadata": {
    "slideshow": {
     "slide_type": "subslide"
    }
   },
   "source": [
    "* Approximation $\\log(1+x)\\approx x$ is good when $x$ is small\n",
    "* Since daily returns of stocks are small, calculate as returns,\n",
    "$$ r_t = \\log(1 + R_t) = \\log\\left(\\frac{P_t}{P_{t-1}}\\right) = \\log(P_t) - \\log(P_{t-1})$$\n",
    "So, in order to compute the log-returns, compute the difference of log prices:"
   ]
  },
  {
   "cell_type": "code",
   "execution_count": 148,
   "metadata": {
    "slideshow": {
     "slide_type": "subslide"
    },
    "tags": []
   },
   "outputs": [
    {
     "data": {
      "text/html": [
       "<div>\n",
       "<style scoped>\n",
       "    .dataframe tbody tr th:only-of-type {\n",
       "        vertical-align: middle;\n",
       "    }\n",
       "\n",
       "    .dataframe tbody tr th {\n",
       "        vertical-align: top;\n",
       "    }\n",
       "\n",
       "    .dataframe thead th {\n",
       "        text-align: right;\n",
       "    }\n",
       "</style>\n",
       "<table border=\"1\" class=\"dataframe\">\n",
       "  <thead>\n",
       "    <tr style=\"text-align: right;\">\n",
       "      <th>Symbol</th>\n",
       "      <th>AAPL</th>\n",
       "      <th>AXP</th>\n",
       "      <th>BA</th>\n",
       "      <th>BAC</th>\n",
       "      <th>CAT</th>\n",
       "      <th>CSCO</th>\n",
       "      <th>CVX</th>\n",
       "      <th>DD</th>\n",
       "      <th>DIS</th>\n",
       "      <th>GE</th>\n",
       "      <th>...</th>\n",
       "      <th>MMM</th>\n",
       "      <th>MRK</th>\n",
       "      <th>MSFT</th>\n",
       "      <th>PFE</th>\n",
       "      <th>PG</th>\n",
       "      <th>T</th>\n",
       "      <th>TRV</th>\n",
       "      <th>VZ</th>\n",
       "      <th>WMT</th>\n",
       "      <th>XOM</th>\n",
       "    </tr>\n",
       "    <tr>\n",
       "      <th>Date</th>\n",
       "      <th></th>\n",
       "      <th></th>\n",
       "      <th></th>\n",
       "      <th></th>\n",
       "      <th></th>\n",
       "      <th></th>\n",
       "      <th></th>\n",
       "      <th></th>\n",
       "      <th></th>\n",
       "      <th></th>\n",
       "      <th></th>\n",
       "      <th></th>\n",
       "      <th></th>\n",
       "      <th></th>\n",
       "      <th></th>\n",
       "      <th></th>\n",
       "      <th></th>\n",
       "      <th></th>\n",
       "      <th></th>\n",
       "      <th></th>\n",
       "      <th></th>\n",
       "    </tr>\n",
       "  </thead>\n",
       "  <tbody>\n",
       "    <tr>\n",
       "      <th>2000-01-03</th>\n",
       "      <td>NaN</td>\n",
       "      <td>NaN</td>\n",
       "      <td>NaN</td>\n",
       "      <td>NaN</td>\n",
       "      <td>NaN</td>\n",
       "      <td>NaN</td>\n",
       "      <td>NaN</td>\n",
       "      <td>NaN</td>\n",
       "      <td>NaN</td>\n",
       "      <td>NaN</td>\n",
       "      <td>...</td>\n",
       "      <td>NaN</td>\n",
       "      <td>NaN</td>\n",
       "      <td>NaN</td>\n",
       "      <td>NaN</td>\n",
       "      <td>NaN</td>\n",
       "      <td>NaN</td>\n",
       "      <td>NaN</td>\n",
       "      <td>NaN</td>\n",
       "      <td>NaN</td>\n",
       "      <td>NaN</td>\n",
       "    </tr>\n",
       "    <tr>\n",
       "      <th>2000-01-04</th>\n",
       "      <td>-0.088078</td>\n",
       "      <td>-0.038489</td>\n",
       "      <td>-0.001557</td>\n",
       "      <td>-0.061190</td>\n",
       "      <td>-0.012936</td>\n",
       "      <td>-0.057737</td>\n",
       "      <td>0.000000</td>\n",
       "      <td>-0.027713</td>\n",
       "      <td>0.056926</td>\n",
       "      <td>-0.040822</td>\n",
       "      <td>...</td>\n",
       "      <td>-0.040546</td>\n",
       "      <td>-0.035752</td>\n",
       "      <td>-0.034364</td>\n",
       "      <td>-0.037966</td>\n",
       "      <td>-0.019430</td>\n",
       "      <td>-0.060292</td>\n",
       "      <td>-0.013347</td>\n",
       "      <td>-0.032860</td>\n",
       "      <td>-0.038136</td>\n",
       "      <td>-0.019340</td>\n",
       "    </tr>\n",
       "    <tr>\n",
       "      <th>2000-01-05</th>\n",
       "      <td>0.014527</td>\n",
       "      <td>-0.025728</td>\n",
       "      <td>0.060442</td>\n",
       "      <td>0.010914</td>\n",
       "      <td>0.023166</td>\n",
       "      <td>-0.003068</td>\n",
       "      <td>0.017779</td>\n",
       "      <td>0.031945</td>\n",
       "      <td>0.040664</td>\n",
       "      <td>-0.001738</td>\n",
       "      <td>...</td>\n",
       "      <td>0.028554</td>\n",
       "      <td>0.038520</td>\n",
       "      <td>0.010488</td>\n",
       "      <td>0.016162</td>\n",
       "      <td>-0.019208</td>\n",
       "      <td>0.015417</td>\n",
       "      <td>-0.007707</td>\n",
       "      <td>0.032860</td>\n",
       "      <td>-0.020619</td>\n",
       "      <td>0.053082</td>\n",
       "    </tr>\n",
       "    <tr>\n",
       "      <th>2000-01-06</th>\n",
       "      <td>-0.090514</td>\n",
       "      <td>0.020169</td>\n",
       "      <td>0.010212</td>\n",
       "      <td>0.082024</td>\n",
       "      <td>0.049638</td>\n",
       "      <td>-0.016734</td>\n",
       "      <td>0.041702</td>\n",
       "      <td>0.027766</td>\n",
       "      <td>-0.040664</td>\n",
       "      <td>0.013281</td>\n",
       "      <td>...</td>\n",
       "      <td>0.077358</td>\n",
       "      <td>0.008261</td>\n",
       "      <td>-0.034072</td>\n",
       "      <td>0.035437</td>\n",
       "      <td>0.045031</td>\n",
       "      <td>-0.019566</td>\n",
       "      <td>0.019157</td>\n",
       "      <td>-0.005093</td>\n",
       "      <td>0.010854</td>\n",
       "      <td>0.050406</td>\n",
       "    </tr>\n",
       "    <tr>\n",
       "      <th>2000-01-07</th>\n",
       "      <td>0.046281</td>\n",
       "      <td>0.014455</td>\n",
       "      <td>0.028614</td>\n",
       "      <td>-0.026600</td>\n",
       "      <td>0.032164</td>\n",
       "      <td>0.057089</td>\n",
       "      <td>0.017453</td>\n",
       "      <td>0.022118</td>\n",
       "      <td>-0.015937</td>\n",
       "      <td>0.037990</td>\n",
       "      <td>...</td>\n",
       "      <td>0.019657</td>\n",
       "      <td>0.091647</td>\n",
       "      <td>0.012984</td>\n",
       "      <td>0.065505</td>\n",
       "      <td>0.076918</td>\n",
       "      <td>0.008535</td>\n",
       "      <td>0.039075</td>\n",
       "      <td>-0.007411</td>\n",
       "      <td>0.072846</td>\n",
       "      <td>-0.002939</td>\n",
       "    </tr>\n",
       "  </tbody>\n",
       "</table>\n",
       "<p>5 rows × 28 columns</p>\n",
       "</div>"
      ],
      "text/plain": [
       "Symbol          AAPL       AXP        BA       BAC       CAT      CSCO  \\\n",
       "Date                                                                     \n",
       "2000-01-03       NaN       NaN       NaN       NaN       NaN       NaN   \n",
       "2000-01-04 -0.088078 -0.038489 -0.001557 -0.061190 -0.012936 -0.057737   \n",
       "2000-01-05  0.014527 -0.025728  0.060442  0.010914  0.023166 -0.003068   \n",
       "2000-01-06 -0.090514  0.020169  0.010212  0.082024  0.049638 -0.016734   \n",
       "2000-01-07  0.046281  0.014455  0.028614 -0.026600  0.032164  0.057089   \n",
       "\n",
       "Symbol           CVX        DD       DIS        GE  ...       MMM       MRK  \\\n",
       "Date                                                ...                       \n",
       "2000-01-03       NaN       NaN       NaN       NaN  ...       NaN       NaN   \n",
       "2000-01-04  0.000000 -0.027713  0.056926 -0.040822  ... -0.040546 -0.035752   \n",
       "2000-01-05  0.017779  0.031945  0.040664 -0.001738  ...  0.028554  0.038520   \n",
       "2000-01-06  0.041702  0.027766 -0.040664  0.013281  ...  0.077358  0.008261   \n",
       "2000-01-07  0.017453  0.022118 -0.015937  0.037990  ...  0.019657  0.091647   \n",
       "\n",
       "Symbol          MSFT       PFE        PG         T       TRV        VZ  \\\n",
       "Date                                                                     \n",
       "2000-01-03       NaN       NaN       NaN       NaN       NaN       NaN   \n",
       "2000-01-04 -0.034364 -0.037966 -0.019430 -0.060292 -0.013347 -0.032860   \n",
       "2000-01-05  0.010488  0.016162 -0.019208  0.015417 -0.007707  0.032860   \n",
       "2000-01-06 -0.034072  0.035437  0.045031 -0.019566  0.019157 -0.005093   \n",
       "2000-01-07  0.012984  0.065505  0.076918  0.008535  0.039075 -0.007411   \n",
       "\n",
       "Symbol           WMT       XOM  \n",
       "Date                            \n",
       "2000-01-03       NaN       NaN  \n",
       "2000-01-04 -0.038136 -0.019340  \n",
       "2000-01-05 -0.020619  0.053082  \n",
       "2000-01-06  0.010854  0.050406  \n",
       "2000-01-07  0.072846 -0.002939  \n",
       "\n",
       "[5 rows x 28 columns]"
      ]
     },
     "execution_count": 148,
     "metadata": {},
     "output_type": "execute_result"
    }
   ],
   "source": [
    "logret = np.log(data).diff()\n",
    "logret.head()"
   ]
  },
  {
   "cell_type": "markdown",
   "metadata": {
    "slideshow": {
     "slide_type": "-"
    }
   },
   "source": [
    "* First time period is NaN since there is no data corresponding to $-1$.\n",
    "\n",
    "* Note that $100\\cdot r_t$% represent daily percentage returns."
   ]
  },
  {
   "cell_type": "markdown",
   "metadata": {
    "slideshow": {
     "slide_type": "subslide"
    }
   },
   "source": [
    "### Estimate expected returns\n",
    "\n",
    "Estimate the daily expected returns by computing the means:"
   ]
  },
  {
   "cell_type": "code",
   "execution_count": 149,
   "metadata": {
    "slideshow": {
     "slide_type": "-"
    },
    "tags": []
   },
   "outputs": [
    {
     "data": {
      "text/plain": [
       "Symbol\n",
       "AAPL    0.000903\n",
       "AXP     0.000269\n",
       "BA      0.000354\n",
       "BAC     0.000134\n",
       "CAT     0.000480\n",
       "CSCO    0.000038\n",
       "CVX     0.000383\n",
       "DD      0.000145\n",
       "DIS     0.000254\n",
       "GE     -0.000087\n",
       "HD      0.000341\n",
       "HPQ     0.000140\n",
       "IBM     0.000118\n",
       "INTC    0.000035\n",
       "JNJ     0.000317\n",
       "JPM     0.000296\n",
       "KO      0.000249\n",
       "MCD     0.000440\n",
       "MMM     0.000243\n",
       "MRK     0.000245\n",
       "MSFT    0.000364\n",
       "PFE     0.000177\n",
       "PG      0.000288\n",
       "T       0.000151\n",
       "TRV     0.000391\n",
       "VZ      0.000127\n",
       "WMT     0.000210\n",
       "XOM     0.000312\n",
       "dtype: float64"
      ]
     },
     "execution_count": 149,
     "metadata": {},
     "output_type": "execute_result"
    }
   ],
   "source": [
    "mu = logret[1:].mean()\n",
    "mu"
   ]
  },
  {
   "cell_type": "markdown",
   "metadata": {
    "slideshow": {
     "slide_type": "subslide"
    }
   },
   "source": [
    "### Estimate covariance matrix (volatility structure)\n",
    "\n",
    "Estimate the covarince matrix of returns:"
   ]
  },
  {
   "cell_type": "code",
   "execution_count": 150,
   "metadata": {
    "slideshow": {
     "slide_type": "-"
    },
    "tags": []
   },
   "outputs": [
    {
     "data": {
      "text/html": [
       "<div>\n",
       "<style scoped>\n",
       "    .dataframe tbody tr th:only-of-type {\n",
       "        vertical-align: middle;\n",
       "    }\n",
       "\n",
       "    .dataframe tbody tr th {\n",
       "        vertical-align: top;\n",
       "    }\n",
       "\n",
       "    .dataframe thead th {\n",
       "        text-align: right;\n",
       "    }\n",
       "</style>\n",
       "<table border=\"1\" class=\"dataframe\">\n",
       "  <thead>\n",
       "    <tr style=\"text-align: right;\">\n",
       "      <th>Symbol</th>\n",
       "      <th>AAPL</th>\n",
       "      <th>AXP</th>\n",
       "      <th>BA</th>\n",
       "      <th>BAC</th>\n",
       "      <th>CAT</th>\n",
       "      <th>CSCO</th>\n",
       "      <th>CVX</th>\n",
       "      <th>DD</th>\n",
       "      <th>DIS</th>\n",
       "      <th>GE</th>\n",
       "      <th>...</th>\n",
       "      <th>MMM</th>\n",
       "      <th>MRK</th>\n",
       "      <th>MSFT</th>\n",
       "      <th>PFE</th>\n",
       "      <th>PG</th>\n",
       "      <th>T</th>\n",
       "      <th>TRV</th>\n",
       "      <th>VZ</th>\n",
       "      <th>WMT</th>\n",
       "      <th>XOM</th>\n",
       "    </tr>\n",
       "    <tr>\n",
       "      <th>Symbol</th>\n",
       "      <th></th>\n",
       "      <th></th>\n",
       "      <th></th>\n",
       "      <th></th>\n",
       "      <th></th>\n",
       "      <th></th>\n",
       "      <th></th>\n",
       "      <th></th>\n",
       "      <th></th>\n",
       "      <th></th>\n",
       "      <th></th>\n",
       "      <th></th>\n",
       "      <th></th>\n",
       "      <th></th>\n",
       "      <th></th>\n",
       "      <th></th>\n",
       "      <th></th>\n",
       "      <th></th>\n",
       "      <th></th>\n",
       "      <th></th>\n",
       "      <th></th>\n",
       "    </tr>\n",
       "  </thead>\n",
       "  <tbody>\n",
       "    <tr>\n",
       "      <th>AAPL</th>\n",
       "      <td>0.000671</td>\n",
       "      <td>0.000213</td>\n",
       "      <td>0.000168</td>\n",
       "      <td>0.000225</td>\n",
       "      <td>0.000187</td>\n",
       "      <td>0.000279</td>\n",
       "      <td>0.000122</td>\n",
       "      <td>0.000167</td>\n",
       "      <td>0.000175</td>\n",
       "      <td>0.000186</td>\n",
       "      <td>...</td>\n",
       "      <td>0.000125</td>\n",
       "      <td>0.000088</td>\n",
       "      <td>0.000234</td>\n",
       "      <td>0.000089</td>\n",
       "      <td>0.000069</td>\n",
       "      <td>0.000112</td>\n",
       "      <td>0.000133</td>\n",
       "      <td>0.000096</td>\n",
       "      <td>0.000099</td>\n",
       "      <td>0.000116</td>\n",
       "    </tr>\n",
       "    <tr>\n",
       "      <th>AXP</th>\n",
       "      <td>0.000213</td>\n",
       "      <td>0.000521</td>\n",
       "      <td>0.000261</td>\n",
       "      <td>0.000432</td>\n",
       "      <td>0.000255</td>\n",
       "      <td>0.000239</td>\n",
       "      <td>0.000201</td>\n",
       "      <td>0.000270</td>\n",
       "      <td>0.000249</td>\n",
       "      <td>0.000288</td>\n",
       "      <td>...</td>\n",
       "      <td>0.000180</td>\n",
       "      <td>0.000135</td>\n",
       "      <td>0.000205</td>\n",
       "      <td>0.000142</td>\n",
       "      <td>0.000104</td>\n",
       "      <td>0.000165</td>\n",
       "      <td>0.000234</td>\n",
       "      <td>0.000138</td>\n",
       "      <td>0.000118</td>\n",
       "      <td>0.000184</td>\n",
       "    </tr>\n",
       "    <tr>\n",
       "      <th>BA</th>\n",
       "      <td>0.000168</td>\n",
       "      <td>0.000261</td>\n",
       "      <td>0.000500</td>\n",
       "      <td>0.000263</td>\n",
       "      <td>0.000217</td>\n",
       "      <td>0.000178</td>\n",
       "      <td>0.000186</td>\n",
       "      <td>0.000235</td>\n",
       "      <td>0.000204</td>\n",
       "      <td>0.000242</td>\n",
       "      <td>...</td>\n",
       "      <td>0.000153</td>\n",
       "      <td>0.000106</td>\n",
       "      <td>0.000166</td>\n",
       "      <td>0.000115</td>\n",
       "      <td>0.000085</td>\n",
       "      <td>0.000127</td>\n",
       "      <td>0.000172</td>\n",
       "      <td>0.000099</td>\n",
       "      <td>0.000092</td>\n",
       "      <td>0.000175</td>\n",
       "    </tr>\n",
       "    <tr>\n",
       "      <th>BAC</th>\n",
       "      <td>0.000225</td>\n",
       "      <td>0.000432</td>\n",
       "      <td>0.000263</td>\n",
       "      <td>0.000795</td>\n",
       "      <td>0.000290</td>\n",
       "      <td>0.000249</td>\n",
       "      <td>0.000221</td>\n",
       "      <td>0.000312</td>\n",
       "      <td>0.000246</td>\n",
       "      <td>0.000330</td>\n",
       "      <td>...</td>\n",
       "      <td>0.000202</td>\n",
       "      <td>0.000141</td>\n",
       "      <td>0.000206</td>\n",
       "      <td>0.000159</td>\n",
       "      <td>0.000111</td>\n",
       "      <td>0.000175</td>\n",
       "      <td>0.000266</td>\n",
       "      <td>0.000144</td>\n",
       "      <td>0.000116</td>\n",
       "      <td>0.000199</td>\n",
       "    </tr>\n",
       "    <tr>\n",
       "      <th>CAT</th>\n",
       "      <td>0.000187</td>\n",
       "      <td>0.000255</td>\n",
       "      <td>0.000217</td>\n",
       "      <td>0.000290</td>\n",
       "      <td>0.000415</td>\n",
       "      <td>0.000192</td>\n",
       "      <td>0.000193</td>\n",
       "      <td>0.000268</td>\n",
       "      <td>0.000185</td>\n",
       "      <td>0.000229</td>\n",
       "      <td>...</td>\n",
       "      <td>0.000180</td>\n",
       "      <td>0.000108</td>\n",
       "      <td>0.000163</td>\n",
       "      <td>0.000117</td>\n",
       "      <td>0.000086</td>\n",
       "      <td>0.000126</td>\n",
       "      <td>0.000167</td>\n",
       "      <td>0.000104</td>\n",
       "      <td>0.000098</td>\n",
       "      <td>0.000182</td>\n",
       "    </tr>\n",
       "    <tr>\n",
       "      <th>CSCO</th>\n",
       "      <td>0.000279</td>\n",
       "      <td>0.000239</td>\n",
       "      <td>0.000178</td>\n",
       "      <td>0.000249</td>\n",
       "      <td>0.000192</td>\n",
       "      <td>0.000554</td>\n",
       "      <td>0.000132</td>\n",
       "      <td>0.000192</td>\n",
       "      <td>0.000203</td>\n",
       "      <td>0.000211</td>\n",
       "      <td>...</td>\n",
       "      <td>0.000145</td>\n",
       "      <td>0.000097</td>\n",
       "      <td>0.000255</td>\n",
       "      <td>0.000110</td>\n",
       "      <td>0.000080</td>\n",
       "      <td>0.000132</td>\n",
       "      <td>0.000156</td>\n",
       "      <td>0.000122</td>\n",
       "      <td>0.000111</td>\n",
       "      <td>0.000126</td>\n",
       "    </tr>\n",
       "    <tr>\n",
       "      <th>CVX</th>\n",
       "      <td>0.000122</td>\n",
       "      <td>0.000201</td>\n",
       "      <td>0.000186</td>\n",
       "      <td>0.000221</td>\n",
       "      <td>0.000193</td>\n",
       "      <td>0.000132</td>\n",
       "      <td>0.000311</td>\n",
       "      <td>0.000192</td>\n",
       "      <td>0.000151</td>\n",
       "      <td>0.000175</td>\n",
       "      <td>...</td>\n",
       "      <td>0.000125</td>\n",
       "      <td>0.000111</td>\n",
       "      <td>0.000132</td>\n",
       "      <td>0.000108</td>\n",
       "      <td>0.000070</td>\n",
       "      <td>0.000114</td>\n",
       "      <td>0.000154</td>\n",
       "      <td>0.000094</td>\n",
       "      <td>0.000068</td>\n",
       "      <td>0.000249</td>\n",
       "    </tr>\n",
       "    <tr>\n",
       "      <th>DD</th>\n",
       "      <td>0.000167</td>\n",
       "      <td>0.000270</td>\n",
       "      <td>0.000235</td>\n",
       "      <td>0.000312</td>\n",
       "      <td>0.000268</td>\n",
       "      <td>0.000192</td>\n",
       "      <td>0.000192</td>\n",
       "      <td>0.000493</td>\n",
       "      <td>0.000200</td>\n",
       "      <td>0.000241</td>\n",
       "      <td>...</td>\n",
       "      <td>0.000187</td>\n",
       "      <td>0.000124</td>\n",
       "      <td>0.000166</td>\n",
       "      <td>0.000129</td>\n",
       "      <td>0.000104</td>\n",
       "      <td>0.000137</td>\n",
       "      <td>0.000183</td>\n",
       "      <td>0.000111</td>\n",
       "      <td>0.000105</td>\n",
       "      <td>0.000179</td>\n",
       "    </tr>\n",
       "    <tr>\n",
       "      <th>DIS</th>\n",
       "      <td>0.000175</td>\n",
       "      <td>0.000249</td>\n",
       "      <td>0.000204</td>\n",
       "      <td>0.000246</td>\n",
       "      <td>0.000185</td>\n",
       "      <td>0.000203</td>\n",
       "      <td>0.000151</td>\n",
       "      <td>0.000200</td>\n",
       "      <td>0.000378</td>\n",
       "      <td>0.000205</td>\n",
       "      <td>...</td>\n",
       "      <td>0.000138</td>\n",
       "      <td>0.000101</td>\n",
       "      <td>0.000173</td>\n",
       "      <td>0.000106</td>\n",
       "      <td>0.000079</td>\n",
       "      <td>0.000129</td>\n",
       "      <td>0.000149</td>\n",
       "      <td>0.000114</td>\n",
       "      <td>0.000096</td>\n",
       "      <td>0.000143</td>\n",
       "    </tr>\n",
       "    <tr>\n",
       "      <th>GE</th>\n",
       "      <td>0.000186</td>\n",
       "      <td>0.000288</td>\n",
       "      <td>0.000242</td>\n",
       "      <td>0.000330</td>\n",
       "      <td>0.000229</td>\n",
       "      <td>0.000211</td>\n",
       "      <td>0.000175</td>\n",
       "      <td>0.000241</td>\n",
       "      <td>0.000205</td>\n",
       "      <td>0.000447</td>\n",
       "      <td>...</td>\n",
       "      <td>0.000171</td>\n",
       "      <td>0.000115</td>\n",
       "      <td>0.000166</td>\n",
       "      <td>0.000125</td>\n",
       "      <td>0.000090</td>\n",
       "      <td>0.000137</td>\n",
       "      <td>0.000183</td>\n",
       "      <td>0.000117</td>\n",
       "      <td>0.000102</td>\n",
       "      <td>0.000167</td>\n",
       "    </tr>\n",
       "    <tr>\n",
       "      <th>HD</th>\n",
       "      <td>0.000169</td>\n",
       "      <td>0.000226</td>\n",
       "      <td>0.000180</td>\n",
       "      <td>0.000235</td>\n",
       "      <td>0.000176</td>\n",
       "      <td>0.000182</td>\n",
       "      <td>0.000126</td>\n",
       "      <td>0.000191</td>\n",
       "      <td>0.000178</td>\n",
       "      <td>0.000185</td>\n",
       "      <td>...</td>\n",
       "      <td>0.000140</td>\n",
       "      <td>0.000100</td>\n",
       "      <td>0.000165</td>\n",
       "      <td>0.000106</td>\n",
       "      <td>0.000086</td>\n",
       "      <td>0.000115</td>\n",
       "      <td>0.000155</td>\n",
       "      <td>0.000104</td>\n",
       "      <td>0.000149</td>\n",
       "      <td>0.000116</td>\n",
       "    </tr>\n",
       "    <tr>\n",
       "      <th>HPQ</th>\n",
       "      <td>0.000256</td>\n",
       "      <td>0.000236</td>\n",
       "      <td>0.000206</td>\n",
       "      <td>0.000243</td>\n",
       "      <td>0.000209</td>\n",
       "      <td>0.000285</td>\n",
       "      <td>0.000157</td>\n",
       "      <td>0.000210</td>\n",
       "      <td>0.000203</td>\n",
       "      <td>0.000211</td>\n",
       "      <td>...</td>\n",
       "      <td>0.000144</td>\n",
       "      <td>0.000101</td>\n",
       "      <td>0.000219</td>\n",
       "      <td>0.000102</td>\n",
       "      <td>0.000065</td>\n",
       "      <td>0.000123</td>\n",
       "      <td>0.000151</td>\n",
       "      <td>0.000110</td>\n",
       "      <td>0.000088</td>\n",
       "      <td>0.000143</td>\n",
       "    </tr>\n",
       "    <tr>\n",
       "      <th>IBM</th>\n",
       "      <td>0.000169</td>\n",
       "      <td>0.000176</td>\n",
       "      <td>0.000144</td>\n",
       "      <td>0.000184</td>\n",
       "      <td>0.000153</td>\n",
       "      <td>0.000203</td>\n",
       "      <td>0.000117</td>\n",
       "      <td>0.000158</td>\n",
       "      <td>0.000143</td>\n",
       "      <td>0.000167</td>\n",
       "      <td>...</td>\n",
       "      <td>0.000113</td>\n",
       "      <td>0.000082</td>\n",
       "      <td>0.000155</td>\n",
       "      <td>0.000087</td>\n",
       "      <td>0.000065</td>\n",
       "      <td>0.000111</td>\n",
       "      <td>0.000123</td>\n",
       "      <td>0.000095</td>\n",
       "      <td>0.000080</td>\n",
       "      <td>0.000116</td>\n",
       "    </tr>\n",
       "    <tr>\n",
       "      <th>INTC</th>\n",
       "      <td>0.000300</td>\n",
       "      <td>0.000246</td>\n",
       "      <td>0.000200</td>\n",
       "      <td>0.000251</td>\n",
       "      <td>0.000202</td>\n",
       "      <td>0.000338</td>\n",
       "      <td>0.000142</td>\n",
       "      <td>0.000201</td>\n",
       "      <td>0.000197</td>\n",
       "      <td>0.000210</td>\n",
       "      <td>...</td>\n",
       "      <td>0.000147</td>\n",
       "      <td>0.000104</td>\n",
       "      <td>0.000273</td>\n",
       "      <td>0.000109</td>\n",
       "      <td>0.000084</td>\n",
       "      <td>0.000133</td>\n",
       "      <td>0.000160</td>\n",
       "      <td>0.000120</td>\n",
       "      <td>0.000109</td>\n",
       "      <td>0.000140</td>\n",
       "    </tr>\n",
       "    <tr>\n",
       "      <th>JNJ</th>\n",
       "      <td>0.000071</td>\n",
       "      <td>0.000105</td>\n",
       "      <td>0.000089</td>\n",
       "      <td>0.000106</td>\n",
       "      <td>0.000087</td>\n",
       "      <td>0.000079</td>\n",
       "      <td>0.000085</td>\n",
       "      <td>0.000095</td>\n",
       "      <td>0.000082</td>\n",
       "      <td>0.000091</td>\n",
       "      <td>...</td>\n",
       "      <td>0.000085</td>\n",
       "      <td>0.000106</td>\n",
       "      <td>0.000080</td>\n",
       "      <td>0.000105</td>\n",
       "      <td>0.000077</td>\n",
       "      <td>0.000076</td>\n",
       "      <td>0.000083</td>\n",
       "      <td>0.000070</td>\n",
       "      <td>0.000064</td>\n",
       "      <td>0.000084</td>\n",
       "    </tr>\n",
       "    <tr>\n",
       "      <th>JPM</th>\n",
       "      <td>0.000219</td>\n",
       "      <td>0.000386</td>\n",
       "      <td>0.000244</td>\n",
       "      <td>0.000533</td>\n",
       "      <td>0.000260</td>\n",
       "      <td>0.000256</td>\n",
       "      <td>0.000199</td>\n",
       "      <td>0.000282</td>\n",
       "      <td>0.000238</td>\n",
       "      <td>0.000301</td>\n",
       "      <td>...</td>\n",
       "      <td>0.000179</td>\n",
       "      <td>0.000137</td>\n",
       "      <td>0.000209</td>\n",
       "      <td>0.000144</td>\n",
       "      <td>0.000099</td>\n",
       "      <td>0.000172</td>\n",
       "      <td>0.000249</td>\n",
       "      <td>0.000151</td>\n",
       "      <td>0.000120</td>\n",
       "      <td>0.000181</td>\n",
       "    </tr>\n",
       "    <tr>\n",
       "      <th>KO</th>\n",
       "      <td>0.000078</td>\n",
       "      <td>0.000118</td>\n",
       "      <td>0.000106</td>\n",
       "      <td>0.000112</td>\n",
       "      <td>0.000096</td>\n",
       "      <td>0.000084</td>\n",
       "      <td>0.000089</td>\n",
       "      <td>0.000105</td>\n",
       "      <td>0.000092</td>\n",
       "      <td>0.000098</td>\n",
       "      <td>...</td>\n",
       "      <td>0.000085</td>\n",
       "      <td>0.000079</td>\n",
       "      <td>0.000087</td>\n",
       "      <td>0.000078</td>\n",
       "      <td>0.000087</td>\n",
       "      <td>0.000084</td>\n",
       "      <td>0.000094</td>\n",
       "      <td>0.000077</td>\n",
       "      <td>0.000068</td>\n",
       "      <td>0.000090</td>\n",
       "    </tr>\n",
       "    <tr>\n",
       "      <th>MCD</th>\n",
       "      <td>0.000098</td>\n",
       "      <td>0.000134</td>\n",
       "      <td>0.000122</td>\n",
       "      <td>0.000132</td>\n",
       "      <td>0.000102</td>\n",
       "      <td>0.000107</td>\n",
       "      <td>0.000093</td>\n",
       "      <td>0.000115</td>\n",
       "      <td>0.000107</td>\n",
       "      <td>0.000112</td>\n",
       "      <td>...</td>\n",
       "      <td>0.000085</td>\n",
       "      <td>0.000077</td>\n",
       "      <td>0.000093</td>\n",
       "      <td>0.000072</td>\n",
       "      <td>0.000072</td>\n",
       "      <td>0.000076</td>\n",
       "      <td>0.000109</td>\n",
       "      <td>0.000068</td>\n",
       "      <td>0.000073</td>\n",
       "      <td>0.000084</td>\n",
       "    </tr>\n",
       "    <tr>\n",
       "      <th>MMM</th>\n",
       "      <td>0.000125</td>\n",
       "      <td>0.000180</td>\n",
       "      <td>0.000153</td>\n",
       "      <td>0.000202</td>\n",
       "      <td>0.000180</td>\n",
       "      <td>0.000145</td>\n",
       "      <td>0.000125</td>\n",
       "      <td>0.000187</td>\n",
       "      <td>0.000138</td>\n",
       "      <td>0.000171</td>\n",
       "      <td>...</td>\n",
       "      <td>0.000227</td>\n",
       "      <td>0.000089</td>\n",
       "      <td>0.000119</td>\n",
       "      <td>0.000101</td>\n",
       "      <td>0.000085</td>\n",
       "      <td>0.000099</td>\n",
       "      <td>0.000131</td>\n",
       "      <td>0.000085</td>\n",
       "      <td>0.000085</td>\n",
       "      <td>0.000123</td>\n",
       "    </tr>\n",
       "    <tr>\n",
       "      <th>MRK</th>\n",
       "      <td>0.000088</td>\n",
       "      <td>0.000135</td>\n",
       "      <td>0.000106</td>\n",
       "      <td>0.000141</td>\n",
       "      <td>0.000108</td>\n",
       "      <td>0.000097</td>\n",
       "      <td>0.000111</td>\n",
       "      <td>0.000124</td>\n",
       "      <td>0.000101</td>\n",
       "      <td>0.000115</td>\n",
       "      <td>...</td>\n",
       "      <td>0.000089</td>\n",
       "      <td>0.000285</td>\n",
       "      <td>0.000096</td>\n",
       "      <td>0.000145</td>\n",
       "      <td>0.000083</td>\n",
       "      <td>0.000097</td>\n",
       "      <td>0.000112</td>\n",
       "      <td>0.000092</td>\n",
       "      <td>0.000076</td>\n",
       "      <td>0.000107</td>\n",
       "    </tr>\n",
       "    <tr>\n",
       "      <th>MSFT</th>\n",
       "      <td>0.000234</td>\n",
       "      <td>0.000205</td>\n",
       "      <td>0.000166</td>\n",
       "      <td>0.000206</td>\n",
       "      <td>0.000163</td>\n",
       "      <td>0.000255</td>\n",
       "      <td>0.000132</td>\n",
       "      <td>0.000166</td>\n",
       "      <td>0.000173</td>\n",
       "      <td>0.000166</td>\n",
       "      <td>...</td>\n",
       "      <td>0.000119</td>\n",
       "      <td>0.000096</td>\n",
       "      <td>0.000376</td>\n",
       "      <td>0.000103</td>\n",
       "      <td>0.000075</td>\n",
       "      <td>0.000112</td>\n",
       "      <td>0.000138</td>\n",
       "      <td>0.000105</td>\n",
       "      <td>0.000100</td>\n",
       "      <td>0.000121</td>\n",
       "    </tr>\n",
       "    <tr>\n",
       "      <th>PFE</th>\n",
       "      <td>0.000089</td>\n",
       "      <td>0.000142</td>\n",
       "      <td>0.000115</td>\n",
       "      <td>0.000159</td>\n",
       "      <td>0.000117</td>\n",
       "      <td>0.000110</td>\n",
       "      <td>0.000108</td>\n",
       "      <td>0.000129</td>\n",
       "      <td>0.000106</td>\n",
       "      <td>0.000125</td>\n",
       "      <td>...</td>\n",
       "      <td>0.000101</td>\n",
       "      <td>0.000145</td>\n",
       "      <td>0.000103</td>\n",
       "      <td>0.000253</td>\n",
       "      <td>0.000082</td>\n",
       "      <td>0.000096</td>\n",
       "      <td>0.000112</td>\n",
       "      <td>0.000088</td>\n",
       "      <td>0.000080</td>\n",
       "      <td>0.000108</td>\n",
       "    </tr>\n",
       "    <tr>\n",
       "      <th>PG</th>\n",
       "      <td>0.000069</td>\n",
       "      <td>0.000104</td>\n",
       "      <td>0.000085</td>\n",
       "      <td>0.000111</td>\n",
       "      <td>0.000086</td>\n",
       "      <td>0.000080</td>\n",
       "      <td>0.000070</td>\n",
       "      <td>0.000104</td>\n",
       "      <td>0.000079</td>\n",
       "      <td>0.000090</td>\n",
       "      <td>...</td>\n",
       "      <td>0.000085</td>\n",
       "      <td>0.000083</td>\n",
       "      <td>0.000075</td>\n",
       "      <td>0.000082</td>\n",
       "      <td>0.000185</td>\n",
       "      <td>0.000082</td>\n",
       "      <td>0.000087</td>\n",
       "      <td>0.000073</td>\n",
       "      <td>0.000078</td>\n",
       "      <td>0.000072</td>\n",
       "    </tr>\n",
       "    <tr>\n",
       "      <th>T</th>\n",
       "      <td>0.000112</td>\n",
       "      <td>0.000165</td>\n",
       "      <td>0.000127</td>\n",
       "      <td>0.000175</td>\n",
       "      <td>0.000126</td>\n",
       "      <td>0.000132</td>\n",
       "      <td>0.000114</td>\n",
       "      <td>0.000137</td>\n",
       "      <td>0.000129</td>\n",
       "      <td>0.000137</td>\n",
       "      <td>...</td>\n",
       "      <td>0.000099</td>\n",
       "      <td>0.000097</td>\n",
       "      <td>0.000112</td>\n",
       "      <td>0.000096</td>\n",
       "      <td>0.000082</td>\n",
       "      <td>0.000265</td>\n",
       "      <td>0.000119</td>\n",
       "      <td>0.000170</td>\n",
       "      <td>0.000084</td>\n",
       "      <td>0.000118</td>\n",
       "    </tr>\n",
       "    <tr>\n",
       "      <th>TRV</th>\n",
       "      <td>0.000133</td>\n",
       "      <td>0.000234</td>\n",
       "      <td>0.000172</td>\n",
       "      <td>0.000266</td>\n",
       "      <td>0.000167</td>\n",
       "      <td>0.000156</td>\n",
       "      <td>0.000154</td>\n",
       "      <td>0.000183</td>\n",
       "      <td>0.000149</td>\n",
       "      <td>0.000183</td>\n",
       "      <td>...</td>\n",
       "      <td>0.000131</td>\n",
       "      <td>0.000112</td>\n",
       "      <td>0.000138</td>\n",
       "      <td>0.000112</td>\n",
       "      <td>0.000087</td>\n",
       "      <td>0.000119</td>\n",
       "      <td>0.000335</td>\n",
       "      <td>0.000107</td>\n",
       "      <td>0.000094</td>\n",
       "      <td>0.000141</td>\n",
       "    </tr>\n",
       "    <tr>\n",
       "      <th>VZ</th>\n",
       "      <td>0.000096</td>\n",
       "      <td>0.000138</td>\n",
       "      <td>0.000099</td>\n",
       "      <td>0.000144</td>\n",
       "      <td>0.000104</td>\n",
       "      <td>0.000122</td>\n",
       "      <td>0.000094</td>\n",
       "      <td>0.000111</td>\n",
       "      <td>0.000114</td>\n",
       "      <td>0.000117</td>\n",
       "      <td>...</td>\n",
       "      <td>0.000085</td>\n",
       "      <td>0.000092</td>\n",
       "      <td>0.000105</td>\n",
       "      <td>0.000088</td>\n",
       "      <td>0.000073</td>\n",
       "      <td>0.000170</td>\n",
       "      <td>0.000107</td>\n",
       "      <td>0.000227</td>\n",
       "      <td>0.000078</td>\n",
       "      <td>0.000097</td>\n",
       "    </tr>\n",
       "    <tr>\n",
       "      <th>WMT</th>\n",
       "      <td>0.000099</td>\n",
       "      <td>0.000118</td>\n",
       "      <td>0.000092</td>\n",
       "      <td>0.000116</td>\n",
       "      <td>0.000098</td>\n",
       "      <td>0.000111</td>\n",
       "      <td>0.000068</td>\n",
       "      <td>0.000105</td>\n",
       "      <td>0.000096</td>\n",
       "      <td>0.000102</td>\n",
       "      <td>...</td>\n",
       "      <td>0.000085</td>\n",
       "      <td>0.000076</td>\n",
       "      <td>0.000100</td>\n",
       "      <td>0.000080</td>\n",
       "      <td>0.000078</td>\n",
       "      <td>0.000084</td>\n",
       "      <td>0.000094</td>\n",
       "      <td>0.000078</td>\n",
       "      <td>0.000223</td>\n",
       "      <td>0.000073</td>\n",
       "    </tr>\n",
       "    <tr>\n",
       "      <th>XOM</th>\n",
       "      <td>0.000116</td>\n",
       "      <td>0.000184</td>\n",
       "      <td>0.000175</td>\n",
       "      <td>0.000199</td>\n",
       "      <td>0.000182</td>\n",
       "      <td>0.000126</td>\n",
       "      <td>0.000249</td>\n",
       "      <td>0.000179</td>\n",
       "      <td>0.000143</td>\n",
       "      <td>0.000167</td>\n",
       "      <td>...</td>\n",
       "      <td>0.000123</td>\n",
       "      <td>0.000107</td>\n",
       "      <td>0.000121</td>\n",
       "      <td>0.000108</td>\n",
       "      <td>0.000072</td>\n",
       "      <td>0.000118</td>\n",
       "      <td>0.000141</td>\n",
       "      <td>0.000097</td>\n",
       "      <td>0.000073</td>\n",
       "      <td>0.000282</td>\n",
       "    </tr>\n",
       "  </tbody>\n",
       "</table>\n",
       "<p>28 rows × 28 columns</p>\n",
       "</div>"
      ],
      "text/plain": [
       "Symbol      AAPL       AXP        BA       BAC       CAT      CSCO       CVX  \\\n",
       "Symbol                                                                         \n",
       "AAPL    0.000671  0.000213  0.000168  0.000225  0.000187  0.000279  0.000122   \n",
       "AXP     0.000213  0.000521  0.000261  0.000432  0.000255  0.000239  0.000201   \n",
       "BA      0.000168  0.000261  0.000500  0.000263  0.000217  0.000178  0.000186   \n",
       "BAC     0.000225  0.000432  0.000263  0.000795  0.000290  0.000249  0.000221   \n",
       "CAT     0.000187  0.000255  0.000217  0.000290  0.000415  0.000192  0.000193   \n",
       "CSCO    0.000279  0.000239  0.000178  0.000249  0.000192  0.000554  0.000132   \n",
       "CVX     0.000122  0.000201  0.000186  0.000221  0.000193  0.000132  0.000311   \n",
       "DD      0.000167  0.000270  0.000235  0.000312  0.000268  0.000192  0.000192   \n",
       "DIS     0.000175  0.000249  0.000204  0.000246  0.000185  0.000203  0.000151   \n",
       "GE      0.000186  0.000288  0.000242  0.000330  0.000229  0.000211  0.000175   \n",
       "HD      0.000169  0.000226  0.000180  0.000235  0.000176  0.000182  0.000126   \n",
       "HPQ     0.000256  0.000236  0.000206  0.000243  0.000209  0.000285  0.000157   \n",
       "IBM     0.000169  0.000176  0.000144  0.000184  0.000153  0.000203  0.000117   \n",
       "INTC    0.000300  0.000246  0.000200  0.000251  0.000202  0.000338  0.000142   \n",
       "JNJ     0.000071  0.000105  0.000089  0.000106  0.000087  0.000079  0.000085   \n",
       "JPM     0.000219  0.000386  0.000244  0.000533  0.000260  0.000256  0.000199   \n",
       "KO      0.000078  0.000118  0.000106  0.000112  0.000096  0.000084  0.000089   \n",
       "MCD     0.000098  0.000134  0.000122  0.000132  0.000102  0.000107  0.000093   \n",
       "MMM     0.000125  0.000180  0.000153  0.000202  0.000180  0.000145  0.000125   \n",
       "MRK     0.000088  0.000135  0.000106  0.000141  0.000108  0.000097  0.000111   \n",
       "MSFT    0.000234  0.000205  0.000166  0.000206  0.000163  0.000255  0.000132   \n",
       "PFE     0.000089  0.000142  0.000115  0.000159  0.000117  0.000110  0.000108   \n",
       "PG      0.000069  0.000104  0.000085  0.000111  0.000086  0.000080  0.000070   \n",
       "T       0.000112  0.000165  0.000127  0.000175  0.000126  0.000132  0.000114   \n",
       "TRV     0.000133  0.000234  0.000172  0.000266  0.000167  0.000156  0.000154   \n",
       "VZ      0.000096  0.000138  0.000099  0.000144  0.000104  0.000122  0.000094   \n",
       "WMT     0.000099  0.000118  0.000092  0.000116  0.000098  0.000111  0.000068   \n",
       "XOM     0.000116  0.000184  0.000175  0.000199  0.000182  0.000126  0.000249   \n",
       "\n",
       "Symbol        DD       DIS        GE  ...       MMM       MRK      MSFT  \\\n",
       "Symbol                                ...                                 \n",
       "AAPL    0.000167  0.000175  0.000186  ...  0.000125  0.000088  0.000234   \n",
       "AXP     0.000270  0.000249  0.000288  ...  0.000180  0.000135  0.000205   \n",
       "BA      0.000235  0.000204  0.000242  ...  0.000153  0.000106  0.000166   \n",
       "BAC     0.000312  0.000246  0.000330  ...  0.000202  0.000141  0.000206   \n",
       "CAT     0.000268  0.000185  0.000229  ...  0.000180  0.000108  0.000163   \n",
       "CSCO    0.000192  0.000203  0.000211  ...  0.000145  0.000097  0.000255   \n",
       "CVX     0.000192  0.000151  0.000175  ...  0.000125  0.000111  0.000132   \n",
       "DD      0.000493  0.000200  0.000241  ...  0.000187  0.000124  0.000166   \n",
       "DIS     0.000200  0.000378  0.000205  ...  0.000138  0.000101  0.000173   \n",
       "GE      0.000241  0.000205  0.000447  ...  0.000171  0.000115  0.000166   \n",
       "HD      0.000191  0.000178  0.000185  ...  0.000140  0.000100  0.000165   \n",
       "HPQ     0.000210  0.000203  0.000211  ...  0.000144  0.000101  0.000219   \n",
       "IBM     0.000158  0.000143  0.000167  ...  0.000113  0.000082  0.000155   \n",
       "INTC    0.000201  0.000197  0.000210  ...  0.000147  0.000104  0.000273   \n",
       "JNJ     0.000095  0.000082  0.000091  ...  0.000085  0.000106  0.000080   \n",
       "JPM     0.000282  0.000238  0.000301  ...  0.000179  0.000137  0.000209   \n",
       "KO      0.000105  0.000092  0.000098  ...  0.000085  0.000079  0.000087   \n",
       "MCD     0.000115  0.000107  0.000112  ...  0.000085  0.000077  0.000093   \n",
       "MMM     0.000187  0.000138  0.000171  ...  0.000227  0.000089  0.000119   \n",
       "MRK     0.000124  0.000101  0.000115  ...  0.000089  0.000285  0.000096   \n",
       "MSFT    0.000166  0.000173  0.000166  ...  0.000119  0.000096  0.000376   \n",
       "PFE     0.000129  0.000106  0.000125  ...  0.000101  0.000145  0.000103   \n",
       "PG      0.000104  0.000079  0.000090  ...  0.000085  0.000083  0.000075   \n",
       "T       0.000137  0.000129  0.000137  ...  0.000099  0.000097  0.000112   \n",
       "TRV     0.000183  0.000149  0.000183  ...  0.000131  0.000112  0.000138   \n",
       "VZ      0.000111  0.000114  0.000117  ...  0.000085  0.000092  0.000105   \n",
       "WMT     0.000105  0.000096  0.000102  ...  0.000085  0.000076  0.000100   \n",
       "XOM     0.000179  0.000143  0.000167  ...  0.000123  0.000107  0.000121   \n",
       "\n",
       "Symbol       PFE        PG         T       TRV        VZ       WMT       XOM  \n",
       "Symbol                                                                        \n",
       "AAPL    0.000089  0.000069  0.000112  0.000133  0.000096  0.000099  0.000116  \n",
       "AXP     0.000142  0.000104  0.000165  0.000234  0.000138  0.000118  0.000184  \n",
       "BA      0.000115  0.000085  0.000127  0.000172  0.000099  0.000092  0.000175  \n",
       "BAC     0.000159  0.000111  0.000175  0.000266  0.000144  0.000116  0.000199  \n",
       "CAT     0.000117  0.000086  0.000126  0.000167  0.000104  0.000098  0.000182  \n",
       "CSCO    0.000110  0.000080  0.000132  0.000156  0.000122  0.000111  0.000126  \n",
       "CVX     0.000108  0.000070  0.000114  0.000154  0.000094  0.000068  0.000249  \n",
       "DD      0.000129  0.000104  0.000137  0.000183  0.000111  0.000105  0.000179  \n",
       "DIS     0.000106  0.000079  0.000129  0.000149  0.000114  0.000096  0.000143  \n",
       "GE      0.000125  0.000090  0.000137  0.000183  0.000117  0.000102  0.000167  \n",
       "HD      0.000106  0.000086  0.000115  0.000155  0.000104  0.000149  0.000116  \n",
       "HPQ     0.000102  0.000065  0.000123  0.000151  0.000110  0.000088  0.000143  \n",
       "IBM     0.000087  0.000065  0.000111  0.000123  0.000095  0.000080  0.000116  \n",
       "INTC    0.000109  0.000084  0.000133  0.000160  0.000120  0.000109  0.000140  \n",
       "JNJ     0.000105  0.000077  0.000076  0.000083  0.000070  0.000064  0.000084  \n",
       "JPM     0.000144  0.000099  0.000172  0.000249  0.000151  0.000120  0.000181  \n",
       "KO      0.000078  0.000087  0.000084  0.000094  0.000077  0.000068  0.000090  \n",
       "MCD     0.000072  0.000072  0.000076  0.000109  0.000068  0.000073  0.000084  \n",
       "MMM     0.000101  0.000085  0.000099  0.000131  0.000085  0.000085  0.000123  \n",
       "MRK     0.000145  0.000083  0.000097  0.000112  0.000092  0.000076  0.000107  \n",
       "MSFT    0.000103  0.000075  0.000112  0.000138  0.000105  0.000100  0.000121  \n",
       "PFE     0.000253  0.000082  0.000096  0.000112  0.000088  0.000080  0.000108  \n",
       "PG      0.000082  0.000185  0.000082  0.000087  0.000073  0.000078  0.000072  \n",
       "T       0.000096  0.000082  0.000265  0.000119  0.000170  0.000084  0.000118  \n",
       "TRV     0.000112  0.000087  0.000119  0.000335  0.000107  0.000094  0.000141  \n",
       "VZ      0.000088  0.000073  0.000170  0.000107  0.000227  0.000078  0.000097  \n",
       "WMT     0.000080  0.000078  0.000084  0.000094  0.000078  0.000223  0.000073  \n",
       "XOM     0.000108  0.000072  0.000118  0.000141  0.000097  0.000073  0.000282  \n",
       "\n",
       "[28 rows x 28 columns]"
      ]
     },
     "execution_count": 150,
     "metadata": {},
     "output_type": "execute_result"
    }
   ],
   "source": [
    "sigma = logret.cov()\n",
    "sigma"
   ]
  },
  {
   "cell_type": "markdown",
   "metadata": {
    "slideshow": {
     "slide_type": "subslide"
    }
   },
   "source": [
    "### Visualize volatility structure\n",
    "\n",
    "* Heatmap visualization of covariance and correlation"
   ]
  },
  {
   "cell_type": "code",
   "execution_count": 151,
   "metadata": {
    "slideshow": {
     "slide_type": "-"
    },
    "tags": []
   },
   "outputs": [
    {
     "data": {
      "image/png": "[encoded data removed]",
      "text/plain": [
       "<Figure size 2000x800 with 4 Axes>"
      ]
     },
     "metadata": {},
     "output_type": "display_data"
    }
   ],
   "source": [
    "import seaborn as sns\n",
    "fig, ax = plt.subplots(1, 2, figsize=(20, 8))\n",
    "sns.heatmap(logret.cov(),  square=True, ax=ax[0]).set_title('Covariance Matrix')\n",
    "sns.heatmap(logret.corr(), square=True, ax=ax[1]).set_title('Correlation Matrix')\n",
    "fig.show()"
   ]
  },
  {
   "cell_type": "markdown",
   "metadata": {
    "slideshow": {
     "slide_type": "subslide"
    }
   },
   "source": [
    "* Reordering variables group similar stocks together"
   ]
  },
  {
   "cell_type": "code",
   "execution_count": 152,
   "metadata": {
    "hideCode": true,
    "slideshow": {
     "slide_type": "-"
    },
    "tags": []
   },
   "outputs": [
    {
     "data": {
      "image/png": "[encoded data removed]",
      "text/plain": [
       "<Figure size 800x800 with 4 Axes>"
      ]
     },
     "metadata": {},
     "output_type": "display_data"
    }
   ],
   "source": [
    "clmap = sns.clustermap(logret.corr(), square=True, figsize=(8, 8));\n",
    "ordering = clmap.dendrogram_col.reordered_ind # save the hierarchical clustering generated variable ordering"
   ]
  },
  {
   "cell_type": "code",
   "execution_count": 154,
   "metadata": {
    "slideshow": {
     "slide_type": "subslide"
    },
    "tags": []
   },
   "outputs": [
    {
     "data": {
      "image/png": "[encoded data removed]",
      "text/plain": [
       "<Figure size 2000x800 with 4 Axes>"
      ]
     },
     "metadata": {},
     "output_type": "display_data"
    }
   ],
   "source": [
    "fig, ax = plt.subplots(1, 2, figsize=(20, 8))\n",
    "sns.heatmap(logret.cov().iloc[ordering, ordering],  square=True, ax=ax[0]).set_title('Covariance Matrix')\n",
    "sns.heatmap(logret.corr().iloc[ordering, ordering], square=True, ax=ax[1]).set_title('Correlation Matrix')\n",
    "fig.show()"
   ]
  },
  {
   "cell_type": "markdown",
   "metadata": {
    "slideshow": {
     "slide_type": "subslide"
    }
   },
   "source": [
    "## Calculate Minimum Variance Portfolio\n",
    "\n",
    "* $\\Sigma$ matrix is all that is specified\n",
    "* $\\Sigma$ characterizes the market\n",
    "* Minimize variance of portfolio $R_p$"
   ]
  },
  {
   "cell_type": "code",
   "execution_count": 155,
   "metadata": {
    "slideshow": {
     "slide_type": "-"
    },
    "tags": []
   },
   "outputs": [
    {
     "data": {
      "text/plain": [
       "8.475312929894935e-05"
      ]
     },
     "execution_count": 155,
     "metadata": {},
     "output_type": "execute_result"
    }
   ],
   "source": [
    "import cvxpy as cvx\n",
    "\n",
    "s, _ = sigma.shape # calculated from data\n",
    "\n",
    "w = cvx.Variable(s) # variables\n",
    "risk = cvx.quad_form(w, sigma.values)  # objective function\n",
    "prob = cvx.Problem(cvx.Minimize(risk), # optimization problem \n",
    "               [cvx.sum(w) == 1])      # fully invested portfolio constraint\n",
    "prob.solve()"
   ]
  },
  {
   "cell_type": "code",
   "execution_count": 156,
   "metadata": {
    "slideshow": {
     "slide_type": "subslide"
    },
    "tags": []
   },
   "outputs": [
    {
     "data": {
      "text/plain": [
       "array([ 0.01840305, -0.07094069, -0.00941297, -0.01185574, -0.00537252,\n",
       "       -0.01775234,  0.04070721, -0.03845569,  0.01438993, -0.0120795 ,\n",
       "       -0.02405513,  0.01195875,  0.09941592, -0.01912004,  0.22021356,\n",
       "       -0.03160801,  0.14509115,  0.15094193,  0.0807043 ,  0.01138406,\n",
       "        0.0156715 ,  0.03030452,  0.11989904,  0.00615969,  0.01523208,\n",
       "        0.10823311,  0.13363516,  0.01830767])"
      ]
     },
     "execution_count": 156,
     "metadata": {},
     "output_type": "execute_result"
    }
   ],
   "source": [
    "w.value"
   ]
  },
  {
   "cell_type": "markdown",
   "metadata": {
    "slideshow": {
     "slide_type": "-"
    }
   },
   "source": [
    "* Positive weights indicate long positions\n",
    "* Negative weights indicate [short positions](https://en.wikipedia.org/wiki/Short_(finance))\n",
    "* Must sum to 1 (constraint)"
   ]
  },
  {
   "cell_type": "markdown",
   "metadata": {
    "slideshow": {
     "slide_type": "subslide"
    }
   },
   "source": [
    "* Other portfolio optimization variations:  \n",
    "    http://nbviewer.jupyter.org/github/cvxgrp/cvx_short_course/blob/master/applications/portfolio_optimization.ipynb"
   ]
  },
  {
   "cell_type": "markdown",
   "metadata": {
    "hideCode": true,
    "slideshow": {
     "slide_type": "subslide"
    }
   },
   "source": [
    "* `cvxpy` package makes it easy to solve many types of problems.\n",
    "* Portfolio allocation problem with target expected return constraint:\n",
    "\n",
    "$$ \\min_{x\\in\\mathbb{R}^s}\\ \\ x^\\intercal \\Sigma x\\\\\n",
    "\\text{subject to }\\mu^\\intercal x\\geq \\mu^* \\text{, and } \\mathbf{1}^\\intercal x = 1,$$\n",
    "\n",
    "* Expected returns, $\\mu$, is estimated from data (also $\\Sigma$)\n",
    "* Investor specifies target return $\\mu^*$"
   ]
  },
  {
   "cell_type": "code",
   "execution_count": 157,
   "metadata": {
    "slideshow": {
     "slide_type": "-"
    },
    "tags": []
   },
   "outputs": [
    {
     "data": {
      "text/plain": [
       "0.00024229669724268397"
      ]
     },
     "execution_count": 157,
     "metadata": {},
     "output_type": "execute_result"
    }
   ],
   "source": [
    "import cvxpy as cvx\n",
    "\n",
    "s,_ = sigma.shape\n",
    "\n",
    "w = cvx.Variable(s)\n",
    "risk = cvx.quad_form(w, sigma.values)\n",
    "prob = cvx.Problem(cvx.Minimize(risk), \n",
    "               [\n",
    "                   cvx.sum(w) == 1,\n",
    "                   mu.values@w >= 0.001\n",
    "               ]) \n",
    "prob.solve()"
   ]
  },
  {
   "cell_type": "code",
   "execution_count": 158,
   "metadata": {
    "slideshow": {
     "slide_type": "subslide"
    },
    "tags": []
   },
   "outputs": [
    {
     "data": {
      "text/plain": [
       "array([ 0.36507146, -0.04741819,  0.06558798, -0.14806109,  0.26632647,\n",
       "       -0.15576439,  0.16765125, -0.16816969,  0.02079586, -0.36923091,\n",
       "        0.05310339, -0.05894516, -0.06063379, -0.21627761,  0.39287499,\n",
       "        0.1578997 ,  0.02527301,  0.3621894 ,  0.05442405, -0.01680885,\n",
       "        0.14598158, -0.09046354,  0.18965712, -0.04442902,  0.1629446 ,\n",
       "       -0.0420674 ,  0.00095267, -0.01246388])"
      ]
     },
     "execution_count": 158,
     "metadata": {},
     "output_type": "execute_result"
    }
   ],
   "source": [
    "w.value"
   ]
  },
  {
   "cell_type": "markdown",
   "metadata": {
    "slideshow": {
     "slide_type": "-"
    }
   },
   "source": [
    "* Higher target return achieved with more short positions\n",
    "* Constraint: $\\mu^\\intercal w=0.001$\n",
    "* Constraint: $\\mathbf{1}^\\intercal w=1$."
   ]
  },
  {
   "cell_type": "code",
   "execution_count": 159,
   "metadata": {
    "slideshow": {
     "slide_type": "subslide"
    },
    "tags": []
   },
   "outputs": [
    {
     "data": {
      "text/plain": [
       "0.9999999999999998"
      ]
     },
     "execution_count": 159,
     "metadata": {},
     "output_type": "execute_result"
    }
   ],
   "source": [
    "w.value.sum()"
   ]
  },
  {
   "cell_type": "code",
   "execution_count": 160,
   "metadata": {
    "slideshow": {
     "slide_type": "fragment"
    },
    "tags": []
   },
   "outputs": [
    {
     "data": {
      "text/plain": [
       "0.0010000000000000002"
      ]
     },
     "execution_count": 160,
     "metadata": {},
     "output_type": "execute_result"
    }
   ],
   "source": [
    "np.dot(mu.values,w.value)"
   ]
  },
  {
   "cell_type": "markdown",
   "metadata": {
    "slideshow": {
     "slide_type": "slide"
    }
   },
   "source": [
    "### Making the investment\n",
    "\n",
    "* Investing 1 dollar in a stock with 3% return over one time period makes me 3 cents:  \n",
    "    $$\\$1 \\cdot (1 + 0.03) = 1.03$$\n",
    "    \n",
    "* Investing a portfolio of worth $A_0$ dollars returns,\n",
    "    $$ A = A_0 (1+r_t^T w_t), $$\n",
    "    where elements of $r_t$ are returns at time $t$ and $w$ is portfolio allocation\n",
    "\n",
    "* Take allocation `w.value` and compute portfolio returns using historical returns: `logret`."
   ]
  },
  {
   "cell_type": "code",
   "execution_count": 163,
   "metadata": {
    "slideshow": {
     "slide_type": "-"
    },
    "tags": []
   },
   "outputs": [],
   "source": [
    "earned = np.dot(logret.fillna(method='bfill').values, w.value)"
   ]
  },
  {
   "cell_type": "markdown",
   "metadata": {
    "slideshow": {
     "slide_type": "subslide"
    }
   },
   "source": [
    "* Compute portfolio growth"
   ]
  },
  {
   "cell_type": "code",
   "execution_count": 164,
   "metadata": {
    "slideshow": {
     "slide_type": "fragment"
    },
    "tags": []
   },
   "outputs": [
    {
     "data": {
      "image/png": "[encoded data removed]",
      "text/plain": [
       "<Figure size 1000x800 with 1 Axes>"
      ]
     },
     "metadata": {},
     "output_type": "display_data"
    }
   ],
   "source": [
    "earnedcp = (1+earned[1:]).cumprod()\n",
    "ecp = pd.DataFrame(data=earnedcp.T, index=logret.index.values[1:], columns=['Portfolio Value'])\n",
    "ecp.plot(figsize=(10, 8));"
   ]
  },
  {
   "cell_type": "code",
   "execution_count": 165,
   "metadata": {
    "slideshow": {
     "slide_type": "subslide"
    },
    "tags": []
   },
   "outputs": [
    {
     "data": {
      "image/png": "[encoded data removed]",
      "text/plain": [
       "<Figure size 1000x800 with 1 Axes>"
      ]
     },
     "metadata": {},
     "output_type": "display_data"
    }
   ],
   "source": [
    "np.log10(ecp).plot(figsize=(10, 8));"
   ]
  },
  {
   "cell_type": "code",
   "execution_count": 166,
   "metadata": {
    "slideshow": {
     "slide_type": "subslide"
    },
    "tags": []
   },
   "outputs": [
    {
     "data": {
      "text/html": [
       "<div>\n",
       "<style scoped>\n",
       "    .dataframe tbody tr th:only-of-type {\n",
       "        vertical-align: middle;\n",
       "    }\n",
       "\n",
       "    .dataframe tbody tr th {\n",
       "        vertical-align: top;\n",
       "    }\n",
       "\n",
       "    .dataframe thead th {\n",
       "        text-align: right;\n",
       "    }\n",
       "</style>\n",
       "<table border=\"1\" class=\"dataframe\">\n",
       "  <thead>\n",
       "    <tr style=\"text-align: right;\">\n",
       "      <th></th>\n",
       "      <th>Portfolio Value</th>\n",
       "    </tr>\n",
       "  </thead>\n",
       "  <tbody>\n",
       "    <tr>\n",
       "      <th>2000-01-04</th>\n",
       "      <td>0.988871</td>\n",
       "    </tr>\n",
       "    <tr>\n",
       "      <th>2000-01-05</th>\n",
       "      <td>1.003368</td>\n",
       "    </tr>\n",
       "    <tr>\n",
       "      <th>2000-01-06</th>\n",
       "      <td>1.002818</td>\n",
       "    </tr>\n",
       "    <tr>\n",
       "      <th>2000-01-07</th>\n",
       "      <td>1.048914</td>\n",
       "    </tr>\n",
       "    <tr>\n",
       "      <th>2000-01-10</th>\n",
       "      <td>1.001280</td>\n",
       "    </tr>\n",
       "    <tr>\n",
       "      <th>...</th>\n",
       "      <td>...</td>\n",
       "    </tr>\n",
       "    <tr>\n",
       "      <th>2023-04-24</th>\n",
       "      <td>169.416440</td>\n",
       "    </tr>\n",
       "    <tr>\n",
       "      <th>2023-04-25</th>\n",
       "      <td>170.310863</td>\n",
       "    </tr>\n",
       "    <tr>\n",
       "      <th>2023-04-26</th>\n",
       "      <td>171.088126</td>\n",
       "    </tr>\n",
       "    <tr>\n",
       "      <th>2023-04-27</th>\n",
       "      <td>172.289683</td>\n",
       "    </tr>\n",
       "    <tr>\n",
       "      <th>2023-04-28</th>\n",
       "      <td>172.050726</td>\n",
       "    </tr>\n",
       "  </tbody>\n",
       "</table>\n",
       "<p>5867 rows × 1 columns</p>\n",
       "</div>"
      ],
      "text/plain": [
       "            Portfolio Value\n",
       "2000-01-04         0.988871\n",
       "2000-01-05         1.003368\n",
       "2000-01-06         1.002818\n",
       "2000-01-07         1.048914\n",
       "2000-01-10         1.001280\n",
       "...                     ...\n",
       "2023-04-24       169.416440\n",
       "2023-04-25       170.310863\n",
       "2023-04-26       171.088126\n",
       "2023-04-27       172.289683\n",
       "2023-04-28       172.050726\n",
       "\n",
       "[5867 rows x 1 columns]"
      ]
     },
     "execution_count": 166,
     "metadata": {},
     "output_type": "execute_result"
    }
   ],
   "source": [
    "ecp"
   ]
  },
  {
   "cell_type": "markdown",
   "metadata": {
    "slideshow": {
     "slide_type": "subslide"
    }
   },
   "source": [
    "* 1 dollar invested in 2000 would be 98 dollars today?\n",
    "* Unrealistic! Why?\n",
    "* Having knowledge of 20 years worth of data is cheating!"
   ]
  },
  {
   "cell_type": "markdown",
   "metadata": {
    "slideshow": {
     "slide_type": "subslide"
    }
   },
   "source": [
    "### Quantify results"
   ]
  },
  {
   "cell_type": "code",
   "execution_count": 167,
   "metadata": {
    "slideshow": {
     "slide_type": "-"
    },
    "tags": []
   },
   "outputs": [
    {
     "name": "stdout",
     "output_type": "stream",
     "text": [
      "portfolio average returns: 0.000997933081739709\n",
      "          average stddev : 0.015564034810263437\n",
      "\n",
      "component stocks average: minimum: -0.000087\n",
      "                          average: 0.000261\n",
      "                          maximum: 0.000903\n",
      "component stocks stddev : minimum: 0.012216\n",
      "                          average: 0.019058\n",
      "                          maximum: 0.028196\n"
     ]
    }
   ],
   "source": [
    "retinfo = logret.mean(axis=0).agg(['min', 'mean', 'max'])\n",
    "stdinfo = logret.std(axis=0).agg(['min', 'mean', 'max'])\n",
    "print('portfolio average returns:', earned.mean())\n",
    "print('          average stddev :', earned.std())\n",
    "print('')\n",
    "print(\"component stocks average: minimum: %f\\n                          average: %f\\n                          maximum: %f\" % tuple(retinfo))\n",
    "print(\"component stocks stddev : minimum: %f\\n                          average: %f\\n                          maximum: %f\" % tuple(stdinfo))"
   ]
  },
  {
   "cell_type": "markdown",
   "metadata": {
    "slideshow": {
     "slide_type": "subslide"
    }
   },
   "source": [
    "Annual return would be:"
   ]
  },
  {
   "cell_type": "code",
   "execution_count": 168,
   "metadata": {
    "slideshow": {
     "slide_type": "-"
    },
    "tags": []
   },
   "outputs": [
    {
     "data": {
      "text/plain": [
       "0.43916624489491296"
      ]
     },
     "execution_count": 168,
     "metadata": {},
     "output_type": "execute_result"
    }
   ],
   "source": [
    "(1+earned.mean())**365 - 1"
   ]
  },
  {
   "cell_type": "markdown",
   "metadata": {
    "slideshow": {
     "slide_type": "fragment"
    }
   },
   "source": [
    "Again, unrealistic"
   ]
  },
  {
   "cell_type": "markdown",
   "metadata": {
    "slideshow": {
     "slide_type": "slide"
    }
   },
   "source": [
    "### Qualitative Visualization of Relationships\n",
    "\n",
    "* Correlations are stricly pairwise quantities (what about other stocks?)\n",
    "* Inverse covariance"
   ]
  },
  {
   "cell_type": "code",
   "execution_count": 169,
   "metadata": {
    "slideshow": {
     "slide_type": "-"
    },
    "tags": []
   },
   "outputs": [],
   "source": [
    "from sklearn import preprocessing\n",
    "scaler = preprocessing.StandardScaler()\n",
    "scaled_df = scaler.fit_transform(logret.dropna().values)\n",
    "scaled_df = pd.DataFrame(scaled_df, columns=logret.columns, index=logret.index[1:])"
   ]
  },
  {
   "cell_type": "markdown",
   "metadata": {},
   "source": [
    "#### Correlation Matrix: 2020"
   ]
  },
  {
   "cell_type": "code",
   "execution_count": 170,
   "metadata": {
    "tags": []
   },
   "outputs": [
    {
     "data": {
      "image/png": "[encoded data removed]",
      "text/plain": [
       "<Figure size 800x800 with 4 Axes>"
      ]
     },
     "metadata": {},
     "output_type": "display_data"
    }
   ],
   "source": [
    "clmap = sns.clustermap(scaled_df.loc['2020':'2020'].corr(), square=True, figsize=(8, 8));\n",
    "ordering = clmap.dendrogram_col.reordered_ind # save the hierarchical clustering generated variable ordering"
   ]
  },
  {
   "cell_type": "markdown",
   "metadata": {
    "slideshow": {
     "slide_type": "subslide"
    }
   },
   "source": [
    "#### Correlation Matrix: 2019 vs. 2020"
   ]
  },
  {
   "cell_type": "code",
   "execution_count": 171,
   "metadata": {
    "slideshow": {
     "slide_type": "-"
    },
    "tags": []
   },
   "outputs": [
    {
     "data": {
      "image/png": "[encoded data removed]",
      "text/plain": [
       "<Figure size 2000x800 with 4 Axes>"
      ]
     },
     "metadata": {},
     "output_type": "display_data"
    }
   ],
   "source": [
    "fig, ax = plt.subplots(1, 2, figsize=(20, 8))\n",
    "\n",
    "sns.heatmap(scaled_df.loc['2019':'2019'].corr().iloc[ordering, ordering],  square=True, ax=ax[0]).set_title('Correlation Matrix: 2019')\n",
    "sns.heatmap(scaled_df.loc['2020':'2020'].corr().iloc[ordering, ordering],  square=True, ax=ax[1]).set_title('Correlation Matrix: 2020')\n",
    "fig.show()"
   ]
  },
  {
   "cell_type": "markdown",
   "metadata": {
    "slideshow": {
     "slide_type": "slide"
    }
   },
   "source": [
    "### Reality check\n",
    "\n",
    "Obviously, this cannot be realistic. What aspects were unrealistic?\n",
    "\n",
    "1. We didn't take time into consideration: e.g. estimation of $\\Sigma$ and selecting `w`.\n",
    "1. We are investing with knowledge of the future returns!\n",
    "1. We did not take into account transaction costs (we will have to) \n",
    "1. We did not take into account shorting requires borrowing of money\n",
    "1. Is investing in stocks better than leaving our money in a savings account? What is the interest rate?\n",
    "\n",
    "Sharpe ratio tries to quantify the added benefit, i.e., excess returns, of investing in the volatile market by accounting for the volatility:\n",
    "$$\\text{Sharpe ratio}=\\frac{E\\left[R_{p}-R_{f}\\right]}{\\sigma_{p}}$$\n",
    "where $R_f$ is the risk-free rate."
   ]
  },
  {
   "cell_type": "markdown",
   "metadata": {
    "slideshow": {
     "slide_type": "subslide"
    }
   },
   "source": [
    "### Other considerations\n",
    "\n",
    "1. Picking component stocks (choosing what to invest in)\n",
    "    1. Playing the role of the fund manager\n",
    "    1. Expertise about a specific market\n",
    "    1. Warren Buffet says stick with long term _value_ investing strategies\n",
    "    1. High-frequency trading makes money by constantly shuffling investments and making incremental returns\n",
    "    1. Where is the middle ground? i.e., choosing strategies\n",
    "1. Choosing monitoring strategies (keeping an eye out for changes in the market)\n",
    "    1. Estimation of $\\Sigma$ becomes challenging with shorter historical data\n",
    "    1. \"Regularized\" estimates of $\\Sigma$: Ledoit-Wolfe, Condition number, Sparsity inducing, Low-rank\n",
    "    1. How big of a change in the market is signficant change?\n",
    "    1. Where to look for a change? Component stocks? Market indices? Economic indicators? Consumer sentiment? Policy changes?\n",
    "    1. Deciding when to take action. How big of a change warrants an action? (Actions cost money)\n",
    "1. Choosing rebalancing strategy (deciding when to shuffle your investments)  \n",
    "    1. Fixed intervals? dynamic intervals? \n",
    "    1. Allowing for shorts?\n",
    "    1. If many component stocks, do you trade all of them even if the change is small? etc."
   ]
  },
  {
   "cell_type": "markdown",
   "metadata": {},
   "source": [
    "## Other optimization problems for modeling and learning\n",
    "\n",
    "1. [Online advertising](https://github.com/UCSB-PSTAT-134-234/Spring2019/blob/master/labs/lab05/lab05.ipynb)\n",
    "1. [Trend filtering](https://web.stanford.edu/~boyd/l1_tf/), [CVX example](https://www.cvxpy.org/examples/applications/l1_trend_filter.html)\n",
    "1. [Catching a smuggler](https://www.cvxpy.org/examples/applications/interdiction.html)\n",
    "1. [Estimating sparse inverse covariance matrix](https://www.cvxpy.org/examples/applications/sparse_covariance_est.html)\n",
    "1. [Max-flow, Min-cut problem](https://www.cvxpy.org/examples/applications/OOCO.html)\n",
    "1. Many more!!"
   ]
  },
  {
   "cell_type": "code",
   "execution_count": null,
   "metadata": {},
   "outputs": [],
   "source": []
  }
 ],
 "metadata": {
  "celltoolbar": "Slideshow",
  "kernelspec": {
   "display_name": "Python 3 (ipykernel)",
   "language": "python",
   "name": "python3"
  },
  "language_info": {
   "codemirror_mode": {
    "name": "ipython",
    "version": 3
   },
   "file_extension": ".py",
   "mimetype": "text/x-python",
   "name": "python",
   "nbconvert_exporter": "python",
   "pygments_lexer": "ipython3",
   "version": "3.10.9"
  },
  "toc": {
   "base_numbering": 1,
   "nav_menu": {},
   "number_sections": false,
   "sideBar": true,
   "skip_h1_title": false,
   "title_cell": "Table of Contents",
   "title_sidebar": "Contents",
   "toc_cell": false,
   "toc_position": {
    "height": "calc(100% - 180px)",
    "left": "10px",
    "top": "150px",
    "width": "252.667px"
   },
   "toc_section_display": true,
   "toc_window_display": false
  },
  "vscode": {
   "interpreter": {
    "hash": "d4d1e4263499bec80672ea0156c357c1ee493ec2b1c70f0acce89fc37c4a6abe"
   }
  }
 },
 "nbformat": 4,
 "nbformat_minor": 4
}
